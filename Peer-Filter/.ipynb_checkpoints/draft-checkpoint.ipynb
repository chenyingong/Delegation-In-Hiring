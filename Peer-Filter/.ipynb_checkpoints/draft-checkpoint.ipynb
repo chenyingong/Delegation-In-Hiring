{
 "cells": [
  {
   "cell_type": "code",
   "execution_count": 1,
   "metadata": {},
   "outputs": [],
   "source": [
    "import datetime\n",
    "import time\n",
    "import os\n",
    "import sys\n",
    "import pandas as pd\n",
    "import numpy as np"
   ]
  },
  {
   "cell_type": "code",
   "execution_count": 2,
   "metadata": {},
   "outputs": [],
   "source": [
    "path1 = \"/Users/gongchenyin/PycharmProjects/ra/Peer-Filter/src/5月汇总.xlsx\"\n",
    "path2 = \"/Users/gongchenyin/PycharmProjects/ra/Peer-Filter/src/氧气项目0617.xlsx\"\n",
    "path3 = \"/Users/gongchenyin/PycharmProjects/ra/Peer-Filter/src/总表.xlsx\""
   ]
  },
  {
   "cell_type": "code",
   "execution_count": 3,
   "metadata": {},
   "outputs": [],
   "source": [
    "# 去除字符串s首尾空格 ？是否可以直接使用strip函数？\n",
    "def rm_space(s):\n",
    "    s = s.strip()\n",
    "    return s"
   ]
  },
  {
   "cell_type": "markdown",
   "metadata": {},
   "source": [
    "## step 1"
   ]
  },
  {
   "cell_type": "code",
   "execution_count": 4,
   "metadata": {},
   "outputs": [],
   "source": [
    "df1 = pd.read_excel(path1)  # 上月业绩\n",
    "df2 = pd.read_excel(path2)  # 员工信息\n",
    "df3 = pd.read_excel(path3)  # 总表"
   ]
  },
  {
   "cell_type": "markdown",
   "metadata": {},
   "source": [
    "## step 2"
   ]
  },
  {
   "cell_type": "code",
   "execution_count": 5,
   "metadata": {},
   "outputs": [],
   "source": [
    "## df1预处理，保留有效变量，删除非技师（SPA师、理疗师、专家）\n",
    "df1 = pd.DataFrame(df1, columns=[\"店名\", \"工号\", \"岗位\", \"姓名\", \"点号合计\", \"销售业绩\"])"
   ]
  },
  {
   "cell_type": "code",
   "execution_count": 6,
   "metadata": {},
   "outputs": [],
   "source": [
    "df1 = df1[df1[\"岗位\"].isin([\"SPA师\", \"理疗师\", \"专家\"])]"
   ]
  },
  {
   "cell_type": "code",
   "execution_count": 7,
   "metadata": {
    "scrolled": false
   },
   "outputs": [],
   "source": [
    "df1.reset_index(drop=True, inplace=True)"
   ]
  },
  {
   "cell_type": "code",
   "execution_count": 8,
   "metadata": {},
   "outputs": [],
   "source": [
    "# df2预处理，保留有效变量，删除非技师\n",
    "df2 = pd.DataFrame(df2, columns=[\"二级部门\", \"部门\", \"员工号\", \"岗位名称\", \"姓名\", \"入职日期\"])"
   ]
  },
  {
   "cell_type": "code",
   "execution_count": 9,
   "metadata": {},
   "outputs": [],
   "source": [
    "df2 = df2[df2[\"岗位名称\"].isin([\"SPA师\", \"理疗师\", \"专家\"])]"
   ]
  },
  {
   "cell_type": "code",
   "execution_count": 10,
   "metadata": {},
   "outputs": [],
   "source": [
    "df2.reset_index(drop=True, inplace=True)"
   ]
  },
  {
   "cell_type": "code",
   "execution_count": 11,
   "metadata": {},
   "outputs": [
    {
     "data": {
      "text/plain": [
       "str"
      ]
     },
     "execution_count": 11,
     "metadata": {},
     "output_type": "execute_result"
    }
   ],
   "source": [
    "type(df2[\"入职日期\"][0])"
   ]
  },
  {
   "cell_type": "code",
   "execution_count": 12,
   "metadata": {},
   "outputs": [],
   "source": [
    "# df3预处理，保留有效变量，删除非技师\n",
    "df3 = pd.DataFrame(df3, columns=[\"工号\", \"姓名\", \"岗位\", \"入职日期\", \"出勤\", \"点号合计\", \"销售业绩\", \"工资年月\", \"部门\", \"区域\"])"
   ]
  },
  {
   "cell_type": "code",
   "execution_count": 13,
   "metadata": {},
   "outputs": [],
   "source": [
    "df3[[\"姓名\", \"岗位\", \"部门\", \"区域\"]] = df3[[\"姓名\", \"岗位\", \"部门\", \"区域\"]].applymap(rm_space)\n",
    "not_in_id =  df3[~df3[\"岗位\"].isin([\"SPA师\", \"理疗师\", \"专家\"])][\"工号\"]\n",
    "df3 = df3[~df3[\"岗位\"].isin(not_in_id)]\n",
    "df3.reset_index(drop=True, inplace=True)"
   ]
  },
  {
   "cell_type": "code",
   "execution_count": 14,
   "metadata": {},
   "outputs": [
    {
     "data": {
      "text/html": [
       "<div>\n",
       "<style scoped>\n",
       "    .dataframe tbody tr th:only-of-type {\n",
       "        vertical-align: middle;\n",
       "    }\n",
       "\n",
       "    .dataframe tbody tr th {\n",
       "        vertical-align: top;\n",
       "    }\n",
       "\n",
       "    .dataframe thead th {\n",
       "        text-align: right;\n",
       "    }\n",
       "</style>\n",
       "<table border=\"1\" class=\"dataframe\">\n",
       "  <thead>\n",
       "    <tr style=\"text-align: right;\">\n",
       "      <th></th>\n",
       "      <th>工号</th>\n",
       "      <th>姓名</th>\n",
       "      <th>岗位</th>\n",
       "      <th>入职日期</th>\n",
       "      <th>出勤</th>\n",
       "      <th>点号合计</th>\n",
       "      <th>销售业绩</th>\n",
       "      <th>工资年月</th>\n",
       "      <th>部门</th>\n",
       "      <th>区域</th>\n",
       "    </tr>\n",
       "  </thead>\n",
       "  <tbody>\n",
       "    <tr>\n",
       "      <th>0</th>\n",
       "      <td>171031039.0</td>\n",
       "      <td>王怀北</td>\n",
       "      <td>专家</td>\n",
       "      <td>2017-10-30 00:00:00</td>\n",
       "      <td>5.0</td>\n",
       "      <td>7.0</td>\n",
       "      <td>6200.0</td>\n",
       "      <td>2018-03-01</td>\n",
       "      <td>济南旅游路店</td>\n",
       "      <td>济南区域</td>\n",
       "    </tr>\n",
       "    <tr>\n",
       "      <th>1</th>\n",
       "      <td>171031039.0</td>\n",
       "      <td>王怀北</td>\n",
       "      <td>专家</td>\n",
       "      <td>2017-10-30 00:00:00</td>\n",
       "      <td>30.0</td>\n",
       "      <td>29.0</td>\n",
       "      <td>1900.0</td>\n",
       "      <td>2018-12-01</td>\n",
       "      <td>济南旅游路店</td>\n",
       "      <td>济南区域</td>\n",
       "    </tr>\n",
       "    <tr>\n",
       "      <th>2</th>\n",
       "      <td>171031039.0</td>\n",
       "      <td>王怀北</td>\n",
       "      <td>专家</td>\n",
       "      <td>2017-10-30 00:00:00</td>\n",
       "      <td>30.0</td>\n",
       "      <td>32.0</td>\n",
       "      <td>6300.0</td>\n",
       "      <td>2018-01-01</td>\n",
       "      <td>济南旅游路店</td>\n",
       "      <td>济南区域</td>\n",
       "    </tr>\n",
       "    <tr>\n",
       "      <th>3</th>\n",
       "      <td>171031039.0</td>\n",
       "      <td>王怀北</td>\n",
       "      <td>专家</td>\n",
       "      <td>2017-10-30 00:00:00</td>\n",
       "      <td>30.0</td>\n",
       "      <td>83.0</td>\n",
       "      <td>30634.0</td>\n",
       "      <td>2018-10-01</td>\n",
       "      <td>济南旅游路店</td>\n",
       "      <td>济南区域</td>\n",
       "    </tr>\n",
       "    <tr>\n",
       "      <th>4</th>\n",
       "      <td>171031039.0</td>\n",
       "      <td>王怀北</td>\n",
       "      <td>专家</td>\n",
       "      <td>2017-10-30 00:00:00</td>\n",
       "      <td>10.0</td>\n",
       "      <td>1.0</td>\n",
       "      <td>0.0</td>\n",
       "      <td>2018-05-01</td>\n",
       "      <td>济南旅游路店</td>\n",
       "      <td>济南区域</td>\n",
       "    </tr>\n",
       "  </tbody>\n",
       "</table>\n",
       "</div>"
      ],
      "text/plain": [
       "            工号   姓名  岗位                 入职日期    出勤  点号合计     销售业绩       工资年月  \\\n",
       "0  171031039.0  王怀北  专家  2017-10-30 00:00:00   5.0   7.0   6200.0 2018-03-01   \n",
       "1  171031039.0  王怀北  专家  2017-10-30 00:00:00  30.0  29.0   1900.0 2018-12-01   \n",
       "2  171031039.0  王怀北  专家  2017-10-30 00:00:00  30.0  32.0   6300.0 2018-01-01   \n",
       "3  171031039.0  王怀北  专家  2017-10-30 00:00:00  30.0  83.0  30634.0 2018-10-01   \n",
       "4  171031039.0  王怀北  专家  2017-10-30 00:00:00  10.0   1.0      0.0 2018-05-01   \n",
       "\n",
       "       部门    区域  \n",
       "0  济南旅游路店  济南区域  \n",
       "1  济南旅游路店  济南区域  \n",
       "2  济南旅游路店  济南区域  \n",
       "3  济南旅游路店  济南区域  \n",
       "4  济南旅游路店  济南区域  "
      ]
     },
     "execution_count": 14,
     "metadata": {},
     "output_type": "execute_result"
    }
   ],
   "source": [
    "df3.head()"
   ]
  },
  {
   "cell_type": "code",
   "execution_count": 15,
   "metadata": {},
   "outputs": [
    {
     "data": {
      "text/html": [
       "<div>\n",
       "<style scoped>\n",
       "    .dataframe tbody tr th:only-of-type {\n",
       "        vertical-align: middle;\n",
       "    }\n",
       "\n",
       "    .dataframe tbody tr th {\n",
       "        vertical-align: top;\n",
       "    }\n",
       "\n",
       "    .dataframe thead th {\n",
       "        text-align: right;\n",
       "    }\n",
       "</style>\n",
       "<table border=\"1\" class=\"dataframe\">\n",
       "  <thead>\n",
       "    <tr style=\"text-align: right;\">\n",
       "      <th></th>\n",
       "      <th>工号</th>\n",
       "      <th>姓名</th>\n",
       "      <th>岗位</th>\n",
       "      <th>入职日期</th>\n",
       "      <th>出勤</th>\n",
       "      <th>点号合计</th>\n",
       "      <th>销售业绩</th>\n",
       "      <th>工资年月</th>\n",
       "      <th>部门</th>\n",
       "      <th>区域</th>\n",
       "    </tr>\n",
       "  </thead>\n",
       "  <tbody>\n",
       "    <tr>\n",
       "      <th>10330</th>\n",
       "      <td>NaN</td>\n",
       "      <td>高严</td>\n",
       "      <td>专家</td>\n",
       "      <td>2018-03-07 00:00:00</td>\n",
       "      <td>30.0</td>\n",
       "      <td>7.0</td>\n",
       "      <td>0.00</td>\n",
       "      <td>2018-04-01</td>\n",
       "      <td>济南东环店</td>\n",
       "      <td>济南区域</td>\n",
       "    </tr>\n",
       "    <tr>\n",
       "      <th>10331</th>\n",
       "      <td>NaN</td>\n",
       "      <td>郭春红</td>\n",
       "      <td>SPA师</td>\n",
       "      <td>2003-06-01 00:00:00</td>\n",
       "      <td>27.0</td>\n",
       "      <td>64.0</td>\n",
       "      <td>67080.00</td>\n",
       "      <td>2018-08-01</td>\n",
       "      <td>济南东环店</td>\n",
       "      <td>济南区域</td>\n",
       "    </tr>\n",
       "    <tr>\n",
       "      <th>10332</th>\n",
       "      <td>NaN</td>\n",
       "      <td>张苗苗</td>\n",
       "      <td>理疗师</td>\n",
       "      <td>2018-03-13 00:00:00</td>\n",
       "      <td>30.0</td>\n",
       "      <td>0.0</td>\n",
       "      <td>3000.00</td>\n",
       "      <td>2018-06-01</td>\n",
       "      <td>银川大阅城店</td>\n",
       "      <td>济南区域</td>\n",
       "    </tr>\n",
       "    <tr>\n",
       "      <th>10333</th>\n",
       "      <td>NaN</td>\n",
       "      <td>刘盼盼</td>\n",
       "      <td>SPA师</td>\n",
       "      <td>2016-10-14 00:00:00</td>\n",
       "      <td>30.0</td>\n",
       "      <td>57.0</td>\n",
       "      <td>48699.96</td>\n",
       "      <td>2018-07-01</td>\n",
       "      <td>济南奥体店</td>\n",
       "      <td>济南区域</td>\n",
       "    </tr>\n",
       "    <tr>\n",
       "      <th>10334</th>\n",
       "      <td>NaN</td>\n",
       "      <td>曹秀玲</td>\n",
       "      <td>专家</td>\n",
       "      <td>2018-08-22 00:00:00</td>\n",
       "      <td>13.0</td>\n",
       "      <td>7.0</td>\n",
       "      <td>1780.00</td>\n",
       "      <td>2019-03-01</td>\n",
       "      <td>济南区域济南解放桥店</td>\n",
       "      <td>济南区域</td>\n",
       "    </tr>\n",
       "    <tr>\n",
       "      <th>10335</th>\n",
       "      <td>NaN</td>\n",
       "      <td>孟丛丛</td>\n",
       "      <td>理疗师</td>\n",
       "      <td>2017-04-06 00:00:00</td>\n",
       "      <td>20.0</td>\n",
       "      <td>42.0</td>\n",
       "      <td>16880.00</td>\n",
       "      <td>2018-04-01</td>\n",
       "      <td>济南东环店</td>\n",
       "      <td>济南区域</td>\n",
       "    </tr>\n",
       "    <tr>\n",
       "      <th>10336</th>\n",
       "      <td>NaN</td>\n",
       "      <td>韩妮</td>\n",
       "      <td>理疗师</td>\n",
       "      <td>2018-05-01 00:00:00</td>\n",
       "      <td>29.0</td>\n",
       "      <td>6.0</td>\n",
       "      <td>0.00</td>\n",
       "      <td>2018-06-01</td>\n",
       "      <td>济南东环店</td>\n",
       "      <td>济南区域</td>\n",
       "    </tr>\n",
       "    <tr>\n",
       "      <th>10337</th>\n",
       "      <td>NaN</td>\n",
       "      <td>张雪</td>\n",
       "      <td>SPA师</td>\n",
       "      <td>2014-10-05 00:00:00</td>\n",
       "      <td>15.0</td>\n",
       "      <td>14.0</td>\n",
       "      <td>6021.00</td>\n",
       "      <td>2018-06-01</td>\n",
       "      <td>济南奥体店</td>\n",
       "      <td>济南区域</td>\n",
       "    </tr>\n",
       "    <tr>\n",
       "      <th>10338</th>\n",
       "      <td>NaN</td>\n",
       "      <td>王玉琴</td>\n",
       "      <td>理疗师</td>\n",
       "      <td>2016-12-06 00:00:00</td>\n",
       "      <td>30.0</td>\n",
       "      <td>96.0</td>\n",
       "      <td>80750.00</td>\n",
       "      <td>2018-06-01</td>\n",
       "      <td>天津鼓楼店</td>\n",
       "      <td>济南区域</td>\n",
       "    </tr>\n",
       "    <tr>\n",
       "      <th>10339</th>\n",
       "      <td>NaN</td>\n",
       "      <td>赵玲</td>\n",
       "      <td>理疗师</td>\n",
       "      <td>NaN</td>\n",
       "      <td>30.0</td>\n",
       "      <td>90.0</td>\n",
       "      <td>145800.10</td>\n",
       "      <td>2018-10-01</td>\n",
       "      <td>天津鼓楼店</td>\n",
       "      <td>济南区域</td>\n",
       "    </tr>\n",
       "  </tbody>\n",
       "</table>\n",
       "</div>"
      ],
      "text/plain": [
       "       工号   姓名    岗位                 入职日期    出勤  点号合计       销售业绩       工资年月  \\\n",
       "10330 NaN   高严    专家  2018-03-07 00:00:00  30.0   7.0       0.00 2018-04-01   \n",
       "10331 NaN  郭春红  SPA师  2003-06-01 00:00:00  27.0  64.0   67080.00 2018-08-01   \n",
       "10332 NaN  张苗苗   理疗师  2018-03-13 00:00:00  30.0   0.0    3000.00 2018-06-01   \n",
       "10333 NaN  刘盼盼  SPA师  2016-10-14 00:00:00  30.0  57.0   48699.96 2018-07-01   \n",
       "10334 NaN  曹秀玲    专家  2018-08-22 00:00:00  13.0   7.0    1780.00 2019-03-01   \n",
       "10335 NaN  孟丛丛   理疗师  2017-04-06 00:00:00  20.0  42.0   16880.00 2018-04-01   \n",
       "10336 NaN   韩妮   理疗师  2018-05-01 00:00:00  29.0   6.0       0.00 2018-06-01   \n",
       "10337 NaN   张雪  SPA师  2014-10-05 00:00:00  15.0  14.0    6021.00 2018-06-01   \n",
       "10338 NaN  王玉琴   理疗师  2016-12-06 00:00:00  30.0  96.0   80750.00 2018-06-01   \n",
       "10339 NaN   赵玲   理疗师                  NaN  30.0  90.0  145800.10 2018-10-01   \n",
       "\n",
       "               部门    区域  \n",
       "10330       济南东环店  济南区域  \n",
       "10331       济南东环店  济南区域  \n",
       "10332      银川大阅城店  济南区域  \n",
       "10333       济南奥体店  济南区域  \n",
       "10334  济南区域济南解放桥店  济南区域  \n",
       "10335       济南东环店  济南区域  \n",
       "10336       济南东环店  济南区域  \n",
       "10337       济南奥体店  济南区域  \n",
       "10338       天津鼓楼店  济南区域  \n",
       "10339       天津鼓楼店  济南区域  "
      ]
     },
     "execution_count": 15,
     "metadata": {},
     "output_type": "execute_result"
    }
   ],
   "source": [
    "# df3中有些人没有工号信息\n",
    "df3[np.isnan(df3[\"工号\"])].head(10)"
   ]
  },
  {
   "cell_type": "code",
   "execution_count": 16,
   "metadata": {},
   "outputs": [],
   "source": [
    "# 补全这些人的id，如果姓名、区域一致，部门与姓名相同且id值存在的条目之一至少是相同的。根据索引重新匹配。\n",
    "# 仍然存在极端情况：同名、同区域、同店名，但不是同一人\n",
    "# 防止极端情况，是否可以对比入职日期？不行：这些员工中有些人入职日期也是空值。\n",
    "nan_id = df3[np.isnan(df3[\"工号\"])]"
   ]
  },
  {
   "cell_type": "code",
   "execution_count": 17,
   "metadata": {},
   "outputs": [],
   "source": [
    "# 空值员工索引\n",
    "nan_id_list = nan_id.index.tolist()"
   ]
  },
  {
   "cell_type": "code",
   "execution_count": 18,
   "metadata": {},
   "outputs": [],
   "source": [
    "# 发现没有id的员工基本是完全缺失信息的，暂时不解决"
   ]
  },
  {
   "cell_type": "code",
   "execution_count": 19,
   "metadata": {},
   "outputs": [
    {
     "data": {
      "text/html": [
       "<div>\n",
       "<style scoped>\n",
       "    .dataframe tbody tr th:only-of-type {\n",
       "        vertical-align: middle;\n",
       "    }\n",
       "\n",
       "    .dataframe tbody tr th {\n",
       "        vertical-align: top;\n",
       "    }\n",
       "\n",
       "    .dataframe thead th {\n",
       "        text-align: right;\n",
       "    }\n",
       "</style>\n",
       "<table border=\"1\" class=\"dataframe\">\n",
       "  <thead>\n",
       "    <tr style=\"text-align: right;\">\n",
       "      <th></th>\n",
       "      <th>店名</th>\n",
       "      <th>工号</th>\n",
       "      <th>岗位</th>\n",
       "      <th>姓名</th>\n",
       "      <th>点号合计</th>\n",
       "      <th>销售业绩</th>\n",
       "    </tr>\n",
       "  </thead>\n",
       "  <tbody>\n",
       "    <tr>\n",
       "      <th>0</th>\n",
       "      <td>青岛区域城阳正阳路店</td>\n",
       "      <td>170320035</td>\n",
       "      <td>专家</td>\n",
       "      <td>管清芳</td>\n",
       "      <td>40.0</td>\n",
       "      <td>32090.5</td>\n",
       "    </tr>\n",
       "    <tr>\n",
       "      <th>1</th>\n",
       "      <td>青岛区域城阳正阳路店</td>\n",
       "      <td>170412001</td>\n",
       "      <td>SPA师</td>\n",
       "      <td>郭金琪</td>\n",
       "      <td>63.0</td>\n",
       "      <td>22375.0</td>\n",
       "    </tr>\n",
       "  </tbody>\n",
       "</table>\n",
       "</div>"
      ],
      "text/plain": [
       "           店名         工号    岗位   姓名  点号合计     销售业绩\n",
       "0  青岛区域城阳正阳路店  170320035    专家  管清芳  40.0  32090.5\n",
       "1  青岛区域城阳正阳路店  170412001  SPA师  郭金琪  63.0  22375.0"
      ]
     },
     "execution_count": 19,
     "metadata": {},
     "output_type": "execute_result"
    }
   ],
   "source": [
    "df1.head(2)"
   ]
  },
  {
   "cell_type": "code",
   "execution_count": 20,
   "metadata": {},
   "outputs": [
    {
     "data": {
      "text/html": [
       "<div>\n",
       "<style scoped>\n",
       "    .dataframe tbody tr th:only-of-type {\n",
       "        vertical-align: middle;\n",
       "    }\n",
       "\n",
       "    .dataframe tbody tr th {\n",
       "        vertical-align: top;\n",
       "    }\n",
       "\n",
       "    .dataframe thead th {\n",
       "        text-align: right;\n",
       "    }\n",
       "</style>\n",
       "<table border=\"1\" class=\"dataframe\">\n",
       "  <thead>\n",
       "    <tr style=\"text-align: right;\">\n",
       "      <th></th>\n",
       "      <th>二级部门</th>\n",
       "      <th>部门</th>\n",
       "      <th>员工号</th>\n",
       "      <th>岗位名称</th>\n",
       "      <th>姓名</th>\n",
       "      <th>入职日期</th>\n",
       "    </tr>\n",
       "  </thead>\n",
       "  <tbody>\n",
       "    <tr>\n",
       "      <th>0</th>\n",
       "      <td>华北区域</td>\n",
       "      <td>保定乐凯大街店</td>\n",
       "      <td>180916003</td>\n",
       "      <td>SPA师</td>\n",
       "      <td>唐怀秀</td>\n",
       "      <td>2019-06-04</td>\n",
       "    </tr>\n",
       "    <tr>\n",
       "      <th>1</th>\n",
       "      <td>华北区域</td>\n",
       "      <td>保定乐凯大街店</td>\n",
       "      <td>180927012</td>\n",
       "      <td>理疗师</td>\n",
       "      <td>杨乾</td>\n",
       "      <td>2018-09-21</td>\n",
       "    </tr>\n",
       "  </tbody>\n",
       "</table>\n",
       "</div>"
      ],
      "text/plain": [
       "   二级部门       部门        员工号  岗位名称   姓名        入职日期\n",
       "0  华北区域  保定乐凯大街店  180916003  SPA师  唐怀秀  2019-06-04\n",
       "1  华北区域  保定乐凯大街店  180927012   理疗师   杨乾  2018-09-21"
      ]
     },
     "execution_count": 20,
     "metadata": {},
     "output_type": "execute_result"
    }
   ],
   "source": [
    "df2.head(2)"
   ]
  },
  {
   "cell_type": "code",
   "execution_count": 21,
   "metadata": {},
   "outputs": [],
   "source": [
    "# (df2[\"员工号\"].value_counts() > 1).sum() # raise..."
   ]
  },
  {
   "cell_type": "code",
   "execution_count": 22,
   "metadata": {},
   "outputs": [
    {
     "data": {
      "text/plain": [
       "122"
      ]
     },
     "execution_count": 22,
     "metadata": {},
     "output_type": "execute_result"
    }
   ],
   "source": [
    "(df1[\"工号\"].value_counts() > 1).sum() # 上月业绩表存在重复员工，说明这些员工换门店了"
   ]
  },
  {
   "cell_type": "code",
   "execution_count": 23,
   "metadata": {},
   "outputs": [
    {
     "data": {
      "text/plain": [
       "(4927, 4748)"
      ]
     },
     "execution_count": 23,
     "metadata": {},
     "output_type": "execute_result"
    }
   ],
   "source": [
    "len(df1), len(df2)"
   ]
  },
  {
   "cell_type": "code",
   "execution_count": 24,
   "metadata": {},
   "outputs": [],
   "source": [
    "# 根据df2，为df1添加“入职日期”、“区域”两列：merge函数\n",
    "df11 = pd.merge(df1, df2, left_on=\"工号\", right_on=\"员工号\", how=\"inner\")    ## 已重置了index"
   ]
  },
  {
   "cell_type": "code",
   "execution_count": 25,
   "metadata": {},
   "outputs": [
    {
     "data": {
      "text/plain": [
       "4280"
      ]
     },
     "execution_count": 25,
     "metadata": {},
     "output_type": "execute_result"
    }
   ],
   "source": [
    "len(df11)"
   ]
  },
  {
   "cell_type": "code",
   "execution_count": 26,
   "metadata": {},
   "outputs": [
    {
     "data": {
      "text/plain": [
       "4280"
      ]
     },
     "execution_count": 26,
     "metadata": {},
     "output_type": "execute_result"
    }
   ],
   "source": [
    "len(df11[(df11[\"姓名_x\"] == df11[\"姓名_y\"])]) # raise：不一定需要，只要员工号是不变的，或者离职后不会给新的人，就行"
   ]
  },
  {
   "cell_type": "code",
   "execution_count": 27,
   "metadata": {},
   "outputs": [],
   "source": [
    "# df11[df11['员工号'].isna()]  # df1（上月业绩）中一些员工没有出现在df2（员工信息表），说明这些人已经离职了"
   ]
  },
  {
   "cell_type": "code",
   "execution_count": 28,
   "metadata": {},
   "outputs": [
    {
     "data": {
      "text/html": [
       "<div>\n",
       "<style scoped>\n",
       "    .dataframe tbody tr th:only-of-type {\n",
       "        vertical-align: middle;\n",
       "    }\n",
       "\n",
       "    .dataframe tbody tr th {\n",
       "        vertical-align: top;\n",
       "    }\n",
       "\n",
       "    .dataframe thead th {\n",
       "        text-align: right;\n",
       "    }\n",
       "</style>\n",
       "<table border=\"1\" class=\"dataframe\">\n",
       "  <thead>\n",
       "    <tr style=\"text-align: right;\">\n",
       "      <th></th>\n",
       "      <th>店名</th>\n",
       "      <th>工号</th>\n",
       "      <th>岗位</th>\n",
       "      <th>姓名_x</th>\n",
       "      <th>点号合计</th>\n",
       "      <th>销售业绩</th>\n",
       "      <th>二级部门</th>\n",
       "      <th>部门</th>\n",
       "      <th>员工号</th>\n",
       "      <th>岗位名称</th>\n",
       "      <th>姓名_y</th>\n",
       "      <th>入职日期</th>\n",
       "    </tr>\n",
       "  </thead>\n",
       "  <tbody>\n",
       "    <tr>\n",
       "      <th>0</th>\n",
       "      <td>青岛区域城阳正阳路店</td>\n",
       "      <td>170320035</td>\n",
       "      <td>专家</td>\n",
       "      <td>管清芳</td>\n",
       "      <td>40.0</td>\n",
       "      <td>32090.5</td>\n",
       "      <td>青岛区域</td>\n",
       "      <td>城阳正阳路店</td>\n",
       "      <td>170320035</td>\n",
       "      <td>专家</td>\n",
       "      <td>管清芳</td>\n",
       "      <td>2018-05-17</td>\n",
       "    </tr>\n",
       "    <tr>\n",
       "      <th>1</th>\n",
       "      <td>青岛区域城阳正阳路店</td>\n",
       "      <td>170412001</td>\n",
       "      <td>SPA师</td>\n",
       "      <td>郭金琪</td>\n",
       "      <td>63.0</td>\n",
       "      <td>22375.0</td>\n",
       "      <td>青岛区域</td>\n",
       "      <td>城阳正阳路店</td>\n",
       "      <td>170412001</td>\n",
       "      <td>SPA师</td>\n",
       "      <td>郭金琪</td>\n",
       "      <td>2018-09-27</td>\n",
       "    </tr>\n",
       "  </tbody>\n",
       "</table>\n",
       "</div>"
      ],
      "text/plain": [
       "           店名         工号    岗位 姓名_x  点号合计     销售业绩  二级部门      部门        员工号  \\\n",
       "0  青岛区域城阳正阳路店  170320035    专家  管清芳  40.0  32090.5  青岛区域  城阳正阳路店  170320035   \n",
       "1  青岛区域城阳正阳路店  170412001  SPA师  郭金琪  63.0  22375.0  青岛区域  城阳正阳路店  170412001   \n",
       "\n",
       "   岗位名称 姓名_y        入职日期  \n",
       "0    专家  管清芳  2018-05-17  \n",
       "1  SPA师  郭金琪  2018-09-27  "
      ]
     },
     "execution_count": 28,
     "metadata": {},
     "output_type": "execute_result"
    }
   ],
   "source": [
    "df11.head(2)"
   ]
  },
  {
   "cell_type": "code",
   "execution_count": 29,
   "metadata": {},
   "outputs": [
    {
     "data": {
      "text/plain": [
       "103"
      ]
     },
     "execution_count": 29,
     "metadata": {},
     "output_type": "execute_result"
    }
   ],
   "source": [
    "# 存在更换门店员工，是否要把这些员工各自当月的业绩相加？\n",
    "(df11[\"工号\"].value_counts() > 1).sum()"
   ]
  },
  {
   "cell_type": "markdown",
   "metadata": {},
   "source": [
    "### 出现这种情况时，第一，要不要相加业绩？第二，岗位名称和区域部门按上月业绩表（原），还是最新员工信息表（新）算？"
   ]
  },
  {
   "cell_type": "code",
   "execution_count": 30,
   "metadata": {},
   "outputs": [
    {
     "data": {
      "text/html": [
       "<div>\n",
       "<style scoped>\n",
       "    .dataframe tbody tr th:only-of-type {\n",
       "        vertical-align: middle;\n",
       "    }\n",
       "\n",
       "    .dataframe tbody tr th {\n",
       "        vertical-align: top;\n",
       "    }\n",
       "\n",
       "    .dataframe thead th {\n",
       "        text-align: right;\n",
       "    }\n",
       "</style>\n",
       "<table border=\"1\" class=\"dataframe\">\n",
       "  <thead>\n",
       "    <tr style=\"text-align: right;\">\n",
       "      <th></th>\n",
       "      <th>店名</th>\n",
       "      <th>工号</th>\n",
       "      <th>岗位</th>\n",
       "      <th>姓名_x</th>\n",
       "      <th>点号合计</th>\n",
       "      <th>销售业绩</th>\n",
       "      <th>二级部门</th>\n",
       "      <th>部门</th>\n",
       "      <th>员工号</th>\n",
       "      <th>岗位名称</th>\n",
       "      <th>姓名_y</th>\n",
       "      <th>入职日期</th>\n",
       "    </tr>\n",
       "  </thead>\n",
       "  <tbody>\n",
       "    <tr>\n",
       "      <th>197</th>\n",
       "      <td>青岛区域青岛九水路店</td>\n",
       "      <td>171020020</td>\n",
       "      <td>理疗师</td>\n",
       "      <td>胡维兰</td>\n",
       "      <td>0.0</td>\n",
       "      <td>13233.0</td>\n",
       "      <td>青岛区域</td>\n",
       "      <td>青岛九水路店</td>\n",
       "      <td>171020020</td>\n",
       "      <td>SPA师</td>\n",
       "      <td>胡维兰</td>\n",
       "      <td>2017-10-15</td>\n",
       "    </tr>\n",
       "    <tr>\n",
       "      <th>198</th>\n",
       "      <td>济南区域天津上林苑店</td>\n",
       "      <td>171020020</td>\n",
       "      <td>理疗师</td>\n",
       "      <td>胡维兰</td>\n",
       "      <td>18.0</td>\n",
       "      <td>0.0</td>\n",
       "      <td>青岛区域</td>\n",
       "      <td>青岛九水路店</td>\n",
       "      <td>171020020</td>\n",
       "      <td>SPA师</td>\n",
       "      <td>胡维兰</td>\n",
       "      <td>2017-10-15</td>\n",
       "    </tr>\n",
       "  </tbody>\n",
       "</table>\n",
       "</div>"
      ],
      "text/plain": [
       "             店名         工号   岗位 姓名_x  点号合计     销售业绩  二级部门      部门        员工号  \\\n",
       "197  青岛区域青岛九水路店  171020020  理疗师  胡维兰   0.0  13233.0  青岛区域  青岛九水路店  171020020   \n",
       "198  济南区域天津上林苑店  171020020  理疗师  胡维兰  18.0      0.0  青岛区域  青岛九水路店  171020020   \n",
       "\n",
       "     岗位名称 姓名_y        入职日期  \n",
       "197  SPA师  胡维兰  2017-10-15  \n",
       "198  SPA师  胡维兰  2017-10-15  "
      ]
     },
     "execution_count": 30,
     "metadata": {},
     "output_type": "execute_result"
    }
   ],
   "source": [
    "df11[df11[\"工号\"] == 171020020] # 如该员工，青岛九水路点是他的新单位，点号合计为0也说明了这点"
   ]
  },
  {
   "cell_type": "code",
   "execution_count": 31,
   "metadata": {},
   "outputs": [],
   "source": [
    "# 该部分暂时不相加重复员工当月业绩(可能存在空值)，区域按新的信息算，岗位按老的信息算。\n",
    "temp = df11[\"点号合计\"].groupby(df11[\"员工号\"]).sum()"
   ]
  },
  {
   "cell_type": "code",
   "execution_count": 32,
   "metadata": {},
   "outputs": [
    {
     "data": {
      "text/html": [
       "<div>\n",
       "<style scoped>\n",
       "    .dataframe tbody tr th:only-of-type {\n",
       "        vertical-align: middle;\n",
       "    }\n",
       "\n",
       "    .dataframe tbody tr th {\n",
       "        vertical-align: top;\n",
       "    }\n",
       "\n",
       "    .dataframe thead th {\n",
       "        text-align: right;\n",
       "    }\n",
       "</style>\n",
       "<table border=\"1\" class=\"dataframe\">\n",
       "  <thead>\n",
       "    <tr style=\"text-align: right;\">\n",
       "      <th></th>\n",
       "      <th>店名</th>\n",
       "      <th>工号</th>\n",
       "      <th>岗位</th>\n",
       "      <th>姓名_x</th>\n",
       "      <th>点号合计</th>\n",
       "      <th>销售业绩</th>\n",
       "      <th>二级部门</th>\n",
       "      <th>部门</th>\n",
       "      <th>员工号</th>\n",
       "      <th>岗位名称</th>\n",
       "      <th>姓名_y</th>\n",
       "      <th>入职日期</th>\n",
       "    </tr>\n",
       "  </thead>\n",
       "  <tbody>\n",
       "    <tr>\n",
       "      <th>1364</th>\n",
       "      <td>北京万寿路店</td>\n",
       "      <td>170228033</td>\n",
       "      <td>SPA师</td>\n",
       "      <td>涂兴香</td>\n",
       "      <td>NaN</td>\n",
       "      <td>27576.66</td>\n",
       "      <td>北京区域</td>\n",
       "      <td>北京万寿路店</td>\n",
       "      <td>170228033</td>\n",
       "      <td>SPA师</td>\n",
       "      <td>涂兴香</td>\n",
       "      <td>2018-05-01</td>\n",
       "    </tr>\n",
       "    <tr>\n",
       "      <th>2119</th>\n",
       "      <td>济南区域天津鼓楼店</td>\n",
       "      <td>170409044</td>\n",
       "      <td>理疗师</td>\n",
       "      <td>党彦欣</td>\n",
       "      <td>NaN</td>\n",
       "      <td>59190.66</td>\n",
       "      <td>济南区域</td>\n",
       "      <td>天津鼓楼店</td>\n",
       "      <td>170409044</td>\n",
       "      <td>理疗师</td>\n",
       "      <td>党彦欣</td>\n",
       "      <td>2017-04-09</td>\n",
       "    </tr>\n",
       "    <tr>\n",
       "      <th>3387</th>\n",
       "      <td>南方区域合肥铂金店</td>\n",
       "      <td>190524021</td>\n",
       "      <td>理疗师</td>\n",
       "      <td>任红燕</td>\n",
       "      <td>NaN</td>\n",
       "      <td>0.00</td>\n",
       "      <td>南方区域</td>\n",
       "      <td>合肥潜山路店</td>\n",
       "      <td>190524021</td>\n",
       "      <td>理疗师</td>\n",
       "      <td>任红燕</td>\n",
       "      <td>2019-05-24</td>\n",
       "    </tr>\n",
       "    <tr>\n",
       "      <th>3899</th>\n",
       "      <td>中原区域 西安凤城一路店</td>\n",
       "      <td>171017010</td>\n",
       "      <td>专家</td>\n",
       "      <td>向富晶</td>\n",
       "      <td>NaN</td>\n",
       "      <td>95292.00</td>\n",
       "      <td>中原区域</td>\n",
       "      <td>西安凤城一路店</td>\n",
       "      <td>171017010</td>\n",
       "      <td>专家</td>\n",
       "      <td>向富晶</td>\n",
       "      <td>2017-10-17</td>\n",
       "    </tr>\n",
       "    <tr>\n",
       "      <th>3914</th>\n",
       "      <td>鲁南区域 莱芜万福店</td>\n",
       "      <td>171019028</td>\n",
       "      <td>SPA师</td>\n",
       "      <td>任俊涛</td>\n",
       "      <td>NaN</td>\n",
       "      <td>19449.96</td>\n",
       "      <td>鲁南区域</td>\n",
       "      <td>莱芜万福店</td>\n",
       "      <td>171019028</td>\n",
       "      <td>SPA师</td>\n",
       "      <td>任俊涛</td>\n",
       "      <td>2013-10-07</td>\n",
       "    </tr>\n",
       "  </tbody>\n",
       "</table>\n",
       "</div>"
      ],
      "text/plain": [
       "                店名         工号    岗位 姓名_x  点号合计      销售业绩  二级部门       部门  \\\n",
       "1364        北京万寿路店  170228033  SPA师  涂兴香   NaN  27576.66  北京区域   北京万寿路店   \n",
       "2119     济南区域天津鼓楼店  170409044   理疗师  党彦欣   NaN  59190.66  济南区域    天津鼓楼店   \n",
       "3387     南方区域合肥铂金店  190524021   理疗师  任红燕   NaN      0.00  南方区域   合肥潜山路店   \n",
       "3899  中原区域 西安凤城一路店  171017010    专家  向富晶   NaN  95292.00  中原区域  西安凤城一路店   \n",
       "3914    鲁南区域 莱芜万福店  171019028  SPA师  任俊涛   NaN  19449.96  鲁南区域    莱芜万福店   \n",
       "\n",
       "            员工号  岗位名称 姓名_y        入职日期  \n",
       "1364  170228033  SPA师  涂兴香  2018-05-01  \n",
       "2119  170409044   理疗师  党彦欣  2017-04-09  \n",
       "3387  190524021   理疗师  任红燕  2019-05-24  \n",
       "3899  171017010    专家  向富晶  2017-10-17  \n",
       "3914  171019028  SPA师  任俊涛  2013-10-07  "
      ]
     },
     "execution_count": 32,
     "metadata": {},
     "output_type": "execute_result"
    }
   ],
   "source": [
    "df11[df11['点号合计'].isnull()]"
   ]
  },
  {
   "cell_type": "code",
   "execution_count": 33,
   "metadata": {},
   "outputs": [
    {
     "data": {
      "text/plain": [
       "(4280, 4098)"
      ]
     },
     "execution_count": 33,
     "metadata": {},
     "output_type": "execute_result"
    }
   ],
   "source": [
    "len(df11), len(temp)"
   ]
  },
  {
   "cell_type": "code",
   "execution_count": 34,
   "metadata": {},
   "outputs": [],
   "source": [
    "df111 = df11.drop([\"工号\", \"姓名_x\", \"岗位\"], axis=1)"
   ]
  },
  {
   "cell_type": "code",
   "execution_count": 35,
   "metadata": {},
   "outputs": [
    {
     "data": {
      "text/html": [
       "<div>\n",
       "<style scoped>\n",
       "    .dataframe tbody tr th:only-of-type {\n",
       "        vertical-align: middle;\n",
       "    }\n",
       "\n",
       "    .dataframe tbody tr th {\n",
       "        vertical-align: top;\n",
       "    }\n",
       "\n",
       "    .dataframe thead th {\n",
       "        text-align: right;\n",
       "    }\n",
       "</style>\n",
       "<table border=\"1\" class=\"dataframe\">\n",
       "  <thead>\n",
       "    <tr style=\"text-align: right;\">\n",
       "      <th></th>\n",
       "      <th>店名</th>\n",
       "      <th>点号合计</th>\n",
       "      <th>销售业绩</th>\n",
       "      <th>二级部门</th>\n",
       "      <th>部门</th>\n",
       "      <th>员工号</th>\n",
       "      <th>岗位名称</th>\n",
       "      <th>姓名_y</th>\n",
       "      <th>入职日期</th>\n",
       "    </tr>\n",
       "  </thead>\n",
       "  <tbody>\n",
       "    <tr>\n",
       "      <th>0</th>\n",
       "      <td>青岛区域城阳正阳路店</td>\n",
       "      <td>40.0</td>\n",
       "      <td>32090.5</td>\n",
       "      <td>青岛区域</td>\n",
       "      <td>城阳正阳路店</td>\n",
       "      <td>170320035</td>\n",
       "      <td>专家</td>\n",
       "      <td>管清芳</td>\n",
       "      <td>2018-05-17</td>\n",
       "    </tr>\n",
       "    <tr>\n",
       "      <th>1</th>\n",
       "      <td>青岛区域城阳正阳路店</td>\n",
       "      <td>63.0</td>\n",
       "      <td>22375.0</td>\n",
       "      <td>青岛区域</td>\n",
       "      <td>城阳正阳路店</td>\n",
       "      <td>170412001</td>\n",
       "      <td>SPA师</td>\n",
       "      <td>郭金琪</td>\n",
       "      <td>2018-09-27</td>\n",
       "    </tr>\n",
       "  </tbody>\n",
       "</table>\n",
       "</div>"
      ],
      "text/plain": [
       "           店名  点号合计     销售业绩  二级部门      部门        员工号  岗位名称 姓名_y        入职日期\n",
       "0  青岛区域城阳正阳路店  40.0  32090.5  青岛区域  城阳正阳路店  170320035    专家  管清芳  2018-05-17\n",
       "1  青岛区域城阳正阳路店  63.0  22375.0  青岛区域  城阳正阳路店  170412001  SPA师  郭金琪  2018-09-27"
      ]
     },
     "execution_count": 35,
     "metadata": {},
     "output_type": "execute_result"
    }
   ],
   "source": [
    "df111.head(2)"
   ]
  },
  {
   "cell_type": "code",
   "execution_count": 36,
   "metadata": {},
   "outputs": [],
   "source": [
    "# 更改“姓名_x”为“姓名”\n",
    "df111 = df111.rename(columns={'姓名_y': '姓名'})"
   ]
  },
  {
   "cell_type": "code",
   "execution_count": 37,
   "metadata": {},
   "outputs": [
    {
     "data": {
      "text/html": [
       "<div>\n",
       "<style scoped>\n",
       "    .dataframe tbody tr th:only-of-type {\n",
       "        vertical-align: middle;\n",
       "    }\n",
       "\n",
       "    .dataframe tbody tr th {\n",
       "        vertical-align: top;\n",
       "    }\n",
       "\n",
       "    .dataframe thead th {\n",
       "        text-align: right;\n",
       "    }\n",
       "</style>\n",
       "<table border=\"1\" class=\"dataframe\">\n",
       "  <thead>\n",
       "    <tr style=\"text-align: right;\">\n",
       "      <th></th>\n",
       "      <th>店名</th>\n",
       "      <th>点号合计</th>\n",
       "      <th>销售业绩</th>\n",
       "      <th>二级部门</th>\n",
       "      <th>部门</th>\n",
       "      <th>员工号</th>\n",
       "      <th>岗位名称</th>\n",
       "      <th>姓名</th>\n",
       "      <th>入职日期</th>\n",
       "    </tr>\n",
       "  </thead>\n",
       "  <tbody>\n",
       "    <tr>\n",
       "      <th>0</th>\n",
       "      <td>青岛区域城阳正阳路店</td>\n",
       "      <td>40.0</td>\n",
       "      <td>32090.5</td>\n",
       "      <td>青岛区域</td>\n",
       "      <td>城阳正阳路店</td>\n",
       "      <td>170320035</td>\n",
       "      <td>专家</td>\n",
       "      <td>管清芳</td>\n",
       "      <td>2018-05-17</td>\n",
       "    </tr>\n",
       "    <tr>\n",
       "      <th>1</th>\n",
       "      <td>青岛区域城阳正阳路店</td>\n",
       "      <td>63.0</td>\n",
       "      <td>22375.0</td>\n",
       "      <td>青岛区域</td>\n",
       "      <td>城阳正阳路店</td>\n",
       "      <td>170412001</td>\n",
       "      <td>SPA师</td>\n",
       "      <td>郭金琪</td>\n",
       "      <td>2018-09-27</td>\n",
       "    </tr>\n",
       "  </tbody>\n",
       "</table>\n",
       "</div>"
      ],
      "text/plain": [
       "           店名  点号合计     销售业绩  二级部门      部门        员工号  岗位名称   姓名        入职日期\n",
       "0  青岛区域城阳正阳路店  40.0  32090.5  青岛区域  城阳正阳路店  170320035    专家  管清芳  2018-05-17\n",
       "1  青岛区域城阳正阳路店  63.0  22375.0  青岛区域  城阳正阳路店  170412001  SPA师  郭金琪  2018-09-27"
      ]
     },
     "execution_count": 37,
     "metadata": {},
     "output_type": "execute_result"
    }
   ],
   "source": [
    "# 此时存在重复员工, >=2，岗位为上月信息，二级部门（区域）为新的信息，除工号外其他信息可能存在空值\n",
    "df111.head(2)"
   ]
  },
  {
   "cell_type": "markdown",
   "metadata": {},
   "source": [
    "### 目前发现，重复出现2-3次的，更换了门店，出现6次的是录入错误。到时候要根据情况判断"
   ]
  },
  {
   "cell_type": "code",
   "execution_count": 38,
   "metadata": {},
   "outputs": [],
   "source": [
    "# 找出重复值，依次判断：如果店名或者点号合计或者销售业绩不同，则更换了门店，合并行并相加点号合计和销售业绩。店名暂时选一个，最后删除这一列；\n",
    "# 如果全相同，说明是重复录入，仅保留一行即可。"
   ]
  },
  {
   "cell_type": "code",
   "execution_count": 39,
   "metadata": {},
   "outputs": [
    {
     "data": {
      "text/plain": [
       "103"
      ]
     },
     "execution_count": 39,
     "metadata": {},
     "output_type": "execute_result"
    }
   ],
   "source": [
    "(df111[\"员工号\"].value_counts() > 1).sum() # 103员工出现过2次及以上"
   ]
  },
  {
   "cell_type": "code",
   "execution_count": 40,
   "metadata": {},
   "outputs": [
    {
     "data": {
      "text/plain": [
       "182"
      ]
     },
     "execution_count": 40,
     "metadata": {},
     "output_type": "execute_result"
    }
   ],
   "source": [
    "len(df111[df111[\"员工号\"].duplicated()])   # 总共182个重复的值（如出现6次，则有5个重复的值）"
   ]
  },
  {
   "cell_type": "code",
   "execution_count": 41,
   "metadata": {},
   "outputs": [],
   "source": [
    "df1111 = df111.drop_duplicates()  # 删除完全重复行（如5月业绩表重复6次员工，均是重复项）"
   ]
  },
  {
   "cell_type": "code",
   "execution_count": 42,
   "metadata": {},
   "outputs": [
    {
     "data": {
      "text/plain": [
       "87"
      ]
     },
     "execution_count": 42,
     "metadata": {},
     "output_type": "execute_result"
    }
   ],
   "source": [
    "len(df1111[df1111[\"员工号\"].duplicated()])  # 总共87个重复的值"
   ]
  },
  {
   "cell_type": "code",
   "execution_count": 43,
   "metadata": {},
   "outputs": [
    {
     "data": {
      "text/plain": [
       "84"
      ]
     },
     "execution_count": 43,
     "metadata": {},
     "output_type": "execute_result"
    }
   ],
   "source": [
    "(df1111[\"员工号\"].value_counts() > 1).sum()  # 84个员工出现过2次及以上"
   ]
  },
  {
   "cell_type": "code",
   "execution_count": 44,
   "metadata": {},
   "outputs": [],
   "source": [
    "arr = df1111[\"员工号\"].value_counts() > 1"
   ]
  },
  {
   "cell_type": "code",
   "execution_count": 45,
   "metadata": {},
   "outputs": [
    {
     "data": {
      "text/plain": [
       "Int64Index([190406018, 190410002, 181128040, 190401035, 190101003, 190310003,\n",
       "            171112028, 190302003, 180926037, 170904004, 190412016, 171102021,\n",
       "            190228030, 170822070, 190103026, 170731043, 190316013, 190316009,\n",
       "            190402023, 190312016, 190308023, 190315017, 190405007, 180808026,\n",
       "            170918050, 180918007, 171020020, 190114015, 190411027, 190520009,\n",
       "            180404003, 190325025, 190428006, 180724017, 180927012, 190409019,\n",
       "            180808024, 160225002, 180926006, 171124044, 171205029, 170626005,\n",
       "            181126016, 170919009, 190420035, 180423002, 190216033, 190506029,\n",
       "            181128058, 180303004, 190422003, 190422010, 170918054, 190422008,\n",
       "            190506028, 180612004, 190117025, 181024010, 190517023, 180721001,\n",
       "            190327030, 190506034, 190406029, 190311057, 190316015, 190320034,\n",
       "            190307021, 170319001, 190312032, 190406003, 190307022, 190217007,\n",
       "            180811001, 180727002, 190419017, 170413010, 170920001, 171012003,\n",
       "            170917049, 171102020, 181228016, 181123011, 180814002, 180818019],\n",
       "           dtype='int64')"
      ]
     },
     "execution_count": 45,
     "metadata": {},
     "output_type": "execute_result"
    }
   ],
   "source": [
    "\n",
    "arr[arr.values == True].keys()  # 这84个员工"
   ]
  },
  {
   "cell_type": "code",
   "execution_count": 46,
   "metadata": {},
   "outputs": [],
   "source": [
    "# “店名”不再需要，先删除\n",
    "del df1111[\"店名\"]"
   ]
  },
  {
   "cell_type": "code",
   "execution_count": 47,
   "metadata": {},
   "outputs": [
    {
     "data": {
      "text/html": [
       "<div>\n",
       "<style scoped>\n",
       "    .dataframe tbody tr th:only-of-type {\n",
       "        vertical-align: middle;\n",
       "    }\n",
       "\n",
       "    .dataframe tbody tr th {\n",
       "        vertical-align: top;\n",
       "    }\n",
       "\n",
       "    .dataframe thead th {\n",
       "        text-align: right;\n",
       "    }\n",
       "</style>\n",
       "<table border=\"1\" class=\"dataframe\">\n",
       "  <thead>\n",
       "    <tr style=\"text-align: right;\">\n",
       "      <th></th>\n",
       "      <th>点号合计</th>\n",
       "      <th>销售业绩</th>\n",
       "      <th>二级部门</th>\n",
       "      <th>部门</th>\n",
       "      <th>员工号</th>\n",
       "      <th>岗位名称</th>\n",
       "      <th>姓名</th>\n",
       "      <th>入职日期</th>\n",
       "    </tr>\n",
       "  </thead>\n",
       "  <tbody>\n",
       "    <tr>\n",
       "      <th>0</th>\n",
       "      <td>40.0</td>\n",
       "      <td>32090.5</td>\n",
       "      <td>青岛区域</td>\n",
       "      <td>城阳正阳路店</td>\n",
       "      <td>170320035</td>\n",
       "      <td>专家</td>\n",
       "      <td>管清芳</td>\n",
       "      <td>2018-05-17</td>\n",
       "    </tr>\n",
       "    <tr>\n",
       "      <th>1</th>\n",
       "      <td>63.0</td>\n",
       "      <td>22375.0</td>\n",
       "      <td>青岛区域</td>\n",
       "      <td>城阳正阳路店</td>\n",
       "      <td>170412001</td>\n",
       "      <td>SPA师</td>\n",
       "      <td>郭金琪</td>\n",
       "      <td>2018-09-27</td>\n",
       "    </tr>\n",
       "  </tbody>\n",
       "</table>\n",
       "</div>"
      ],
      "text/plain": [
       "   点号合计     销售业绩  二级部门      部门        员工号  岗位名称   姓名        入职日期\n",
       "0  40.0  32090.5  青岛区域  城阳正阳路店  170320035    专家  管清芳  2018-05-17\n",
       "1  63.0  22375.0  青岛区域  城阳正阳路店  170412001  SPA师  郭金琪  2018-09-27"
      ]
     },
     "execution_count": 47,
     "metadata": {},
     "output_type": "execute_result"
    }
   ],
   "source": [
    "df1111.head(2)"
   ]
  },
  {
   "cell_type": "code",
   "execution_count": 48,
   "metadata": {},
   "outputs": [],
   "source": [
    "df11111 = df1111.groupby(\"员工号\")[[\"点号合计\", \"销售业绩\"]].sum()"
   ]
  },
  {
   "cell_type": "code",
   "execution_count": 49,
   "metadata": {},
   "outputs": [],
   "source": [
    "df11111.reset_index(inplace = True)"
   ]
  },
  {
   "cell_type": "code",
   "execution_count": 50,
   "metadata": {},
   "outputs": [
    {
     "data": {
      "text/html": [
       "<div>\n",
       "<style scoped>\n",
       "    .dataframe tbody tr th:only-of-type {\n",
       "        vertical-align: middle;\n",
       "    }\n",
       "\n",
       "    .dataframe tbody tr th {\n",
       "        vertical-align: top;\n",
       "    }\n",
       "\n",
       "    .dataframe thead th {\n",
       "        text-align: right;\n",
       "    }\n",
       "</style>\n",
       "<table border=\"1\" class=\"dataframe\">\n",
       "  <thead>\n",
       "    <tr style=\"text-align: right;\">\n",
       "      <th></th>\n",
       "      <th>员工号</th>\n",
       "      <th>点号合计</th>\n",
       "      <th>销售业绩</th>\n",
       "    </tr>\n",
       "  </thead>\n",
       "  <tbody>\n",
       "    <tr>\n",
       "      <th>0</th>\n",
       "      <td>1703024</td>\n",
       "      <td>175.0</td>\n",
       "      <td>255024.44</td>\n",
       "    </tr>\n",
       "    <tr>\n",
       "      <th>1</th>\n",
       "      <td>16122101</td>\n",
       "      <td>105.0</td>\n",
       "      <td>189920.49</td>\n",
       "    </tr>\n",
       "    <tr>\n",
       "      <th>2</th>\n",
       "      <td>16122102</td>\n",
       "      <td>41.0</td>\n",
       "      <td>82261.00</td>\n",
       "    </tr>\n",
       "    <tr>\n",
       "      <th>3</th>\n",
       "      <td>16122104</td>\n",
       "      <td>116.0</td>\n",
       "      <td>235997.73</td>\n",
       "    </tr>\n",
       "    <tr>\n",
       "      <th>4</th>\n",
       "      <td>16122108</td>\n",
       "      <td>31.0</td>\n",
       "      <td>34213.00</td>\n",
       "    </tr>\n",
       "  </tbody>\n",
       "</table>\n",
       "</div>"
      ],
      "text/plain": [
       "        员工号   点号合计       销售业绩\n",
       "0   1703024  175.0  255024.44\n",
       "1  16122101  105.0  189920.49\n",
       "2  16122102   41.0   82261.00\n",
       "3  16122104  116.0  235997.73\n",
       "4  16122108   31.0   34213.00"
      ]
     },
     "execution_count": 50,
     "metadata": {},
     "output_type": "execute_result"
    }
   ],
   "source": [
    "df11111.head()"
   ]
  },
  {
   "cell_type": "code",
   "execution_count": 51,
   "metadata": {},
   "outputs": [],
   "source": [
    "# 根据df2，为df1添加“入职日期”、“区域”两列：merge函数,前面的合并可以考虑先不合并，结果是一样的\n",
    "dfa = pd.merge(df11111, df2, left_on=\"员工号\", right_on=\"员工号\", how=\"inner\")    ## 已重置了index"
   ]
  },
  {
   "cell_type": "code",
   "execution_count": 52,
   "metadata": {},
   "outputs": [
    {
     "data": {
      "text/html": [
       "<div>\n",
       "<style scoped>\n",
       "    .dataframe tbody tr th:only-of-type {\n",
       "        vertical-align: middle;\n",
       "    }\n",
       "\n",
       "    .dataframe tbody tr th {\n",
       "        vertical-align: top;\n",
       "    }\n",
       "\n",
       "    .dataframe thead th {\n",
       "        text-align: right;\n",
       "    }\n",
       "</style>\n",
       "<table border=\"1\" class=\"dataframe\">\n",
       "  <thead>\n",
       "    <tr style=\"text-align: right;\">\n",
       "      <th></th>\n",
       "      <th>员工号</th>\n",
       "      <th>点号合计</th>\n",
       "      <th>销售业绩</th>\n",
       "      <th>二级部门</th>\n",
       "      <th>部门</th>\n",
       "      <th>岗位名称</th>\n",
       "      <th>姓名</th>\n",
       "      <th>入职日期</th>\n",
       "    </tr>\n",
       "  </thead>\n",
       "  <tbody>\n",
       "    <tr>\n",
       "      <th>0</th>\n",
       "      <td>1703024</td>\n",
       "      <td>175.0</td>\n",
       "      <td>255024.44</td>\n",
       "      <td>北京区域</td>\n",
       "      <td>北京华彩店</td>\n",
       "      <td>专家</td>\n",
       "      <td>白社红</td>\n",
       "      <td>2018-09-07</td>\n",
       "    </tr>\n",
       "    <tr>\n",
       "      <th>1</th>\n",
       "      <td>16122101</td>\n",
       "      <td>105.0</td>\n",
       "      <td>189920.49</td>\n",
       "      <td>济南区域</td>\n",
       "      <td>济南和谐店</td>\n",
       "      <td>SPA师</td>\n",
       "      <td>陈新春</td>\n",
       "      <td>2016-12-21</td>\n",
       "    </tr>\n",
       "    <tr>\n",
       "      <th>2</th>\n",
       "      <td>16122102</td>\n",
       "      <td>41.0</td>\n",
       "      <td>82261.00</td>\n",
       "      <td>济南区域</td>\n",
       "      <td>济南和谐店</td>\n",
       "      <td>SPA师</td>\n",
       "      <td>王洪伟</td>\n",
       "      <td>2016-12-21</td>\n",
       "    </tr>\n",
       "    <tr>\n",
       "      <th>3</th>\n",
       "      <td>16122104</td>\n",
       "      <td>116.0</td>\n",
       "      <td>235997.73</td>\n",
       "      <td>济南区域</td>\n",
       "      <td>济南和谐店</td>\n",
       "      <td>SPA师</td>\n",
       "      <td>王珊珊</td>\n",
       "      <td>2016-12-22</td>\n",
       "    </tr>\n",
       "    <tr>\n",
       "      <th>4</th>\n",
       "      <td>16122108</td>\n",
       "      <td>31.0</td>\n",
       "      <td>34213.00</td>\n",
       "      <td>济南区域</td>\n",
       "      <td>济南和谐店</td>\n",
       "      <td>SPA师</td>\n",
       "      <td>慕薇</td>\n",
       "      <td>2019-04-01</td>\n",
       "    </tr>\n",
       "  </tbody>\n",
       "</table>\n",
       "</div>"
      ],
      "text/plain": [
       "        员工号   点号合计       销售业绩  二级部门     部门  岗位名称   姓名        入职日期\n",
       "0   1703024  175.0  255024.44  北京区域  北京华彩店    专家  白社红  2018-09-07\n",
       "1  16122101  105.0  189920.49  济南区域  济南和谐店  SPA师  陈新春  2016-12-21\n",
       "2  16122102   41.0   82261.00  济南区域  济南和谐店  SPA师  王洪伟  2016-12-21\n",
       "3  16122104  116.0  235997.73  济南区域  济南和谐店  SPA师  王珊珊  2016-12-22\n",
       "4  16122108   31.0   34213.00  济南区域  济南和谐店  SPA师   慕薇  2019-04-01"
      ]
     },
     "execution_count": 52,
     "metadata": {},
     "output_type": "execute_result"
    }
   ],
   "source": [
    "dfa.head()"
   ]
  },
  {
   "cell_type": "code",
   "execution_count": 53,
   "metadata": {
    "scrolled": false
   },
   "outputs": [
    {
     "data": {
      "text/plain": [
       "0"
      ]
     },
     "execution_count": 53,
     "metadata": {},
     "output_type": "execute_result"
    }
   ],
   "source": [
    "len(dfa[dfa[\"员工号\"].duplicated()])"
   ]
  },
  {
   "cell_type": "code",
   "execution_count": 54,
   "metadata": {},
   "outputs": [
    {
     "data": {
      "text/plain": [
       "0"
      ]
     },
     "execution_count": 54,
     "metadata": {},
     "output_type": "execute_result"
    }
   ],
   "source": [
    "(dfa[\"员工号\"].value_counts() > 1).sum()"
   ]
  },
  {
   "cell_type": "markdown",
   "metadata": {},
   "source": [
    "## step 3"
   ]
  },
  {
   "cell_type": "code",
   "execution_count": 55,
   "metadata": {},
   "outputs": [],
   "source": [
    "# 为df111每个技师（非重复？）生成一组固定0-1随机数\n",
    "import random\n",
    "\n",
    "def sample_floats(low, high, k=1):\n",
    "    \"\"\" Return a k-length list of unique random floats\n",
    "        in the range of low <= x <= high\n",
    "    \"\"\"\n",
    "    result = []\n",
    "    seen = set()\n",
    "    for i in range(k):\n",
    "        x = random.uniform(low, high)\n",
    "        while x in seen:\n",
    "            x = random.uniform(low, high)\n",
    "        seen.add(x)\n",
    "        result.append(x)\n",
    "    return result"
   ]
  },
  {
   "cell_type": "code",
   "execution_count": 56,
   "metadata": {},
   "outputs": [],
   "source": [
    "random_list = sample_floats(0, 1, len(dfa))"
   ]
  },
  {
   "cell_type": "code",
   "execution_count": 57,
   "metadata": {},
   "outputs": [
    {
     "data": {
      "text/plain": [
       "4098"
      ]
     },
     "execution_count": 57,
     "metadata": {},
     "output_type": "execute_result"
    }
   ],
   "source": [
    "len(random_list)"
   ]
  },
  {
   "cell_type": "code",
   "execution_count": 58,
   "metadata": {},
   "outputs": [],
   "source": [
    "dfa[\"随机数\"] = random_list"
   ]
  },
  {
   "cell_type": "code",
   "execution_count": 59,
   "metadata": {},
   "outputs": [
    {
     "data": {
      "text/html": [
       "<div>\n",
       "<style scoped>\n",
       "    .dataframe tbody tr th:only-of-type {\n",
       "        vertical-align: middle;\n",
       "    }\n",
       "\n",
       "    .dataframe tbody tr th {\n",
       "        vertical-align: top;\n",
       "    }\n",
       "\n",
       "    .dataframe thead th {\n",
       "        text-align: right;\n",
       "    }\n",
       "</style>\n",
       "<table border=\"1\" class=\"dataframe\">\n",
       "  <thead>\n",
       "    <tr style=\"text-align: right;\">\n",
       "      <th></th>\n",
       "      <th>员工号</th>\n",
       "      <th>点号合计</th>\n",
       "      <th>销售业绩</th>\n",
       "      <th>二级部门</th>\n",
       "      <th>部门</th>\n",
       "      <th>岗位名称</th>\n",
       "      <th>姓名</th>\n",
       "      <th>入职日期</th>\n",
       "      <th>随机数</th>\n",
       "    </tr>\n",
       "  </thead>\n",
       "  <tbody>\n",
       "    <tr>\n",
       "      <th>0</th>\n",
       "      <td>1703024</td>\n",
       "      <td>175.0</td>\n",
       "      <td>255024.44</td>\n",
       "      <td>北京区域</td>\n",
       "      <td>北京华彩店</td>\n",
       "      <td>专家</td>\n",
       "      <td>白社红</td>\n",
       "      <td>2018-09-07</td>\n",
       "      <td>0.248709</td>\n",
       "    </tr>\n",
       "    <tr>\n",
       "      <th>1</th>\n",
       "      <td>16122101</td>\n",
       "      <td>105.0</td>\n",
       "      <td>189920.49</td>\n",
       "      <td>济南区域</td>\n",
       "      <td>济南和谐店</td>\n",
       "      <td>SPA师</td>\n",
       "      <td>陈新春</td>\n",
       "      <td>2016-12-21</td>\n",
       "      <td>0.781960</td>\n",
       "    </tr>\n",
       "    <tr>\n",
       "      <th>2</th>\n",
       "      <td>16122102</td>\n",
       "      <td>41.0</td>\n",
       "      <td>82261.00</td>\n",
       "      <td>济南区域</td>\n",
       "      <td>济南和谐店</td>\n",
       "      <td>SPA师</td>\n",
       "      <td>王洪伟</td>\n",
       "      <td>2016-12-21</td>\n",
       "      <td>0.088494</td>\n",
       "    </tr>\n",
       "    <tr>\n",
       "      <th>3</th>\n",
       "      <td>16122104</td>\n",
       "      <td>116.0</td>\n",
       "      <td>235997.73</td>\n",
       "      <td>济南区域</td>\n",
       "      <td>济南和谐店</td>\n",
       "      <td>SPA师</td>\n",
       "      <td>王珊珊</td>\n",
       "      <td>2016-12-22</td>\n",
       "      <td>0.680841</td>\n",
       "    </tr>\n",
       "    <tr>\n",
       "      <th>4</th>\n",
       "      <td>16122108</td>\n",
       "      <td>31.0</td>\n",
       "      <td>34213.00</td>\n",
       "      <td>济南区域</td>\n",
       "      <td>济南和谐店</td>\n",
       "      <td>SPA师</td>\n",
       "      <td>慕薇</td>\n",
       "      <td>2019-04-01</td>\n",
       "      <td>0.962043</td>\n",
       "    </tr>\n",
       "  </tbody>\n",
       "</table>\n",
       "</div>"
      ],
      "text/plain": [
       "        员工号   点号合计       销售业绩  二级部门     部门  岗位名称   姓名        入职日期       随机数\n",
       "0   1703024  175.0  255024.44  北京区域  北京华彩店    专家  白社红  2018-09-07  0.248709\n",
       "1  16122101  105.0  189920.49  济南区域  济南和谐店  SPA师  陈新春  2016-12-21  0.781960\n",
       "2  16122102   41.0   82261.00  济南区域  济南和谐店  SPA师  王洪伟  2016-12-21  0.088494\n",
       "3  16122104  116.0  235997.73  济南区域  济南和谐店  SPA师  王珊珊  2016-12-22  0.680841\n",
       "4  16122108   31.0   34213.00  济南区域  济南和谐店  SPA师   慕薇  2019-04-01  0.962043"
      ]
     },
     "execution_count": 59,
     "metadata": {},
     "output_type": "execute_result"
    }
   ],
   "source": [
    "dfa.head()"
   ]
  },
  {
   "cell_type": "markdown",
   "metadata": {},
   "source": [
    "## level 1"
   ]
  },
  {
   "cell_type": "code",
   "execution_count": 60,
   "metadata": {},
   "outputs": [],
   "source": [
    "import datetime\n",
    "\n",
    "# 返回当前月的前n个月的最后一天\n",
    "def last_day(today: datetime, n: int):\n",
    "    if n <= 0:\n",
    "        raise ValueError(\"n must be bigger than 0\")\n",
    "    first = datetime.date(today.year, today.month, 1)\n",
    "    last = datetime.date.max\n",
    "    while n > 0:\n",
    "        # 前一个月最后一天\n",
    "        last = first - datetime.timedelta(days=1)\n",
    "        # 前一个月第一天\n",
    "        first = datetime.date(last.year, last.month, 1)\n",
    "        n -= 1\n",
    "    return last\n",
    "\n",
    "\n",
    "# 返回当前月的前n个月的第一天\n",
    "def first_day(today, n):\n",
    "    if n <= 0:\n",
    "        raise ValueError(\"n must be bigger than 0\")\n",
    "    # 前n个月的最后一天\n",
    "    last = last_day(today, n)\n",
    "    first = datetime.date(last.year, last.month, 1)\n",
    "    return first\n",
    "\n",
    "\n",
    "# 按一定标准，按“入职日期”划分群体（date类型可以比较）\n",
    "def which_group(date_string):\n",
    "    if date_string == '-':  # nan has been converted to '-'\n",
    "        return 0\n",
    "    current = datetime.datetime.strptime(date_string, '%Y-%m-%d').date()  # str转date\n",
    "    today = datetime.date.today()\n",
    "    if current >= first_day(today, 3):\n",
    "        return 1\n",
    "    elif last_day(today, 4) >= current >= first_day(today, 6):\n",
    "        return 2\n",
    "    elif last_day(today, 7) >= current >= first_day(today, 12):\n",
    "        return 3\n",
    "    elif last_day(today, 13) >= current:\n",
    "        return 4"
   ]
  },
  {
   "cell_type": "code",
   "execution_count": 61,
   "metadata": {},
   "outputs": [],
   "source": [
    "# date_string is string type\n",
    "def is_senior(date_string):\n",
    "    if date_string == '-':  # nan has been converted to '-'\n",
    "        return True # ??\n",
    "    current = datetime.datetime.strptime(date_string, '%Y-%m-%d').date()  # str转date\n",
    "    today = datetime.date.today()\n",
    "    if last_day(today, 13) >= current >= datetime.date(2017, 12, 1):\n",
    "        return True\n",
    "    else:\n",
    "        return False"
   ]
  },
  {
   "cell_type": "code",
   "execution_count": 62,
   "metadata": {},
   "outputs": [],
   "source": [
    "dfb = dfa.copy()            # avoid SettingWithCopyWarning\n",
    "dfb[\"群体\"] = dfb[\"入职日期\"].map(which_group)\n",
    "dfb = dfb[dfb[\"群体\"].isin([1, 2, 3, 4])]"
   ]
  },
  {
   "cell_type": "code",
   "execution_count": 63,
   "metadata": {},
   "outputs": [
    {
     "data": {
      "text/html": [
       "<div>\n",
       "<style scoped>\n",
       "    .dataframe tbody tr th:only-of-type {\n",
       "        vertical-align: middle;\n",
       "    }\n",
       "\n",
       "    .dataframe tbody tr th {\n",
       "        vertical-align: top;\n",
       "    }\n",
       "\n",
       "    .dataframe thead th {\n",
       "        text-align: right;\n",
       "    }\n",
       "</style>\n",
       "<table border=\"1\" class=\"dataframe\">\n",
       "  <thead>\n",
       "    <tr style=\"text-align: right;\">\n",
       "      <th></th>\n",
       "      <th>员工号</th>\n",
       "      <th>点号合计</th>\n",
       "      <th>销售业绩</th>\n",
       "      <th>二级部门</th>\n",
       "      <th>部门</th>\n",
       "      <th>岗位名称</th>\n",
       "      <th>姓名</th>\n",
       "      <th>入职日期</th>\n",
       "      <th>随机数</th>\n",
       "      <th>群体</th>\n",
       "    </tr>\n",
       "  </thead>\n",
       "  <tbody>\n",
       "    <tr>\n",
       "      <th>0</th>\n",
       "      <td>1703024</td>\n",
       "      <td>175.0</td>\n",
       "      <td>255024.44</td>\n",
       "      <td>北京区域</td>\n",
       "      <td>北京华彩店</td>\n",
       "      <td>专家</td>\n",
       "      <td>白社红</td>\n",
       "      <td>2018-09-07</td>\n",
       "      <td>0.248709</td>\n",
       "      <td>3</td>\n",
       "    </tr>\n",
       "    <tr>\n",
       "      <th>1</th>\n",
       "      <td>16122101</td>\n",
       "      <td>105.0</td>\n",
       "      <td>189920.49</td>\n",
       "      <td>济南区域</td>\n",
       "      <td>济南和谐店</td>\n",
       "      <td>SPA师</td>\n",
       "      <td>陈新春</td>\n",
       "      <td>2016-12-21</td>\n",
       "      <td>0.781960</td>\n",
       "      <td>4</td>\n",
       "    </tr>\n",
       "    <tr>\n",
       "      <th>2</th>\n",
       "      <td>16122102</td>\n",
       "      <td>41.0</td>\n",
       "      <td>82261.00</td>\n",
       "      <td>济南区域</td>\n",
       "      <td>济南和谐店</td>\n",
       "      <td>SPA师</td>\n",
       "      <td>王洪伟</td>\n",
       "      <td>2016-12-21</td>\n",
       "      <td>0.088494</td>\n",
       "      <td>4</td>\n",
       "    </tr>\n",
       "    <tr>\n",
       "      <th>3</th>\n",
       "      <td>16122104</td>\n",
       "      <td>116.0</td>\n",
       "      <td>235997.73</td>\n",
       "      <td>济南区域</td>\n",
       "      <td>济南和谐店</td>\n",
       "      <td>SPA师</td>\n",
       "      <td>王珊珊</td>\n",
       "      <td>2016-12-22</td>\n",
       "      <td>0.680841</td>\n",
       "      <td>4</td>\n",
       "    </tr>\n",
       "    <tr>\n",
       "      <th>4</th>\n",
       "      <td>16122108</td>\n",
       "      <td>31.0</td>\n",
       "      <td>34213.00</td>\n",
       "      <td>济南区域</td>\n",
       "      <td>济南和谐店</td>\n",
       "      <td>SPA师</td>\n",
       "      <td>慕薇</td>\n",
       "      <td>2019-04-01</td>\n",
       "      <td>0.962043</td>\n",
       "      <td>1</td>\n",
       "    </tr>\n",
       "  </tbody>\n",
       "</table>\n",
       "</div>"
      ],
      "text/plain": [
       "        员工号   点号合计       销售业绩  二级部门     部门  岗位名称   姓名        入职日期       随机数  \\\n",
       "0   1703024  175.0  255024.44  北京区域  北京华彩店    专家  白社红  2018-09-07  0.248709   \n",
       "1  16122101  105.0  189920.49  济南区域  济南和谐店  SPA师  陈新春  2016-12-21  0.781960   \n",
       "2  16122102   41.0   82261.00  济南区域  济南和谐店  SPA师  王洪伟  2016-12-21  0.088494   \n",
       "3  16122104  116.0  235997.73  济南区域  济南和谐店  SPA师  王珊珊  2016-12-22  0.680841   \n",
       "4  16122108   31.0   34213.00  济南区域  济南和谐店  SPA师   慕薇  2019-04-01  0.962043   \n",
       "\n",
       "   群体  \n",
       "0   3  \n",
       "1   4  \n",
       "2   4  \n",
       "3   4  \n",
       "4   1  "
      ]
     },
     "execution_count": 63,
     "metadata": {},
     "output_type": "execute_result"
    }
   ],
   "source": [
    "dfb.head()"
   ]
  },
  {
   "cell_type": "code",
   "execution_count": 64,
   "metadata": {},
   "outputs": [],
   "source": [
    "region = dfb[\"二级部门\"].unique()"
   ]
  },
  {
   "cell_type": "code",
   "execution_count": 65,
   "metadata": {},
   "outputs": [],
   "source": [
    "# 创建文件夹\n",
    "def mkdir(path):\n",
    "    # 去除首尾空格\n",
    "    path = rm_space(path)\n",
    "\n",
    "    # 判断路径是否存在\n",
    "    exists = os.path.exists(path)\n",
    "\n",
    "    # 判断结果\n",
    "    if not exists:\n",
    "        # 如果不存在则创建目录\n",
    "        os.makedirs(path)\n",
    "        print(\"{} PATH:{}\".format(\"创建成功!\", path))\n",
    "        return\n",
    "    else:\n",
    "        # 如果目录存在则不创建，并提示目录已存在\n",
    "        print(\"{} PATH:{}\".format(\"目录已存在!\", path))\n",
    "        return"
   ]
  },
  {
   "cell_type": "code",
   "execution_count": 1114,
   "metadata": {},
   "outputs": [
    {
     "name": "stdout",
     "output_type": "stream",
     "text": [
      "目录已存在! PATH:/Users/gongchenyin/PycharmProjects/ra/Peer-Filter/src/5月筛选人员python\n",
      "True\n",
      "True\n",
      "True\n",
      "True\n",
      "True\n",
      "True\n",
      "True\n",
      "True\n",
      "True\n",
      "True\n",
      "True\n",
      "True\n",
      "True\n",
      "True\n",
      "True\n",
      "True\n",
      "True\n",
      "True\n",
      "True\n",
      "True\n",
      "True\n",
      "True\n",
      "True\n",
      "True\n",
      "True\n",
      "True\n",
      "True\n",
      "True\n",
      "True\n",
      "True\n",
      "True\n",
      "True\n",
      "True\n",
      "True\n",
      "True\n",
      "True\n",
      "True\n",
      "True\n",
      "True\n",
      "True\n",
      "True\n",
      "True\n",
      "True\n",
      "True\n",
      "True\n",
      "True\n",
      "True\n",
      "True\n",
      "True\n",
      "True\n",
      "True\n",
      "True\n"
     ]
    }
   ],
   "source": [
    "dir_path_of_result = \"/Users/gongchenyin/PycharmProjects/ra/Peer-Filter/src/5月筛选人员python\"\n",
    "mkdir(dir_path_of_result)\n",
    "group_name = [\"0-3个月\", \"4-6个月\", \"7-12个月\", \"1年以上\"]\n",
    "\n",
    "for r in region:\n",
    "    # 组1-3: 先理疗师，再SPA师+专家\n",
    "    filepath = dir_path_of_result + '/' + r + \".xlsx\"\n",
    "    writer = pd.ExcelWriter(filepath)\n",
    "    for g in range(3):\n",
    "        dfc = dfb[(dfb[\"二级部门\"] == r) & (dfb[\"群体\"] == (g+1))]\n",
    "        dfc_1 = dfc[dfc[\"岗位名称\"] == \"理疗师\"]\n",
    "        dfc_2 = dfc[(dfc[\"岗位名称\"] == \"SPA师\") | (dfc[\"岗位名称\"] == \"专家\")]\n",
    "        print(len(dfc_1) + len(dfc_2) == len(dfc))  # 人数是否对得上\n",
    "        # 按业绩排序: 从高到低\n",
    "        dfc_1 = dfc_1.sort_values(by=\"销售业绩\", ascending=False)\n",
    "        dfc_1.reset_index(drop=True, inplace=True)\n",
    "        dfc_2 = dfc_2.sort_values(by=\"销售业绩\", ascending=False)\n",
    "        dfc_2.reset_index(drop=True, inplace=True)\n",
    "        \n",
    "        # 取中间1/3, 如果太小，则全选\n",
    "        cutoff1 = len(dfc_1)//3  \n",
    "        cutoff2 = len(dfc_2)//3\n",
    "        if cutoff1 < 3:\n",
    "            dfc_11 = dfc_1\n",
    "        else:\n",
    "            dfc_11 = dfc_1[cutoff1 : cutoff1*2+2]\n",
    "        if cutoff2 < 6:\n",
    "            dfc_22 = dfc_2\n",
    "        else:\n",
    "            dfc_22 = dfc_2[cutoff2 : cutoff2*2+4]\n",
    "        dfc_11.reset_index(drop=True, inplace=True)\n",
    "        dfc_22.reset_index(drop=True, inplace=True)\n",
    "        # 理疗师选前5人，其他选前10人，注意考虑corner case: 人员不足，把该时间段所有的入职人员全部放入\n",
    "        len1 = len(dfc_11)\n",
    "        len2 = len(dfc_22)\n",
    "        if len1 < 5:\n",
    "            dfc_111 = dfc_11\n",
    "        else:\n",
    "            dfc_111 = dfc_11[:5]\n",
    "        if len2 < 10:\n",
    "            dfc_222 = dfc_22\n",
    "        else:\n",
    "            dfc_222 = dfc_22[:10]\n",
    "        # 合并,并按随机数从大到小排序\n",
    "        dfd = pd.concat([dfc_111, dfc_222])\n",
    "        dfd = dfd.sort_values(by=\"随机数\", ascending=False)\n",
    "        # 整理排序变量名\n",
    "        dfd = dfd.reindex([\"员工号\", \"岗位名称\", \"姓名\", \"点号合计\", \"销售业绩\", \"二级部门\", \"部门\", \"入职日期\", \"随机数\", \"群体\"], axis=1)\n",
    "        dfd.to_excel(writer, sheet_name=group_name[g], index=None)\n",
    "        \n",
    "    # 组4: 不区分技师类别\n",
    "    dfc = dfb[(dfb[\"二级部门\"] == r) & (dfb[\"群体\"] == 4)]\n",
    "    dfc_1 = dfc[(dfc[\"岗位名称\"] == \"理疗师\") | (dfc[\"岗位名称\"] == \"SPA师\") | (dfc[\"岗位名称\"] == \"专家\")]\n",
    "    print(len(dfc_1) == len(dfc))  # 人数是否对得上\n",
    "    # 按业绩排序: 从高到低\n",
    "    dfc_1 = dfc_1.sort_values(by=\"销售业绩\", ascending=False)\n",
    "    dfc_1.reset_index(drop=True, inplace=True)\n",
    "    # 取中间1/3\n",
    "    cutoff1 = len(dfc_1)//3  # 可行吗？\n",
    "    dfc_11 = dfc_1[cutoff1 : cutoff1*2]\n",
    "    dfc_11.reset_index(drop=True, inplace=True)\n",
    "    # 选前15人，注意考虑corner case: 人员不足，把该时间段所有的入职人员全部放入\n",
    "    len1 = len(dfc_11)\n",
    "    if len1 < 15:\n",
    "        dfc_111 = dfc_11      \n",
    "    else:\n",
    "        dfc_111 = dfc_11[:15]\n",
    "    # 按随机数从大到小排序\n",
    "    dfd = dfc_111.sort_values(by=\"随机数\", ascending=False)\n",
    "    # 整理排序变量名\n",
    "    dfd = dfd.reindex([\"员工号\", \"岗位名称\", \"姓名\", \"点号合计\", \"销售业绩\", \"二级部门\", \"部门\", \"入职日期\", \"随机数\", \"群体\"], axis=1)\n",
    "    dfd.to_excel(writer, sheet_name=group_name[3], index=None)\n",
    "    writer.save()\n",
    "    writer.close()"
   ]
  },
  {
   "cell_type": "code",
   "execution_count": 1115,
   "metadata": {},
   "outputs": [],
   "source": [
    "test = dfb[(dfb[\"二级部门\"] == \"鲁北区域\") & (dfb[\"群体\"] == 1)]"
   ]
  },
  {
   "cell_type": "code",
   "execution_count": 1116,
   "metadata": {},
   "outputs": [
    {
     "data": {
      "text/html": [
       "<div>\n",
       "<style scoped>\n",
       "    .dataframe tbody tr th:only-of-type {\n",
       "        vertical-align: middle;\n",
       "    }\n",
       "\n",
       "    .dataframe tbody tr th {\n",
       "        vertical-align: top;\n",
       "    }\n",
       "\n",
       "    .dataframe thead th {\n",
       "        text-align: right;\n",
       "    }\n",
       "</style>\n",
       "<table border=\"1\" class=\"dataframe\">\n",
       "  <thead>\n",
       "    <tr style=\"text-align: right;\">\n",
       "      <th></th>\n",
       "      <th>员工号</th>\n",
       "      <th>点号合计</th>\n",
       "      <th>销售业绩</th>\n",
       "      <th>二级部门</th>\n",
       "      <th>部门</th>\n",
       "      <th>岗位名称</th>\n",
       "      <th>姓名</th>\n",
       "      <th>入职日期</th>\n",
       "      <th>随机数</th>\n",
       "      <th>群体</th>\n",
       "    </tr>\n",
       "  </thead>\n",
       "  <tbody>\n",
       "    <tr>\n",
       "      <th>1146</th>\n",
       "      <td>171116015</td>\n",
       "      <td>8.0</td>\n",
       "      <td>1380.0</td>\n",
       "      <td>鲁北区域</td>\n",
       "      <td>东营西四路店</td>\n",
       "      <td>SPA师</td>\n",
       "      <td>吴晴晴</td>\n",
       "      <td>2019-05-29</td>\n",
       "      <td>0.638920</td>\n",
       "      <td>1</td>\n",
       "    </tr>\n",
       "    <tr>\n",
       "      <th>2264</th>\n",
       "      <td>180918028</td>\n",
       "      <td>10.0</td>\n",
       "      <td>2666.0</td>\n",
       "      <td>鲁北区域</td>\n",
       "      <td>东营金辰店</td>\n",
       "      <td>SPA师</td>\n",
       "      <td>徐波</td>\n",
       "      <td>2019-03-01</td>\n",
       "      <td>0.206429</td>\n",
       "      <td>1</td>\n",
       "    </tr>\n",
       "  </tbody>\n",
       "</table>\n",
       "</div>"
      ],
      "text/plain": [
       "            员工号  点号合计    销售业绩  二级部门      部门  岗位名称   姓名        入职日期       随机数  \\\n",
       "1146  171116015   8.0  1380.0  鲁北区域  东营西四路店  SPA师  吴晴晴  2019-05-29  0.638920   \n",
       "2264  180918028  10.0  2666.0  鲁北区域   东营金辰店  SPA师   徐波  2019-03-01  0.206429   \n",
       "\n",
       "      群体  \n",
       "1146   1  \n",
       "2264   1  "
      ]
     },
     "execution_count": 1116,
     "metadata": {},
     "output_type": "execute_result"
    }
   ],
   "source": [
    "test.head(2)"
   ]
  },
  {
   "cell_type": "markdown",
   "metadata": {},
   "source": [
    "## level 2"
   ]
  },
  {
   "cell_type": "code",
   "execution_count": 1117,
   "metadata": {},
   "outputs": [],
   "source": [
    "# 对每个区进行如下操作\n",
    "dfbb = dfb[dfb[\"二级部门\"] == \"北京区域\"]\n",
    "# a: 对整个dfb按业绩从高到低排序，选出前1/2\n",
    "dfc = dfbb.sort_values(by=\"销售业绩\", ascending=False)\n",
    "dfc.reset_index(drop=True, inplace=True)\n",
    "# 选出前1/2，cutoff太小怎么办？\n",
    "cutoff = len(dfc)//2\n",
    "if cutoff < 15:\n",
    "    dfc_1 = dfc\n",
    "else:\n",
    "    dfc_1 = dfc[:cutoff]"
   ]
  },
  {
   "cell_type": "code",
   "execution_count": 1118,
   "metadata": {},
   "outputs": [],
   "source": [
    "# b: 筛选老人组名单\n",
    "dfc_11 = dfc_1.copy()            # avoid SettingWithCopyWarning\n",
    "dfc_11[\"群体\"] = dfc_1[\"入职日期\"].map(is_senior)"
   ]
  },
  {
   "cell_type": "code",
   "execution_count": 1119,
   "metadata": {},
   "outputs": [
    {
     "data": {
      "text/plain": [
       "56"
      ]
     },
     "execution_count": 1119,
     "metadata": {},
     "output_type": "execute_result"
    }
   ],
   "source": [
    "len(dfc_11[dfc_11[\"群体\"]][\"入职日期\"])"
   ]
  },
  {
   "cell_type": "code",
   "execution_count": 1120,
   "metadata": {},
   "outputs": [],
   "source": [
    "dfc_111 = dfc_11[dfc_11[\"群体\"]]"
   ]
  },
  {
   "cell_type": "code",
   "execution_count": 1121,
   "metadata": {},
   "outputs": [],
   "source": [
    "dfc_111.reset_index(drop=True, inplace=True)"
   ]
  },
  {
   "cell_type": "code",
   "execution_count": 1122,
   "metadata": {},
   "outputs": [
    {
     "data": {
      "text/html": [
       "<div>\n",
       "<style scoped>\n",
       "    .dataframe tbody tr th:only-of-type {\n",
       "        vertical-align: middle;\n",
       "    }\n",
       "\n",
       "    .dataframe tbody tr th {\n",
       "        vertical-align: top;\n",
       "    }\n",
       "\n",
       "    .dataframe thead th {\n",
       "        text-align: right;\n",
       "    }\n",
       "</style>\n",
       "<table border=\"1\" class=\"dataframe\">\n",
       "  <thead>\n",
       "    <tr style=\"text-align: right;\">\n",
       "      <th></th>\n",
       "      <th>员工号</th>\n",
       "      <th>点号合计</th>\n",
       "      <th>销售业绩</th>\n",
       "      <th>二级部门</th>\n",
       "      <th>部门</th>\n",
       "      <th>岗位名称</th>\n",
       "      <th>姓名</th>\n",
       "      <th>入职日期</th>\n",
       "      <th>随机数</th>\n",
       "      <th>群体</th>\n",
       "    </tr>\n",
       "  </thead>\n",
       "  <tbody>\n",
       "    <tr>\n",
       "      <th>0</th>\n",
       "      <td>170513005</td>\n",
       "      <td>106.0</td>\n",
       "      <td>446693.04</td>\n",
       "      <td>北京区域</td>\n",
       "      <td>北京鸟巢店</td>\n",
       "      <td>专家</td>\n",
       "      <td>杨贤芬</td>\n",
       "      <td>2018-05-01</td>\n",
       "      <td>0.835365</td>\n",
       "      <td>True</td>\n",
       "    </tr>\n",
       "    <tr>\n",
       "      <th>1</th>\n",
       "      <td>17022615</td>\n",
       "      <td>156.0</td>\n",
       "      <td>367050.51</td>\n",
       "      <td>北京区域</td>\n",
       "      <td>北京西客站店</td>\n",
       "      <td>专家</td>\n",
       "      <td>罗海燕</td>\n",
       "      <td>2018-05-29</td>\n",
       "      <td>0.858309</td>\n",
       "      <td>True</td>\n",
       "    </tr>\n",
       "  </tbody>\n",
       "</table>\n",
       "</div>"
      ],
      "text/plain": [
       "         员工号   点号合计       销售业绩  二级部门      部门 岗位名称   姓名        入职日期       随机数  \\\n",
       "0  170513005  106.0  446693.04  北京区域   北京鸟巢店   专家  杨贤芬  2018-05-01  0.835365   \n",
       "1   17022615  156.0  367050.51  北京区域  北京西客站店   专家  罗海燕  2018-05-29  0.858309   \n",
       "\n",
       "     群体  \n",
       "0  True  \n",
       "1  True  "
      ]
     },
     "execution_count": 1122,
     "metadata": {},
     "output_type": "execute_result"
    }
   ],
   "source": [
    "dfc_111.head(2)"
   ]
  },
  {
   "cell_type": "code",
   "execution_count": 1123,
   "metadata": {},
   "outputs": [
    {
     "data": {
      "text/plain": [
       "0"
      ]
     },
     "execution_count": 1123,
     "metadata": {},
     "output_type": "execute_result"
    }
   ],
   "source": [
    "sum(dfc_111['员工号'].duplicated())"
   ]
  },
  {
   "cell_type": "code",
   "execution_count": 1124,
   "metadata": {},
   "outputs": [
    {
     "data": {
      "text/plain": [
       "56"
      ]
     },
     "execution_count": 1124,
     "metadata": {},
     "output_type": "execute_result"
    }
   ],
   "source": [
    "len(dfc_111)"
   ]
  },
  {
   "cell_type": "code",
   "execution_count": 1125,
   "metadata": {},
   "outputs": [
    {
     "data": {
      "text/html": [
       "<div>\n",
       "<style scoped>\n",
       "    .dataframe tbody tr th:only-of-type {\n",
       "        vertical-align: middle;\n",
       "    }\n",
       "\n",
       "    .dataframe tbody tr th {\n",
       "        vertical-align: top;\n",
       "    }\n",
       "\n",
       "    .dataframe thead th {\n",
       "        text-align: right;\n",
       "    }\n",
       "</style>\n",
       "<table border=\"1\" class=\"dataframe\">\n",
       "  <thead>\n",
       "    <tr style=\"text-align: right;\">\n",
       "      <th></th>\n",
       "      <th>工号</th>\n",
       "      <th>姓名</th>\n",
       "      <th>岗位</th>\n",
       "      <th>入职日期</th>\n",
       "      <th>出勤</th>\n",
       "      <th>点号合计</th>\n",
       "      <th>销售业绩</th>\n",
       "      <th>工资年月</th>\n",
       "      <th>部门</th>\n",
       "      <th>区域</th>\n",
       "    </tr>\n",
       "  </thead>\n",
       "  <tbody>\n",
       "    <tr>\n",
       "      <th>0</th>\n",
       "      <td>171031039.0</td>\n",
       "      <td>王怀北</td>\n",
       "      <td>专家</td>\n",
       "      <td>2017-10-30 00:00:00</td>\n",
       "      <td>5.0</td>\n",
       "      <td>7.0</td>\n",
       "      <td>6200.0</td>\n",
       "      <td>2018-03-01</td>\n",
       "      <td>济南旅游路店</td>\n",
       "      <td>济南区域</td>\n",
       "    </tr>\n",
       "    <tr>\n",
       "      <th>1</th>\n",
       "      <td>171031039.0</td>\n",
       "      <td>王怀北</td>\n",
       "      <td>专家</td>\n",
       "      <td>2017-10-30 00:00:00</td>\n",
       "      <td>30.0</td>\n",
       "      <td>29.0</td>\n",
       "      <td>1900.0</td>\n",
       "      <td>2018-12-01</td>\n",
       "      <td>济南旅游路店</td>\n",
       "      <td>济南区域</td>\n",
       "    </tr>\n",
       "    <tr>\n",
       "      <th>2</th>\n",
       "      <td>171031039.0</td>\n",
       "      <td>王怀北</td>\n",
       "      <td>专家</td>\n",
       "      <td>2017-10-30 00:00:00</td>\n",
       "      <td>30.0</td>\n",
       "      <td>32.0</td>\n",
       "      <td>6300.0</td>\n",
       "      <td>2018-01-01</td>\n",
       "      <td>济南旅游路店</td>\n",
       "      <td>济南区域</td>\n",
       "    </tr>\n",
       "    <tr>\n",
       "      <th>3</th>\n",
       "      <td>171031039.0</td>\n",
       "      <td>王怀北</td>\n",
       "      <td>专家</td>\n",
       "      <td>2017-10-30 00:00:00</td>\n",
       "      <td>30.0</td>\n",
       "      <td>83.0</td>\n",
       "      <td>30634.0</td>\n",
       "      <td>2018-10-01</td>\n",
       "      <td>济南旅游路店</td>\n",
       "      <td>济南区域</td>\n",
       "    </tr>\n",
       "    <tr>\n",
       "      <th>4</th>\n",
       "      <td>171031039.0</td>\n",
       "      <td>王怀北</td>\n",
       "      <td>专家</td>\n",
       "      <td>2017-10-30 00:00:00</td>\n",
       "      <td>10.0</td>\n",
       "      <td>1.0</td>\n",
       "      <td>0.0</td>\n",
       "      <td>2018-05-01</td>\n",
       "      <td>济南旅游路店</td>\n",
       "      <td>济南区域</td>\n",
       "    </tr>\n",
       "  </tbody>\n",
       "</table>\n",
       "</div>"
      ],
      "text/plain": [
       "            工号   姓名  岗位                 入职日期    出勤  点号合计     销售业绩       工资年月  \\\n",
       "0  171031039.0  王怀北  专家  2017-10-30 00:00:00   5.0   7.0   6200.0 2018-03-01   \n",
       "1  171031039.0  王怀北  专家  2017-10-30 00:00:00  30.0  29.0   1900.0 2018-12-01   \n",
       "2  171031039.0  王怀北  专家  2017-10-30 00:00:00  30.0  32.0   6300.0 2018-01-01   \n",
       "3  171031039.0  王怀北  专家  2017-10-30 00:00:00  30.0  83.0  30634.0 2018-10-01   \n",
       "4  171031039.0  王怀北  专家  2017-10-30 00:00:00  10.0   1.0      0.0 2018-05-01   \n",
       "\n",
       "       部门    区域  \n",
       "0  济南旅游路店  济南区域  \n",
       "1  济南旅游路店  济南区域  \n",
       "2  济南旅游路店  济南区域  \n",
       "3  济南旅游路店  济南区域  \n",
       "4  济南旅游路店  济南区域  "
      ]
     },
     "execution_count": 1125,
     "metadata": {},
     "output_type": "execute_result"
    }
   ],
   "source": [
    "df3.head()"
   ]
  },
  {
   "cell_type": "code",
   "execution_count": 1126,
   "metadata": {},
   "outputs": [],
   "source": [
    "# c: 以dfc_111“员工号”为基准，筛选出df3中的这部分人\n",
    "df4 = df3[df3[\"工号\"].isin(dfc_111[\"员工号\"])]"
   ]
  },
  {
   "cell_type": "code",
   "execution_count": 1127,
   "metadata": {},
   "outputs": [
    {
     "data": {
      "text/plain": [
       "(850, 56)"
      ]
     },
     "execution_count": 1127,
     "metadata": {},
     "output_type": "execute_result"
    }
   ],
   "source": [
    "len(df4), len(df4[\"工号\"].unique())"
   ]
  },
  {
   "cell_type": "code",
   "execution_count": 1128,
   "metadata": {},
   "outputs": [],
   "source": [
    "df4 = df4.sort_values(by=\"工号\")\n",
    "df4.reset_index(drop=True, inplace=True)"
   ]
  },
  {
   "cell_type": "code",
   "execution_count": 1129,
   "metadata": {},
   "outputs": [
    {
     "data": {
      "text/html": [
       "<div>\n",
       "<style scoped>\n",
       "    .dataframe tbody tr th:only-of-type {\n",
       "        vertical-align: middle;\n",
       "    }\n",
       "\n",
       "    .dataframe tbody tr th {\n",
       "        vertical-align: top;\n",
       "    }\n",
       "\n",
       "    .dataframe thead th {\n",
       "        text-align: right;\n",
       "    }\n",
       "</style>\n",
       "<table border=\"1\" class=\"dataframe\">\n",
       "  <thead>\n",
       "    <tr style=\"text-align: right;\">\n",
       "      <th></th>\n",
       "      <th>工号</th>\n",
       "      <th>姓名</th>\n",
       "      <th>岗位</th>\n",
       "      <th>入职日期</th>\n",
       "      <th>出勤</th>\n",
       "      <th>点号合计</th>\n",
       "      <th>销售业绩</th>\n",
       "      <th>工资年月</th>\n",
       "      <th>部门</th>\n",
       "      <th>区域</th>\n",
       "    </tr>\n",
       "  </thead>\n",
       "  <tbody>\n",
       "    <tr>\n",
       "      <th>0</th>\n",
       "      <td>17022615.0</td>\n",
       "      <td>罗海燕</td>\n",
       "      <td>专家</td>\n",
       "      <td>2016-09-01 00:00:00</td>\n",
       "      <td>19.0</td>\n",
       "      <td>47.0</td>\n",
       "      <td>36481.00</td>\n",
       "      <td>2018-05-01</td>\n",
       "      <td>北京西大望路店</td>\n",
       "      <td>北京区域</td>\n",
       "    </tr>\n",
       "    <tr>\n",
       "      <th>1</th>\n",
       "      <td>17022615.0</td>\n",
       "      <td>罗海燕</td>\n",
       "      <td>专家</td>\n",
       "      <td>2018-05-01 00:00:00</td>\n",
       "      <td>15.0</td>\n",
       "      <td>43.0</td>\n",
       "      <td>98720.00</td>\n",
       "      <td>2018-11-01</td>\n",
       "      <td>北京西客站店</td>\n",
       "      <td>北京区域</td>\n",
       "    </tr>\n",
       "    <tr>\n",
       "      <th>2</th>\n",
       "      <td>17022615.0</td>\n",
       "      <td>罗海燕</td>\n",
       "      <td>专家</td>\n",
       "      <td>2018-05-01 00:00:00</td>\n",
       "      <td>30.0</td>\n",
       "      <td>46.0</td>\n",
       "      <td>19983.00</td>\n",
       "      <td>2018-07-01</td>\n",
       "      <td>北京西客站店</td>\n",
       "      <td>北京区域</td>\n",
       "    </tr>\n",
       "    <tr>\n",
       "      <th>3</th>\n",
       "      <td>17022615.0</td>\n",
       "      <td>罗海燕</td>\n",
       "      <td>专家</td>\n",
       "      <td>2018-05-01 00:00:00</td>\n",
       "      <td>28.0</td>\n",
       "      <td>72.0</td>\n",
       "      <td>68933.32</td>\n",
       "      <td>2019-01-01</td>\n",
       "      <td>北京西客站店</td>\n",
       "      <td>北京区域</td>\n",
       "    </tr>\n",
       "    <tr>\n",
       "      <th>4</th>\n",
       "      <td>17022615.0</td>\n",
       "      <td>罗海燕</td>\n",
       "      <td>专家</td>\n",
       "      <td>2018-05-01 00:00:00</td>\n",
       "      <td>30.0</td>\n",
       "      <td>57.0</td>\n",
       "      <td>63386.66</td>\n",
       "      <td>2018-09-01</td>\n",
       "      <td>北京西客站店</td>\n",
       "      <td>北京区域</td>\n",
       "    </tr>\n",
       "  </tbody>\n",
       "</table>\n",
       "</div>"
      ],
      "text/plain": [
       "           工号   姓名  岗位                 入职日期    出勤  点号合计      销售业绩       工资年月  \\\n",
       "0  17022615.0  罗海燕  专家  2016-09-01 00:00:00  19.0  47.0  36481.00 2018-05-01   \n",
       "1  17022615.0  罗海燕  专家  2018-05-01 00:00:00  15.0  43.0  98720.00 2018-11-01   \n",
       "2  17022615.0  罗海燕  专家  2018-05-01 00:00:00  30.0  46.0  19983.00 2018-07-01   \n",
       "3  17022615.0  罗海燕  专家  2018-05-01 00:00:00  28.0  72.0  68933.32 2019-01-01   \n",
       "4  17022615.0  罗海燕  专家  2018-05-01 00:00:00  30.0  57.0  63386.66 2018-09-01   \n",
       "\n",
       "        部门    区域  \n",
       "0  北京西大望路店  北京区域  \n",
       "1   北京西客站店  北京区域  \n",
       "2   北京西客站店  北京区域  \n",
       "3   北京西客站店  北京区域  \n",
       "4   北京西客站店  北京区域  "
      ]
     },
     "execution_count": 1129,
     "metadata": {},
     "output_type": "execute_result"
    }
   ],
   "source": [
    "# df4中有些员工的入职日期有变化，而且因为录入原因，仍然存在2017年12月1日以前入职的，所以再做一次筛选\n",
    "# 后续有了维护表，就不用再做一次筛选了\n",
    "df4.head()"
   ]
  },
  {
   "cell_type": "code",
   "execution_count": 1130,
   "metadata": {},
   "outputs": [],
   "source": [
    "df4.fillna('-', inplace=True)   # 放在最前面，直接对所有nan值进行转换"
   ]
  },
  {
   "cell_type": "code",
   "execution_count": 1131,
   "metadata": {},
   "outputs": [],
   "source": [
    "# to string\n",
    "def to_date(datetime):\n",
    "    if datetime == '-':\n",
    "        return '-'\n",
    "    else:\n",
    "        return str(datetime.date())"
   ]
  },
  {
   "cell_type": "code",
   "execution_count": 1132,
   "metadata": {},
   "outputs": [],
   "source": [
    "# 先将“入职日期”和“工资年月”转换成datetime.date: date方法\n",
    "df4[\"入职日期\"] = df4[\"入职日期\"].map(to_date)\n",
    "df4[\"工资年月\"] = df4[\"工资年月\"].map(to_date)"
   ]
  },
  {
   "cell_type": "code",
   "execution_count": 1133,
   "metadata": {},
   "outputs": [
    {
     "data": {
      "text/plain": [
       "'2016-09-01'"
      ]
     },
     "execution_count": 1133,
     "metadata": {},
     "output_type": "execute_result"
    }
   ],
   "source": [
    "df4[\"入职日期\"][0]"
   ]
  },
  {
   "cell_type": "code",
   "execution_count": 1134,
   "metadata": {},
   "outputs": [],
   "source": [
    "# b: 筛选老人组名单\n",
    "df4a = df4.copy()            # avoid SettingWithCopyWarning\n",
    "df4a[\"群体\"] = df4a[\"入职日期\"].map(is_senior)"
   ]
  },
  {
   "cell_type": "code",
   "execution_count": 1135,
   "metadata": {},
   "outputs": [
    {
     "data": {
      "text/html": [
       "<div>\n",
       "<style scoped>\n",
       "    .dataframe tbody tr th:only-of-type {\n",
       "        vertical-align: middle;\n",
       "    }\n",
       "\n",
       "    .dataframe tbody tr th {\n",
       "        vertical-align: top;\n",
       "    }\n",
       "\n",
       "    .dataframe thead th {\n",
       "        text-align: right;\n",
       "    }\n",
       "</style>\n",
       "<table border=\"1\" class=\"dataframe\">\n",
       "  <thead>\n",
       "    <tr style=\"text-align: right;\">\n",
       "      <th></th>\n",
       "      <th>工号</th>\n",
       "      <th>姓名</th>\n",
       "      <th>岗位</th>\n",
       "      <th>入职日期</th>\n",
       "      <th>出勤</th>\n",
       "      <th>点号合计</th>\n",
       "      <th>销售业绩</th>\n",
       "      <th>工资年月</th>\n",
       "      <th>部门</th>\n",
       "      <th>区域</th>\n",
       "      <th>群体</th>\n",
       "    </tr>\n",
       "  </thead>\n",
       "  <tbody>\n",
       "    <tr>\n",
       "      <th>0</th>\n",
       "      <td>17022615.0</td>\n",
       "      <td>罗海燕</td>\n",
       "      <td>专家</td>\n",
       "      <td>2016-09-01</td>\n",
       "      <td>19</td>\n",
       "      <td>47</td>\n",
       "      <td>36481</td>\n",
       "      <td>2018-05-01</td>\n",
       "      <td>北京西大望路店</td>\n",
       "      <td>北京区域</td>\n",
       "      <td>False</td>\n",
       "    </tr>\n",
       "    <tr>\n",
       "      <th>1</th>\n",
       "      <td>17022615.0</td>\n",
       "      <td>罗海燕</td>\n",
       "      <td>专家</td>\n",
       "      <td>2018-05-01</td>\n",
       "      <td>15</td>\n",
       "      <td>43</td>\n",
       "      <td>98720</td>\n",
       "      <td>2018-11-01</td>\n",
       "      <td>北京西客站店</td>\n",
       "      <td>北京区域</td>\n",
       "      <td>True</td>\n",
       "    </tr>\n",
       "  </tbody>\n",
       "</table>\n",
       "</div>"
      ],
      "text/plain": [
       "           工号   姓名  岗位        入职日期  出勤 点号合计   销售业绩        工资年月       部门    区域  \\\n",
       "0  17022615.0  罗海燕  专家  2016-09-01  19   47  36481  2018-05-01  北京西大望路店  北京区域   \n",
       "1  17022615.0  罗海燕  专家  2018-05-01  15   43  98720  2018-11-01   北京西客站店  北京区域   \n",
       "\n",
       "      群体  \n",
       "0  False  \n",
       "1   True  "
      ]
     },
     "execution_count": 1135,
     "metadata": {},
     "output_type": "execute_result"
    }
   ],
   "source": [
    "df4a.head(2)"
   ]
  },
  {
   "cell_type": "markdown",
   "metadata": {},
   "source": [
    "### 删除df4a中“入职日期”不在老人组范围内的个体。一个人有不同的入职日期，有的符合有的不符合这个范围。如何清理retire的员工？"
   ]
  },
  {
   "cell_type": "code",
   "execution_count": 1136,
   "metadata": {},
   "outputs": [],
   "source": [
    "# 增加“第n月工作”：初步用df4a表中的工资年月-入职日期。alternat：用dfc_111中的入职年月为基准？\n",
    "# 计算n函数\n",
    "def month_delta(start_date: str, end_date: str):\n",
    "    \"\"\"\n",
    "    返回 end_date 和 start_date 的月份差，只初略比较年-月\n",
    "        :param start_date:\n",
    "        :param end_date:\n",
    "        :return:  month_delta  int\n",
    "    \"\"\"\n",
    "    if (start_date == '-') or (end_date == '-'):\n",
    "        return  # 返回空值，确保后续组内排序可行\n",
    "    date1 = datetime.datetime.strptime(start_date, '%Y-%m-%d').date()  # str转date\n",
    "    date2 = datetime.datetime.strptime(end_date, '%Y-%m-%d').date()  # str转date\n",
    "    flag = True\n",
    "    if date1 > date2:\n",
    "        date1, date2 = date2, date1\n",
    "        flag = False\n",
    "    year_diff = date2.year - date1.year\n",
    "    end_month = year_diff * 12 + date2.month\n",
    "    delta = end_month - date1.month\n",
    "    return -delta if flag is False else delta"
   ]
  },
  {
   "cell_type": "code",
   "execution_count": 1137,
   "metadata": {},
   "outputs": [],
   "source": [
    "df4b = df4a.copy()  # avoid SettingWithCopyWarning\n",
    "df4b[\"第n月工作\"] = df4b.apply(lambda row: month_delta(row[\"入职日期\"], row[\"工资年月\"]), axis=1)"
   ]
  },
  {
   "cell_type": "code",
   "execution_count": 1138,
   "metadata": {},
   "outputs": [],
   "source": [
    " df4b = df4b.reindex([\"工号\", \"姓名\", \"区域\", \"部门\", \"岗位\", \"出勤\", \"点号合计\", \"销售业绩\",  \"工资年月\", \"入职日期\", \"第n月工作\", \"群体\"], axis=1)"
   ]
  },
  {
   "cell_type": "code",
   "execution_count": 1139,
   "metadata": {},
   "outputs": [],
   "source": [
    "# 分组排序：对每个员工的”第n月工作“按从小到大进行排序\n",
    "# df4c = df4b.groupby(\"工号\").apply(lambda x: x.sort_values(\"第n月工作\"))"
   ]
  },
  {
   "cell_type": "code",
   "execution_count": 1140,
   "metadata": {},
   "outputs": [],
   "source": [
    "df4b.reset_index(drop=True, inplace=True)"
   ]
  },
  {
   "cell_type": "code",
   "execution_count": 1141,
   "metadata": {},
   "outputs": [
    {
     "data": {
      "text/html": [
       "<div>\n",
       "<style scoped>\n",
       "    .dataframe tbody tr th:only-of-type {\n",
       "        vertical-align: middle;\n",
       "    }\n",
       "\n",
       "    .dataframe tbody tr th {\n",
       "        vertical-align: top;\n",
       "    }\n",
       "\n",
       "    .dataframe thead th {\n",
       "        text-align: right;\n",
       "    }\n",
       "</style>\n",
       "<table border=\"1\" class=\"dataframe\">\n",
       "  <thead>\n",
       "    <tr style=\"text-align: right;\">\n",
       "      <th></th>\n",
       "      <th>工号</th>\n",
       "      <th>姓名</th>\n",
       "      <th>区域</th>\n",
       "      <th>部门</th>\n",
       "      <th>岗位</th>\n",
       "      <th>出勤</th>\n",
       "      <th>点号合计</th>\n",
       "      <th>销售业绩</th>\n",
       "      <th>工资年月</th>\n",
       "      <th>入职日期</th>\n",
       "      <th>第n月工作</th>\n",
       "      <th>群体</th>\n",
       "    </tr>\n",
       "  </thead>\n",
       "  <tbody>\n",
       "    <tr>\n",
       "      <th>0</th>\n",
       "      <td>17022615.0</td>\n",
       "      <td>罗海燕</td>\n",
       "      <td>北京区域</td>\n",
       "      <td>北京西大望路店</td>\n",
       "      <td>专家</td>\n",
       "      <td>19</td>\n",
       "      <td>47</td>\n",
       "      <td>36481</td>\n",
       "      <td>2018-05-01</td>\n",
       "      <td>2016-09-01</td>\n",
       "      <td>20.0</td>\n",
       "      <td>False</td>\n",
       "    </tr>\n",
       "    <tr>\n",
       "      <th>1</th>\n",
       "      <td>17022615.0</td>\n",
       "      <td>罗海燕</td>\n",
       "      <td>北京区域</td>\n",
       "      <td>北京西客站店</td>\n",
       "      <td>专家</td>\n",
       "      <td>15</td>\n",
       "      <td>43</td>\n",
       "      <td>98720</td>\n",
       "      <td>2018-11-01</td>\n",
       "      <td>2018-05-01</td>\n",
       "      <td>6.0</td>\n",
       "      <td>True</td>\n",
       "    </tr>\n",
       "    <tr>\n",
       "      <th>2</th>\n",
       "      <td>17022615.0</td>\n",
       "      <td>罗海燕</td>\n",
       "      <td>北京区域</td>\n",
       "      <td>北京西客站店</td>\n",
       "      <td>专家</td>\n",
       "      <td>30</td>\n",
       "      <td>46</td>\n",
       "      <td>19983</td>\n",
       "      <td>2018-07-01</td>\n",
       "      <td>2018-05-01</td>\n",
       "      <td>2.0</td>\n",
       "      <td>True</td>\n",
       "    </tr>\n",
       "    <tr>\n",
       "      <th>3</th>\n",
       "      <td>17022615.0</td>\n",
       "      <td>罗海燕</td>\n",
       "      <td>北京区域</td>\n",
       "      <td>北京西客站店</td>\n",
       "      <td>专家</td>\n",
       "      <td>28</td>\n",
       "      <td>72</td>\n",
       "      <td>68933.3</td>\n",
       "      <td>2019-01-01</td>\n",
       "      <td>2018-05-01</td>\n",
       "      <td>8.0</td>\n",
       "      <td>True</td>\n",
       "    </tr>\n",
       "    <tr>\n",
       "      <th>4</th>\n",
       "      <td>17022615.0</td>\n",
       "      <td>罗海燕</td>\n",
       "      <td>北京区域</td>\n",
       "      <td>北京西客站店</td>\n",
       "      <td>专家</td>\n",
       "      <td>30</td>\n",
       "      <td>57</td>\n",
       "      <td>63386.7</td>\n",
       "      <td>2018-09-01</td>\n",
       "      <td>2018-05-01</td>\n",
       "      <td>4.0</td>\n",
       "      <td>True</td>\n",
       "    </tr>\n",
       "  </tbody>\n",
       "</table>\n",
       "</div>"
      ],
      "text/plain": [
       "           工号   姓名    区域       部门  岗位  出勤 点号合计     销售业绩        工资年月  \\\n",
       "0  17022615.0  罗海燕  北京区域  北京西大望路店  专家  19   47    36481  2018-05-01   \n",
       "1  17022615.0  罗海燕  北京区域   北京西客站店  专家  15   43    98720  2018-11-01   \n",
       "2  17022615.0  罗海燕  北京区域   北京西客站店  专家  30   46    19983  2018-07-01   \n",
       "3  17022615.0  罗海燕  北京区域   北京西客站店  专家  28   72  68933.3  2019-01-01   \n",
       "4  17022615.0  罗海燕  北京区域   北京西客站店  专家  30   57  63386.7  2018-09-01   \n",
       "\n",
       "         入职日期  第n月工作     群体  \n",
       "0  2016-09-01   20.0  False  \n",
       "1  2018-05-01    6.0   True  \n",
       "2  2018-05-01    2.0   True  \n",
       "3  2018-05-01    8.0   True  \n",
       "4  2018-05-01    4.0   True  "
      ]
     },
     "execution_count": 1141,
     "metadata": {},
     "output_type": "execute_result"
    }
   ],
   "source": [
    "df4b.head()"
   ]
  },
  {
   "cell_type": "code",
   "execution_count": 1142,
   "metadata": {},
   "outputs": [],
   "source": [
    "# 为该区域员工(df4c)成一组随机数（还是对所有区域所有员工一次性生成随机数？）\n",
    "unique_id_list = df4b[\"工号\"].unique()"
   ]
  },
  {
   "cell_type": "code",
   "execution_count": 1143,
   "metadata": {},
   "outputs": [],
   "source": [
    "df_id_rand = pd.DataFrame([unique_id_list, sample_floats(0, 1, len(unique_id_list))], index=[\"工号\", \"随机数\"]).T"
   ]
  },
  {
   "cell_type": "code",
   "execution_count": 1144,
   "metadata": {},
   "outputs": [],
   "source": [
    "df_id_15 = df_id_rand.sort_values(\"随机数\", ascending=False)[:15]"
   ]
  },
  {
   "cell_type": "code",
   "execution_count": 1145,
   "metadata": {},
   "outputs": [],
   "source": [
    "df_id_15.reset_index(drop=True, inplace=True)"
   ]
  },
  {
   "cell_type": "code",
   "execution_count": 1146,
   "metadata": {},
   "outputs": [
    {
     "data": {
      "text/html": [
       "<div>\n",
       "<style scoped>\n",
       "    .dataframe tbody tr th:only-of-type {\n",
       "        vertical-align: middle;\n",
       "    }\n",
       "\n",
       "    .dataframe tbody tr th {\n",
       "        vertical-align: top;\n",
       "    }\n",
       "\n",
       "    .dataframe thead th {\n",
       "        text-align: right;\n",
       "    }\n",
       "</style>\n",
       "<table border=\"1\" class=\"dataframe\">\n",
       "  <thead>\n",
       "    <tr style=\"text-align: right;\">\n",
       "      <th></th>\n",
       "      <th>工号</th>\n",
       "      <th>随机数</th>\n",
       "    </tr>\n",
       "  </thead>\n",
       "  <tbody>\n",
       "    <tr>\n",
       "      <th>0</th>\n",
       "      <td>180318027.0</td>\n",
       "      <td>0.996232</td>\n",
       "    </tr>\n",
       "    <tr>\n",
       "      <th>1</th>\n",
       "      <td>180225022.0</td>\n",
       "      <td>0.994132</td>\n",
       "    </tr>\n",
       "    <tr>\n",
       "      <th>2</th>\n",
       "      <td>170824003.0</td>\n",
       "      <td>0.975500</td>\n",
       "    </tr>\n",
       "    <tr>\n",
       "      <th>3</th>\n",
       "      <td>171020003.0</td>\n",
       "      <td>0.936414</td>\n",
       "    </tr>\n",
       "    <tr>\n",
       "      <th>4</th>\n",
       "      <td>161103007.0</td>\n",
       "      <td>0.930310</td>\n",
       "    </tr>\n",
       "    <tr>\n",
       "      <th>5</th>\n",
       "      <td>160520001.0</td>\n",
       "      <td>0.926935</td>\n",
       "    </tr>\n",
       "    <tr>\n",
       "      <th>6</th>\n",
       "      <td>180101013.0</td>\n",
       "      <td>0.907846</td>\n",
       "    </tr>\n",
       "    <tr>\n",
       "      <th>7</th>\n",
       "      <td>171229020.0</td>\n",
       "      <td>0.885355</td>\n",
       "    </tr>\n",
       "    <tr>\n",
       "      <th>8</th>\n",
       "      <td>180228004.0</td>\n",
       "      <td>0.864707</td>\n",
       "    </tr>\n",
       "    <tr>\n",
       "      <th>9</th>\n",
       "      <td>190321013.0</td>\n",
       "      <td>0.855918</td>\n",
       "    </tr>\n",
       "    <tr>\n",
       "      <th>10</th>\n",
       "      <td>17031930.0</td>\n",
       "      <td>0.843459</td>\n",
       "    </tr>\n",
       "    <tr>\n",
       "      <th>11</th>\n",
       "      <td>180318004.0</td>\n",
       "      <td>0.809498</td>\n",
       "    </tr>\n",
       "    <tr>\n",
       "      <th>12</th>\n",
       "      <td>180404017.0</td>\n",
       "      <td>0.784082</td>\n",
       "    </tr>\n",
       "    <tr>\n",
       "      <th>13</th>\n",
       "      <td>17022615.0</td>\n",
       "      <td>0.782254</td>\n",
       "    </tr>\n",
       "    <tr>\n",
       "      <th>14</th>\n",
       "      <td>170414013.0</td>\n",
       "      <td>0.763893</td>\n",
       "    </tr>\n",
       "  </tbody>\n",
       "</table>\n",
       "</div>"
      ],
      "text/plain": [
       "             工号       随机数\n",
       "0   180318027.0  0.996232\n",
       "1   180225022.0  0.994132\n",
       "2   170824003.0  0.975500\n",
       "3   171020003.0  0.936414\n",
       "4   161103007.0  0.930310\n",
       "5   160520001.0  0.926935\n",
       "6   180101013.0  0.907846\n",
       "7   171229020.0  0.885355\n",
       "8   180228004.0  0.864707\n",
       "9   190321013.0  0.855918\n",
       "10   17031930.0  0.843459\n",
       "11  180318004.0  0.809498\n",
       "12  180404017.0  0.784082\n",
       "13   17022615.0  0.782254\n",
       "14  170414013.0  0.763893"
      ]
     },
     "execution_count": 1146,
     "metadata": {},
     "output_type": "execute_result"
    }
   ],
   "source": [
    "df_id_15"
   ]
  },
  {
   "cell_type": "code",
   "execution_count": 1147,
   "metadata": {},
   "outputs": [],
   "source": [
    "# merge\n",
    "df4c = pd.merge(df4b, df_id_15, on=\"工号\")    ## 已重置了index"
   ]
  },
  {
   "cell_type": "code",
   "execution_count": 1148,
   "metadata": {},
   "outputs": [
    {
     "data": {
      "text/html": [
       "<div>\n",
       "<style scoped>\n",
       "    .dataframe tbody tr th:only-of-type {\n",
       "        vertical-align: middle;\n",
       "    }\n",
       "\n",
       "    .dataframe tbody tr th {\n",
       "        vertical-align: top;\n",
       "    }\n",
       "\n",
       "    .dataframe thead th {\n",
       "        text-align: right;\n",
       "    }\n",
       "</style>\n",
       "<table border=\"1\" class=\"dataframe\">\n",
       "  <thead>\n",
       "    <tr style=\"text-align: right;\">\n",
       "      <th></th>\n",
       "      <th>工号</th>\n",
       "      <th>姓名</th>\n",
       "      <th>区域</th>\n",
       "      <th>部门</th>\n",
       "      <th>岗位</th>\n",
       "      <th>出勤</th>\n",
       "      <th>点号合计</th>\n",
       "      <th>销售业绩</th>\n",
       "      <th>工资年月</th>\n",
       "      <th>入职日期</th>\n",
       "      <th>第n月工作</th>\n",
       "      <th>群体</th>\n",
       "      <th>随机数</th>\n",
       "    </tr>\n",
       "  </thead>\n",
       "  <tbody>\n",
       "    <tr>\n",
       "      <th>0</th>\n",
       "      <td>17022615.0</td>\n",
       "      <td>罗海燕</td>\n",
       "      <td>北京区域</td>\n",
       "      <td>北京西大望路店</td>\n",
       "      <td>专家</td>\n",
       "      <td>19</td>\n",
       "      <td>47</td>\n",
       "      <td>36481</td>\n",
       "      <td>2018-05-01</td>\n",
       "      <td>2016-09-01</td>\n",
       "      <td>20.0</td>\n",
       "      <td>False</td>\n",
       "      <td>0.782254</td>\n",
       "    </tr>\n",
       "    <tr>\n",
       "      <th>1</th>\n",
       "      <td>17022615.0</td>\n",
       "      <td>罗海燕</td>\n",
       "      <td>北京区域</td>\n",
       "      <td>北京西客站店</td>\n",
       "      <td>专家</td>\n",
       "      <td>15</td>\n",
       "      <td>43</td>\n",
       "      <td>98720</td>\n",
       "      <td>2018-11-01</td>\n",
       "      <td>2018-05-01</td>\n",
       "      <td>6.0</td>\n",
       "      <td>True</td>\n",
       "      <td>0.782254</td>\n",
       "    </tr>\n",
       "    <tr>\n",
       "      <th>2</th>\n",
       "      <td>17022615.0</td>\n",
       "      <td>罗海燕</td>\n",
       "      <td>北京区域</td>\n",
       "      <td>北京西客站店</td>\n",
       "      <td>专家</td>\n",
       "      <td>30</td>\n",
       "      <td>46</td>\n",
       "      <td>19983</td>\n",
       "      <td>2018-07-01</td>\n",
       "      <td>2018-05-01</td>\n",
       "      <td>2.0</td>\n",
       "      <td>True</td>\n",
       "      <td>0.782254</td>\n",
       "    </tr>\n",
       "    <tr>\n",
       "      <th>3</th>\n",
       "      <td>17022615.0</td>\n",
       "      <td>罗海燕</td>\n",
       "      <td>北京区域</td>\n",
       "      <td>北京西客站店</td>\n",
       "      <td>专家</td>\n",
       "      <td>28</td>\n",
       "      <td>72</td>\n",
       "      <td>68933.3</td>\n",
       "      <td>2019-01-01</td>\n",
       "      <td>2018-05-01</td>\n",
       "      <td>8.0</td>\n",
       "      <td>True</td>\n",
       "      <td>0.782254</td>\n",
       "    </tr>\n",
       "    <tr>\n",
       "      <th>4</th>\n",
       "      <td>17022615.0</td>\n",
       "      <td>罗海燕</td>\n",
       "      <td>北京区域</td>\n",
       "      <td>北京西客站店</td>\n",
       "      <td>专家</td>\n",
       "      <td>30</td>\n",
       "      <td>57</td>\n",
       "      <td>63386.7</td>\n",
       "      <td>2018-09-01</td>\n",
       "      <td>2018-05-01</td>\n",
       "      <td>4.0</td>\n",
       "      <td>True</td>\n",
       "      <td>0.782254</td>\n",
       "    </tr>\n",
       "  </tbody>\n",
       "</table>\n",
       "</div>"
      ],
      "text/plain": [
       "           工号   姓名    区域       部门  岗位  出勤 点号合计     销售业绩        工资年月  \\\n",
       "0  17022615.0  罗海燕  北京区域  北京西大望路店  专家  19   47    36481  2018-05-01   \n",
       "1  17022615.0  罗海燕  北京区域   北京西客站店  专家  15   43    98720  2018-11-01   \n",
       "2  17022615.0  罗海燕  北京区域   北京西客站店  专家  30   46    19983  2018-07-01   \n",
       "3  17022615.0  罗海燕  北京区域   北京西客站店  专家  28   72  68933.3  2019-01-01   \n",
       "4  17022615.0  罗海燕  北京区域   北京西客站店  专家  30   57  63386.7  2018-09-01   \n",
       "\n",
       "         入职日期  第n月工作     群体       随机数  \n",
       "0  2016-09-01   20.0  False  0.782254  \n",
       "1  2018-05-01    6.0   True  0.782254  \n",
       "2  2018-05-01    2.0   True  0.782254  \n",
       "3  2018-05-01    8.0   True  0.782254  \n",
       "4  2018-05-01    4.0   True  0.782254  "
      ]
     },
     "execution_count": 1148,
     "metadata": {},
     "output_type": "execute_result"
    }
   ],
   "source": [
    "df4c.head()"
   ]
  },
  {
   "cell_type": "code",
   "execution_count": 1149,
   "metadata": {},
   "outputs": [
    {
     "data": {
      "text/plain": [
       "15"
      ]
     },
     "execution_count": 1149,
     "metadata": {},
     "output_type": "execute_result"
    }
   ],
   "source": [
    "len(df4c[\"随机数\"].unique())"
   ]
  },
  {
   "cell_type": "code",
   "execution_count": 1150,
   "metadata": {},
   "outputs": [],
   "source": [
    "# 每个员工按“第n月工作”从小到大排序\n",
    "df4d = df4c.groupby(\"随机数\").apply(lambda x: x.sort_values(\"第n月工作\"))"
   ]
  },
  {
   "cell_type": "code",
   "execution_count": 1151,
   "metadata": {},
   "outputs": [],
   "source": [
    "df4d.reset_index(drop=True, inplace=True)"
   ]
  },
  {
   "cell_type": "code",
   "execution_count": 1152,
   "metadata": {},
   "outputs": [],
   "source": [
    "# 【重要】已有excel中增加新sheet，并在该sheet中写入DataFrame     \n",
    "from openpyxl import load_workbook\n",
    "def to_existing_excel(df, file_path, sheet_name):\n",
    "    book = load_workbook(file_path)\n",
    "    writer = pd.ExcelWriter(file_path, engine='openpyxl')\n",
    "    writer.book = book\n",
    "    df.to_excel(writer, sheet_name, index=None)\n",
    "    writer.save()\n",
    "    writer.close()"
   ]
  },
  {
   "cell_type": "code",
   "execution_count": 1153,
   "metadata": {},
   "outputs": [
    {
     "data": {
      "text/html": [
       "<div>\n",
       "<style scoped>\n",
       "    .dataframe tbody tr th:only-of-type {\n",
       "        vertical-align: middle;\n",
       "    }\n",
       "\n",
       "    .dataframe tbody tr th {\n",
       "        vertical-align: top;\n",
       "    }\n",
       "\n",
       "    .dataframe thead th {\n",
       "        text-align: right;\n",
       "    }\n",
       "</style>\n",
       "<table border=\"1\" class=\"dataframe\">\n",
       "  <thead>\n",
       "    <tr style=\"text-align: right;\">\n",
       "      <th></th>\n",
       "      <th>工号</th>\n",
       "      <th>姓名</th>\n",
       "      <th>区域</th>\n",
       "      <th>部门</th>\n",
       "      <th>岗位</th>\n",
       "      <th>出勤</th>\n",
       "      <th>点号合计</th>\n",
       "      <th>销售业绩</th>\n",
       "      <th>工资年月</th>\n",
       "      <th>入职日期</th>\n",
       "      <th>第n月工作</th>\n",
       "      <th>群体</th>\n",
       "      <th>随机数</th>\n",
       "    </tr>\n",
       "  </thead>\n",
       "  <tbody>\n",
       "    <tr>\n",
       "      <th>0</th>\n",
       "      <td>170414013.0</td>\n",
       "      <td>李春蓉</td>\n",
       "      <td>北京区域</td>\n",
       "      <td>呼市海亮店</td>\n",
       "      <td>理疗师</td>\n",
       "      <td>17</td>\n",
       "      <td>14</td>\n",
       "      <td>2980</td>\n",
       "      <td>2018-08-01</td>\n",
       "      <td>2018-08-17</td>\n",
       "      <td>0.0</td>\n",
       "      <td>False</td>\n",
       "      <td>0.763893</td>\n",
       "    </tr>\n",
       "    <tr>\n",
       "      <th>1</th>\n",
       "      <td>170414013.0</td>\n",
       "      <td>李春蓉</td>\n",
       "      <td>北京区域</td>\n",
       "      <td>呼市海亮店</td>\n",
       "      <td>理疗师</td>\n",
       "      <td>30</td>\n",
       "      <td>17</td>\n",
       "      <td>2000</td>\n",
       "      <td>2018-09-01</td>\n",
       "      <td>2018-08-17</td>\n",
       "      <td>1.0</td>\n",
       "      <td>False</td>\n",
       "      <td>0.763893</td>\n",
       "    </tr>\n",
       "    <tr>\n",
       "      <th>2</th>\n",
       "      <td>170414013.0</td>\n",
       "      <td>李春蓉</td>\n",
       "      <td>北京区域</td>\n",
       "      <td>呼市海亮店</td>\n",
       "      <td>理疗师</td>\n",
       "      <td>30</td>\n",
       "      <td>20</td>\n",
       "      <td>6000</td>\n",
       "      <td>2018-10-01</td>\n",
       "      <td>2018-08-17</td>\n",
       "      <td>2.0</td>\n",
       "      <td>False</td>\n",
       "      <td>0.763893</td>\n",
       "    </tr>\n",
       "    <tr>\n",
       "      <th>3</th>\n",
       "      <td>170414013.0</td>\n",
       "      <td>李春蓉</td>\n",
       "      <td>北京区域</td>\n",
       "      <td>呼市海亮店</td>\n",
       "      <td>理疗师</td>\n",
       "      <td>30</td>\n",
       "      <td>26</td>\n",
       "      <td>7750</td>\n",
       "      <td>2018-11-01</td>\n",
       "      <td>2018-08-17</td>\n",
       "      <td>3.0</td>\n",
       "      <td>False</td>\n",
       "      <td>0.763893</td>\n",
       "    </tr>\n",
       "    <tr>\n",
       "      <th>4</th>\n",
       "      <td>170414013.0</td>\n",
       "      <td>李春蓉</td>\n",
       "      <td>北京区域</td>\n",
       "      <td>呼市海亮店</td>\n",
       "      <td>理疗师</td>\n",
       "      <td>30</td>\n",
       "      <td>16</td>\n",
       "      <td>1000</td>\n",
       "      <td>2018-12-01</td>\n",
       "      <td>2018-08-17</td>\n",
       "      <td>4.0</td>\n",
       "      <td>False</td>\n",
       "      <td>0.763893</td>\n",
       "    </tr>\n",
       "  </tbody>\n",
       "</table>\n",
       "</div>"
      ],
      "text/plain": [
       "            工号   姓名    区域     部门   岗位  出勤 点号合计  销售业绩        工资年月        入职日期  \\\n",
       "0  170414013.0  李春蓉  北京区域  呼市海亮店  理疗师  17   14  2980  2018-08-01  2018-08-17   \n",
       "1  170414013.0  李春蓉  北京区域  呼市海亮店  理疗师  30   17  2000  2018-09-01  2018-08-17   \n",
       "2  170414013.0  李春蓉  北京区域  呼市海亮店  理疗师  30   20  6000  2018-10-01  2018-08-17   \n",
       "3  170414013.0  李春蓉  北京区域  呼市海亮店  理疗师  30   26  7750  2018-11-01  2018-08-17   \n",
       "4  170414013.0  李春蓉  北京区域  呼市海亮店  理疗师  30   16  1000  2018-12-01  2018-08-17   \n",
       "\n",
       "   第n月工作     群体       随机数  \n",
       "0    0.0  False  0.763893  \n",
       "1    1.0  False  0.763893  \n",
       "2    2.0  False  0.763893  \n",
       "3    3.0  False  0.763893  \n",
       "4    4.0  False  0.763893  "
      ]
     },
     "execution_count": 1153,
     "metadata": {},
     "output_type": "execute_result"
    }
   ],
   "source": [
    "df4d.head()"
   ]
  },
  {
   "cell_type": "code",
   "execution_count": 1154,
   "metadata": {},
   "outputs": [],
   "source": [
    "# 老人组long， 对df4d 随机数从大到小排序, 同时不影响“第n月工作”从小打到排序:用merge sort 具有稳定性\n",
    "df4e = df4d.sort_values(by=\"随机数\", kind=\"mergesort\", ascending=False)"
   ]
  },
  {
   "cell_type": "code",
   "execution_count": 1155,
   "metadata": {},
   "outputs": [],
   "source": [
    "df4e.reset_index(drop=True, inplace=True)"
   ]
  },
  {
   "cell_type": "code",
   "execution_count": 1156,
   "metadata": {},
   "outputs": [
    {
     "data": {
      "text/html": [
       "<div>\n",
       "<style scoped>\n",
       "    .dataframe tbody tr th:only-of-type {\n",
       "        vertical-align: middle;\n",
       "    }\n",
       "\n",
       "    .dataframe tbody tr th {\n",
       "        vertical-align: top;\n",
       "    }\n",
       "\n",
       "    .dataframe thead th {\n",
       "        text-align: right;\n",
       "    }\n",
       "</style>\n",
       "<table border=\"1\" class=\"dataframe\">\n",
       "  <thead>\n",
       "    <tr style=\"text-align: right;\">\n",
       "      <th></th>\n",
       "      <th>工号</th>\n",
       "      <th>姓名</th>\n",
       "      <th>区域</th>\n",
       "      <th>部门</th>\n",
       "      <th>岗位</th>\n",
       "      <th>出勤</th>\n",
       "      <th>点号合计</th>\n",
       "      <th>销售业绩</th>\n",
       "      <th>工资年月</th>\n",
       "      <th>入职日期</th>\n",
       "      <th>第n月工作</th>\n",
       "      <th>群体</th>\n",
       "      <th>随机数</th>\n",
       "    </tr>\n",
       "  </thead>\n",
       "  <tbody>\n",
       "    <tr>\n",
       "      <th>0</th>\n",
       "      <td>180318027.0</td>\n",
       "      <td>王成玲</td>\n",
       "      <td>北京区域</td>\n",
       "      <td>北京西客站店</td>\n",
       "      <td>专家</td>\n",
       "      <td>14</td>\n",
       "      <td>8</td>\n",
       "      <td>17452</td>\n",
       "      <td>2018-03-01</td>\n",
       "      <td>2018-03-18</td>\n",
       "      <td>0.0</td>\n",
       "      <td>True</td>\n",
       "      <td>0.996232</td>\n",
       "    </tr>\n",
       "    <tr>\n",
       "      <th>1</th>\n",
       "      <td>180318027.0</td>\n",
       "      <td>王成玲</td>\n",
       "      <td>北京区域</td>\n",
       "      <td>北京西客站店</td>\n",
       "      <td>专家</td>\n",
       "      <td>30</td>\n",
       "      <td>49</td>\n",
       "      <td>31399</td>\n",
       "      <td>2018-04-01</td>\n",
       "      <td>2018-03-18</td>\n",
       "      <td>1.0</td>\n",
       "      <td>True</td>\n",
       "      <td>0.996232</td>\n",
       "    </tr>\n",
       "    <tr>\n",
       "      <th>2</th>\n",
       "      <td>180318027.0</td>\n",
       "      <td>王成玲</td>\n",
       "      <td>北京区域</td>\n",
       "      <td>北京西客站店</td>\n",
       "      <td>专家</td>\n",
       "      <td>30</td>\n",
       "      <td>51</td>\n",
       "      <td>52412</td>\n",
       "      <td>2018-05-01</td>\n",
       "      <td>2018-03-18</td>\n",
       "      <td>2.0</td>\n",
       "      <td>True</td>\n",
       "      <td>0.996232</td>\n",
       "    </tr>\n",
       "    <tr>\n",
       "      <th>3</th>\n",
       "      <td>180318027.0</td>\n",
       "      <td>王成玲</td>\n",
       "      <td>北京区域</td>\n",
       "      <td>北京西客站店</td>\n",
       "      <td>专家</td>\n",
       "      <td>30</td>\n",
       "      <td>47</td>\n",
       "      <td>43384</td>\n",
       "      <td>2018-06-01</td>\n",
       "      <td>2018-03-18</td>\n",
       "      <td>3.0</td>\n",
       "      <td>True</td>\n",
       "      <td>0.996232</td>\n",
       "    </tr>\n",
       "    <tr>\n",
       "      <th>4</th>\n",
       "      <td>180318027.0</td>\n",
       "      <td>王成玲</td>\n",
       "      <td>北京区域</td>\n",
       "      <td>北京西客站店</td>\n",
       "      <td>专家</td>\n",
       "      <td>30</td>\n",
       "      <td>52</td>\n",
       "      <td>56281</td>\n",
       "      <td>2018-07-01</td>\n",
       "      <td>2018-03-18</td>\n",
       "      <td>4.0</td>\n",
       "      <td>True</td>\n",
       "      <td>0.996232</td>\n",
       "    </tr>\n",
       "  </tbody>\n",
       "</table>\n",
       "</div>"
      ],
      "text/plain": [
       "            工号   姓名    区域      部门  岗位  出勤 点号合计   销售业绩        工资年月        入职日期  \\\n",
       "0  180318027.0  王成玲  北京区域  北京西客站店  专家  14    8  17452  2018-03-01  2018-03-18   \n",
       "1  180318027.0  王成玲  北京区域  北京西客站店  专家  30   49  31399  2018-04-01  2018-03-18   \n",
       "2  180318027.0  王成玲  北京区域  北京西客站店  专家  30   51  52412  2018-05-01  2018-03-18   \n",
       "3  180318027.0  王成玲  北京区域  北京西客站店  专家  30   47  43384  2018-06-01  2018-03-18   \n",
       "4  180318027.0  王成玲  北京区域  北京西客站店  专家  30   52  56281  2018-07-01  2018-03-18   \n",
       "\n",
       "   第n月工作    群体       随机数  \n",
       "0    0.0  True  0.996232  \n",
       "1    1.0  True  0.996232  \n",
       "2    2.0  True  0.996232  \n",
       "3    3.0  True  0.996232  \n",
       "4    4.0  True  0.996232  "
      ]
     },
     "execution_count": 1156,
     "metadata": {},
     "output_type": "execute_result"
    }
   ],
   "source": [
    "df4e.head()"
   ]
  },
  {
   "cell_type": "code",
   "execution_count": 1157,
   "metadata": {},
   "outputs": [],
   "source": [
    "# 老人组df\n",
    "dfc_1111 = dfc_111.drop(\"随机数\", axis=1)\n",
    "df4f = pd.merge(dfc_1111, df_id_15, left_on=\"员工号\", right_on=\"工号\", how=\"inner\")"
   ]
  },
  {
   "cell_type": "code",
   "execution_count": 1158,
   "metadata": {},
   "outputs": [],
   "source": [
    "df4f.sort_values(\"随机数\", ascending=False, inplace=True)"
   ]
  },
  {
   "cell_type": "code",
   "execution_count": 1159,
   "metadata": {},
   "outputs": [],
   "source": [
    "del df4f[\"工号\"]"
   ]
  },
  {
   "cell_type": "code",
   "execution_count": 1160,
   "metadata": {},
   "outputs": [],
   "source": [
    "df4f = df4f.reindex([\"员工号\", \"岗位名称\", \"姓名\", \"点号合计\", \"销售业绩\", \"二级部门\", \"部门\", \"入职日期\", \"随机数\", \"群体\"], axis=1)"
   ]
  },
  {
   "cell_type": "code",
   "execution_count": 1161,
   "metadata": {},
   "outputs": [],
   "source": [
    "df4f.reset_index(drop=True, inplace=True)"
   ]
  },
  {
   "cell_type": "code",
   "execution_count": 1162,
   "metadata": {},
   "outputs": [
    {
     "data": {
      "text/plain": [
       "array(['王成玲', '霍慧娟', '丁国杰', '王伟', '高颖', '陈波', '武藏', '李春花', '刘慧', '孙娜',\n",
       "       '吕晓燕', '陈风云', '黄明媚', '罗海燕', '李春蓉'], dtype=object)"
      ]
     },
     "execution_count": 1162,
     "metadata": {},
     "output_type": "execute_result"
    }
   ],
   "source": [
    "df4e[\"姓名\"].unique()"
   ]
  },
  {
   "cell_type": "code",
   "execution_count": 1163,
   "metadata": {},
   "outputs": [
    {
     "data": {
      "text/plain": [
       "array(['王成玲', '霍慧娟', '丁国杰', '王伟', '高颖', '陈波', '武藏', '李春花', '刘慧', '孙娜',\n",
       "       '吕晓燕', '陈风云', '黄明媚', '罗海燕', '李春蓉'], dtype=object)"
      ]
     },
     "execution_count": 1163,
     "metadata": {},
     "output_type": "execute_result"
    }
   ],
   "source": [
    "import numpy as np\n",
    "np.array(df4f[\"姓名\"])"
   ]
  },
  {
   "cell_type": "code",
   "execution_count": 1164,
   "metadata": {},
   "outputs": [],
   "source": [
    "test_path = \"/Users/gongchenyin/PycharmProjects/ra/Peer-Filter/src/5月筛选人员python/北京区域.xlsx\" \n",
    "to_existing_excel(df4f, test_path, \"老人组\")\n",
    "to_existing_excel(df4e, test_path, \"老人组long\")"
   ]
  },
  {
   "cell_type": "code",
   "execution_count": 108,
   "metadata": {},
   "outputs": [],
   "source": [
    "dict1 = [{\"a\": 1, \"b\": 2, \"c\": 2}, {\"a\": 4, \"b\": 5, \"c\": 6}, {\"a\": 7, \"b\": 8, \"c\": 9}]"
   ]
  },
  {
   "cell_type": "code",
   "execution_count": null,
   "metadata": {},
   "outputs": [],
   "source": [
    "dict2 = [{\"a\": 1, \"b\": 2, \"c\": 2}, {\"d\": 4, \"e\": 5, \"f\": 6}, {\"g\": 7, \"h\": 8, \"i\": 9}]"
   ]
  },
  {
   "cell_type": "code",
   "execution_count": 109,
   "metadata": {},
   "outputs": [
    {
     "data": {
      "text/html": [
       "<div>\n",
       "<style scoped>\n",
       "    .dataframe tbody tr th:only-of-type {\n",
       "        vertical-align: middle;\n",
       "    }\n",
       "\n",
       "    .dataframe tbody tr th {\n",
       "        vertical-align: top;\n",
       "    }\n",
       "\n",
       "    .dataframe thead th {\n",
       "        text-align: right;\n",
       "    }\n",
       "</style>\n",
       "<table border=\"1\" class=\"dataframe\">\n",
       "  <thead>\n",
       "    <tr style=\"text-align: right;\">\n",
       "      <th></th>\n",
       "      <th>a</th>\n",
       "      <th>b</th>\n",
       "      <th>c</th>\n",
       "    </tr>\n",
       "  </thead>\n",
       "  <tbody>\n",
       "    <tr>\n",
       "      <th>0</th>\n",
       "      <td>1</td>\n",
       "      <td>2</td>\n",
       "      <td>2</td>\n",
       "    </tr>\n",
       "    <tr>\n",
       "      <th>1</th>\n",
       "      <td>4</td>\n",
       "      <td>5</td>\n",
       "      <td>6</td>\n",
       "    </tr>\n",
       "    <tr>\n",
       "      <th>2</th>\n",
       "      <td>7</td>\n",
       "      <td>8</td>\n",
       "      <td>9</td>\n",
       "    </tr>\n",
       "  </tbody>\n",
       "</table>\n",
       "</div>"
      ],
      "text/plain": [
       "   a  b  c\n",
       "0  1  2  2\n",
       "1  4  5  6\n",
       "2  7  8  9"
      ]
     },
     "execution_count": 109,
     "metadata": {},
     "output_type": "execute_result"
    }
   ],
   "source": [
    "pd.DataFrame(dict1)"
   ]
  },
  {
   "cell_type": "code",
   "execution_count": null,
   "metadata": {},
   "outputs": [],
   "source": []
  }
 ],
 "metadata": {
  "kernelspec": {
   "display_name": "Python 3",
   "language": "python",
   "name": "python3"
  },
  "language_info": {
   "codemirror_mode": {
    "name": "ipython",
    "version": 3
   },
   "file_extension": ".py",
   "mimetype": "text/x-python",
   "name": "python",
   "nbconvert_exporter": "python",
   "pygments_lexer": "ipython3",
   "version": "3.7.3"
  }
 },
 "nbformat": 4,
 "nbformat_minor": 2
}
