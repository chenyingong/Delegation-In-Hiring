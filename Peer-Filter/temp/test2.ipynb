{
 "cells": [
  {
   "cell_type": "code",
   "execution_count": 1,
   "metadata": {},
   "outputs": [],
   "source": [
    "import pandas as pd"
   ]
  },
  {
   "cell_type": "code",
   "execution_count": 2,
   "metadata": {},
   "outputs": [],
   "source": [
    "path = '/Users/gongchenyin/PycharmProjects/ra/data/201906/最终使用/总表.xlsx'"
   ]
  },
  {
   "cell_type": "code",
   "execution_count": 3,
   "metadata": {},
   "outputs": [],
   "source": [
    "df_database = pd.read_excel(path)"
   ]
  },
  {
   "cell_type": "code",
   "execution_count": 4,
   "metadata": {},
   "outputs": [
    {
     "data": {
      "text/plain": [
       "'2017-02-16'"
      ]
     },
     "execution_count": 4,
     "metadata": {},
     "output_type": "execute_result"
    }
   ],
   "source": [
    "str(df_database[\"入职日期\"].iloc[0].date())"
   ]
  },
  {
   "cell_type": "code",
   "execution_count": 5,
   "metadata": {},
   "outputs": [
    {
     "data": {
      "text/plain": [
       "Timestamp('2018-09-01 00:00:00')"
      ]
     },
     "execution_count": 5,
     "metadata": {},
     "output_type": "execute_result"
    }
   ],
   "source": [
    "df_database[\"工资年月\"].iloc[0]"
   ]
  },
  {
   "cell_type": "code",
   "execution_count": 6,
   "metadata": {},
   "outputs": [
    {
     "data": {
      "text/plain": [
       "datetime.datetime(1999, 12, 12, 0, 0)"
      ]
     },
     "execution_count": 6,
     "metadata": {},
     "output_type": "execute_result"
    }
   ],
   "source": [
    "df_database[\"最早的入职日期\"].iloc[0]"
   ]
  },
  {
   "cell_type": "code",
   "execution_count": 7,
   "metadata": {},
   "outputs": [
    {
     "data": {
      "text/plain": [
       "datetime.datetime(2019, 3, 30, 0, 0)"
      ]
     },
     "execution_count": 7,
     "metadata": {},
     "output_type": "execute_result"
    }
   ],
   "source": [
    "df_database[\"最近的入职日期\"].iloc[0]"
   ]
  },
  {
   "cell_type": "code",
   "execution_count": 12,
   "metadata": {},
   "outputs": [],
   "source": [
    "import datetime\n",
    "def to_date(date) -> str:\n",
    "    \"\"\"\n",
    "    Convert data-time type to string.\n",
    "\n",
    "    :param date: datetime object\n",
    "    :return: string representation of the date\n",
    "    \"\"\"\n",
    "    if date == '-' or isinstance(date, datetime.time):\n",
    "        return '-'\n",
    "    elif isinstance(date, str):\n",
    "        return date\n",
    "    else:\n",
    "        return str(date.date())"
   ]
  },
  {
   "cell_type": "code",
   "execution_count": 13,
   "metadata": {},
   "outputs": [],
   "source": [
    "df_database = pd.DataFrame(df_database, columns=[\"工号\", \"姓名\", \"岗位\", \"入职日期\", \"出勤\", \"点号合计\", \"销售业绩\",\n",
    "                                                     \"工资年月\", \"部门\", \"区域\", \"最早的入职日期\", \"最近的入职日期\"])\n",
    "df_database.fillna({\"姓名\": '-', \"岗位\": '-', \"部门\": '-', \"区域\": '-', \"入职日期\": '-',\n",
    "                        \"工资年月\": '-', \"最早的入职日期\": '-', \"最近的入职日期\": '-'}, inplace=True)\n",
    "df_database[\"入职日期\"] = df_database[\"入职日期\"].map(to_date)\n",
    "df_database[\"工资年月\"] = df_database[\"工资年月\"].map(to_date)\n",
    "df_database[\"最早的入职日期\"] = df_database[\"最早的入职日期\"].map(to_date)\n",
    "df_database[\"最近的入职日期\"] = df_database[\"最近的入职日期\"].map(to_date)"
   ]
  },
  {
   "cell_type": "code",
   "execution_count": 14,
   "metadata": {},
   "outputs": [],
   "source": [
    "path1 = \"/Users/gongchenyin/PycharmProjects/ra/data/201906/最终使用/门店分组表.xlsx\"\n",
    "path2 = \"/Users/gongchenyin/PycharmProjects/ra/data/201906/最终使用/员工信息表.xlsx\""
   ]
  },
  {
   "cell_type": "code",
   "execution_count": 15,
   "metadata": {},
   "outputs": [],
   "source": [
    "df1 = pd.read_excel(path1)\n",
    "df2 = pd.read_excel(path2)"
   ]
  },
  {
   "cell_type": "code",
   "execution_count": 18,
   "metadata": {},
   "outputs": [],
   "source": [
    "stores = df1[df1[\"组别\"] == \"同龄人现在\"][\"门店名称\"]"
   ]
  },
  {
   "cell_type": "code",
   "execution_count": 21,
   "metadata": {},
   "outputs": [
    {
     "name": "stderr",
     "output_type": "stream",
     "text": [
      "/usr/local/Cellar/ipython/7.3.0/libexec/vendor/lib/python3.7/site-packages/ipykernel_launcher.py:1: SettingWithCopyWarning: \n",
      "A value is trying to be set on a copy of a slice from a DataFrame\n",
      "\n",
      "See the caveats in the documentation: http://pandas.pydata.org/pandas-docs/stable/indexing.html#indexing-view-versus-copy\n",
      "  \"\"\"Entry point for launching an IPython kernel.\n"
     ]
    }
   ],
   "source": [
    "stores.loc[47] = \"呼市海亮店\""
   ]
  },
  {
   "cell_type": "code",
   "execution_count": 25,
   "metadata": {},
   "outputs": [
    {
     "name": "stderr",
     "output_type": "stream",
     "text": [
      "/usr/local/Cellar/ipython/7.3.0/libexec/vendor/lib/python3.7/site-packages/ipykernel_launcher.py:1: UserWarning: Boolean Series key will be reindexed to match DataFrame index.\n",
      "  \"\"\"Entry point for launching an IPython kernel.\n"
     ]
    },
    {
     "data": {
      "text/plain": [
       "1128"
      ]
     },
     "execution_count": 25,
     "metadata": {},
     "output_type": "execute_result"
    }
   ],
   "source": [
    "len(df2[df2[\"岗位名称\"].isin([\"SPA师\", \"理疗师\", \"专家\"])][df2[\"部门\"].isin(stores)])"
   ]
  },
  {
   "cell_type": "code",
   "execution_count": null,
   "metadata": {},
   "outputs": [],
   "source": []
  }
 ],
 "metadata": {
  "kernelspec": {
   "display_name": "Python 3",
   "language": "python",
   "name": "python3"
  },
  "language_info": {
   "codemirror_mode": {
    "name": "ipython",
    "version": 3
   },
   "file_extension": ".py",
   "mimetype": "text/x-python",
   "name": "python",
   "nbconvert_exporter": "python",
   "pygments_lexer": "ipython3",
   "version": "3.7.3"
  }
 },
 "nbformat": 4,
 "nbformat_minor": 2
}
