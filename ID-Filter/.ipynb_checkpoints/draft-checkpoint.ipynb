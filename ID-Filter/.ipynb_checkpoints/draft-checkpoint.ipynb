{
 "cells": [
  {
   "cell_type": "code",
   "execution_count": 1,
   "metadata": {},
   "outputs": [],
   "source": [
    "import pandas as pd\n",
    "import datetime\n",
    "import os"
   ]
  },
  {
   "cell_type": "code",
   "execution_count": 2,
   "metadata": {},
   "outputs": [],
   "source": [
    "path1 = \"/Users/gongchenyin/PycharmProjects/ra/ID-Filter/src/门店分组表.xlsx\"\n",
    "path2 = \"/Users/gongchenyin/PycharmProjects/ra/ID-Filter/src/员工信息表.xlsx\""
   ]
  },
  {
   "cell_type": "code",
   "execution_count": 3,
   "metadata": {},
   "outputs": [],
   "source": [
    "# step 1: excel转换成dataframe\n",
    "df1 = pd.read_excel(path1)\n",
    "df2 = pd.read_excel(path2)\n",
    "df1.fillna('-', inplace = True) # 处理空值\n",
    "df2.fillna('-', inplace = True)"
   ]
  },
  {
   "cell_type": "code",
   "execution_count": 4,
   "metadata": {},
   "outputs": [
    {
     "data": {
      "text/html": [
       "<div>\n",
       "<style scoped>\n",
       "    .dataframe tbody tr th:only-of-type {\n",
       "        vertical-align: middle;\n",
       "    }\n",
       "\n",
       "    .dataframe tbody tr th {\n",
       "        vertical-align: top;\n",
       "    }\n",
       "\n",
       "    .dataframe thead th {\n",
       "        text-align: right;\n",
       "    }\n",
       "</style>\n",
       "<table border=\"1\" class=\"dataframe\">\n",
       "  <thead>\n",
       "    <tr style=\"text-align: right;\">\n",
       "      <th></th>\n",
       "      <th>一级部门</th>\n",
       "      <th>二级部门</th>\n",
       "      <th>部门</th>\n",
       "      <th>门店编码</th>\n",
       "      <th>姓名</th>\n",
       "      <th>员工号</th>\n",
       "      <th>性别</th>\n",
       "      <th>岗位名称</th>\n",
       "      <th>员工状态</th>\n",
       "      <th>入职日期</th>\n",
       "      <th>离职时间</th>\n",
       "    </tr>\n",
       "  </thead>\n",
       "  <tbody>\n",
       "    <tr>\n",
       "      <th>0</th>\n",
       "      <td>华夏良子事业部</td>\n",
       "      <td>华北区域</td>\n",
       "      <td>保定乐凯大街店</td>\n",
       "      <td>A05A10A04A14</td>\n",
       "      <td>蔡爱梅</td>\n",
       "      <td>171104012</td>\n",
       "      <td>女</td>\n",
       "      <td>采耳师</td>\n",
       "      <td>在职</td>\n",
       "      <td>2019-06-12</td>\n",
       "      <td>-</td>\n",
       "    </tr>\n",
       "    <tr>\n",
       "      <th>1</th>\n",
       "      <td>华夏良子事业部</td>\n",
       "      <td>华北区域</td>\n",
       "      <td>保定乐凯大街店</td>\n",
       "      <td>A05A10A04A14</td>\n",
       "      <td>张姚</td>\n",
       "      <td>171107050</td>\n",
       "      <td>男</td>\n",
       "      <td>门店经理</td>\n",
       "      <td>在职</td>\n",
       "      <td>2012-10-02</td>\n",
       "      <td>-</td>\n",
       "    </tr>\n",
       "    <tr>\n",
       "      <th>2</th>\n",
       "      <td>华夏良子事业部</td>\n",
       "      <td>华北区域</td>\n",
       "      <td>保定乐凯大街店</td>\n",
       "      <td>A05A10A04A14</td>\n",
       "      <td>张峰</td>\n",
       "      <td>180913022</td>\n",
       "      <td>男</td>\n",
       "      <td>后备干部</td>\n",
       "      <td>在职</td>\n",
       "      <td>2018-09-18</td>\n",
       "      <td>-</td>\n",
       "    </tr>\n",
       "    <tr>\n",
       "      <th>3</th>\n",
       "      <td>华夏良子事业部</td>\n",
       "      <td>华北区域</td>\n",
       "      <td>保定乐凯大街店</td>\n",
       "      <td>A05A10A04A14</td>\n",
       "      <td>唐怀秀</td>\n",
       "      <td>180916003</td>\n",
       "      <td>女</td>\n",
       "      <td>SPA师</td>\n",
       "      <td>在职</td>\n",
       "      <td>2019-06-04</td>\n",
       "      <td>-</td>\n",
       "    </tr>\n",
       "    <tr>\n",
       "      <th>4</th>\n",
       "      <td>华夏良子事业部</td>\n",
       "      <td>华北区域</td>\n",
       "      <td>保定乐凯大街店</td>\n",
       "      <td>A05A10A04A14</td>\n",
       "      <td>杨乾</td>\n",
       "      <td>180927012</td>\n",
       "      <td>男</td>\n",
       "      <td>理疗师</td>\n",
       "      <td>在职</td>\n",
       "      <td>2018-09-21</td>\n",
       "      <td>-</td>\n",
       "    </tr>\n",
       "  </tbody>\n",
       "</table>\n",
       "</div>"
      ],
      "text/plain": [
       "      一级部门  二级部门       部门          门店编码   姓名        员工号 性别  岗位名称 员工状态  \\\n",
       "0  华夏良子事业部  华北区域  保定乐凯大街店  A05A10A04A14  蔡爱梅  171104012  女   采耳师   在职   \n",
       "1  华夏良子事业部  华北区域  保定乐凯大街店  A05A10A04A14   张姚  171107050  男  门店经理   在职   \n",
       "2  华夏良子事业部  华北区域  保定乐凯大街店  A05A10A04A14   张峰  180913022  男  后备干部   在职   \n",
       "3  华夏良子事业部  华北区域  保定乐凯大街店  A05A10A04A14  唐怀秀  180916003  女  SPA师   在职   \n",
       "4  华夏良子事业部  华北区域  保定乐凯大街店  A05A10A04A14   杨乾  180927012  男   理疗师   在职   \n",
       "\n",
       "         入职日期 离职时间  \n",
       "0  2019-06-12    -  \n",
       "1  2012-10-02    -  \n",
       "2  2018-09-18    -  \n",
       "3  2019-06-04    -  \n",
       "4  2018-09-21    -  "
      ]
     },
     "execution_count": 4,
     "metadata": {},
     "output_type": "execute_result"
    }
   ],
   "source": [
    "df2.head()"
   ]
  },
  {
   "cell_type": "code",
   "execution_count": 5,
   "metadata": {},
   "outputs": [
    {
     "data": {
      "text/plain": [
       "(160, 7455)"
      ]
     },
     "execution_count": 5,
     "metadata": {},
     "output_type": "execute_result"
    }
   ],
   "source": [
    "# 两个df的总行数\n",
    "df1.shape[0], df2.shape[0]"
   ]
  },
  {
   "cell_type": "code",
   "execution_count": 6,
   "metadata": {},
   "outputs": [],
   "source": [
    "# strip\n",
    "def rm_space(s):\n",
    "    s = s.strip()\n",
    "    return s"
   ]
  },
  {
   "cell_type": "code",
   "execution_count": 7,
   "metadata": {},
   "outputs": [],
   "source": [
    "# step 2: df1初步操作\n",
    "df1[[\"组别\", \"门店名称\", \"所属区域\"]] = df1[[\"组别\", \"门店名称\", \"所属区域\"]].applymap(rm_space)\n",
    "\n",
    "df11 = df1[df1[\"组别\"] == \"同龄人现在\"]\n",
    "df11 = df11[[\"门店名称\", \"所属区域\"]]\n",
    "df11.reset_index(drop = True, inplace = True)\n",
    "df11.iloc[7][\"门店名称\"] = \"呼市海亮店\"  # 《门店分组表》不常更新，在此直接改动"
   ]
  },
  {
   "cell_type": "code",
   "execution_count": 8,
   "metadata": {},
   "outputs": [
    {
     "data": {
      "text/html": [
       "<div>\n",
       "<style scoped>\n",
       "    .dataframe tbody tr th:only-of-type {\n",
       "        vertical-align: middle;\n",
       "    }\n",
       "\n",
       "    .dataframe tbody tr th {\n",
       "        vertical-align: top;\n",
       "    }\n",
       "\n",
       "    .dataframe thead th {\n",
       "        text-align: right;\n",
       "    }\n",
       "</style>\n",
       "<table border=\"1\" class=\"dataframe\">\n",
       "  <thead>\n",
       "    <tr style=\"text-align: right;\">\n",
       "      <th></th>\n",
       "      <th>门店名称</th>\n",
       "      <th>所属区域</th>\n",
       "    </tr>\n",
       "  </thead>\n",
       "  <tbody>\n",
       "    <tr>\n",
       "      <th>0</th>\n",
       "      <td>南通人民路店</td>\n",
       "      <td>上海</td>\n",
       "    </tr>\n",
       "    <tr>\n",
       "      <th>1</th>\n",
       "      <td>洛阳华庭店</td>\n",
       "      <td>中原</td>\n",
       "    </tr>\n",
       "    <tr>\n",
       "      <th>2</th>\n",
       "      <td>深圳益田店</td>\n",
       "      <td>中原</td>\n",
       "    </tr>\n",
       "    <tr>\n",
       "      <th>3</th>\n",
       "      <td>北京东直门店</td>\n",
       "      <td>北京</td>\n",
       "    </tr>\n",
       "    <tr>\n",
       "      <th>4</th>\n",
       "      <td>北京燕莎店</td>\n",
       "      <td>北京</td>\n",
       "    </tr>\n",
       "  </tbody>\n",
       "</table>\n",
       "</div>"
      ],
      "text/plain": [
       "     门店名称 所属区域\n",
       "0  南通人民路店   上海\n",
       "1   洛阳华庭店   中原\n",
       "2   深圳益田店   中原\n",
       "3  北京东直门店   北京\n",
       "4   北京燕莎店   北京"
      ]
     },
     "execution_count": 8,
     "metadata": {},
     "output_type": "execute_result"
    }
   ],
   "source": [
    "df11.head()"
   ]
  },
  {
   "cell_type": "code",
   "execution_count": 9,
   "metadata": {},
   "outputs": [
    {
     "data": {
      "text/plain": [
       "(12, 40)"
      ]
     },
     "execution_count": 9,
     "metadata": {},
     "output_type": "execute_result"
    }
   ],
   "source": [
    "# 区域个数（非重复）和门店个数\n",
    "len(df11[\"所属区域\"].unique()), len(df11[\"门店名称\"])"
   ]
  },
  {
   "cell_type": "code",
   "execution_count": 10,
   "metadata": {},
   "outputs": [],
   "source": [
    "# step 3: df2初步操作\n",
    "df2[[\"二级部门\", \"部门\", \"岗位名称\", \"入职日期\"]] = df2[[\"二级部门\", \"部门\", \"岗位名称\", \"入职日期\"]].applymap(rm_space)\n",
    "df22 = df2[df2[\"岗位名称\"].isin([\"SPA师\", \"理疗师\", \"专家\"])]\n",
    "df22 = df22[[\"二级部门\", \"部门\", \"员工号\", \"岗位名称\", \"入职日期\"]]\n",
    "df22.reset_index(drop = True, inplace = True)"
   ]
  },
  {
   "cell_type": "code",
   "execution_count": 11,
   "metadata": {},
   "outputs": [
    {
     "data": {
      "text/html": [
       "<div>\n",
       "<style scoped>\n",
       "    .dataframe tbody tr th:only-of-type {\n",
       "        vertical-align: middle;\n",
       "    }\n",
       "\n",
       "    .dataframe tbody tr th {\n",
       "        vertical-align: top;\n",
       "    }\n",
       "\n",
       "    .dataframe thead th {\n",
       "        text-align: right;\n",
       "    }\n",
       "</style>\n",
       "<table border=\"1\" class=\"dataframe\">\n",
       "  <thead>\n",
       "    <tr style=\"text-align: right;\">\n",
       "      <th></th>\n",
       "      <th>二级部门</th>\n",
       "      <th>部门</th>\n",
       "      <th>员工号</th>\n",
       "      <th>岗位名称</th>\n",
       "      <th>入职日期</th>\n",
       "    </tr>\n",
       "  </thead>\n",
       "  <tbody>\n",
       "    <tr>\n",
       "      <th>0</th>\n",
       "      <td>华北区域</td>\n",
       "      <td>保定乐凯大街店</td>\n",
       "      <td>180916003</td>\n",
       "      <td>SPA师</td>\n",
       "      <td>2019-06-04</td>\n",
       "    </tr>\n",
       "    <tr>\n",
       "      <th>1</th>\n",
       "      <td>华北区域</td>\n",
       "      <td>保定乐凯大街店</td>\n",
       "      <td>180927012</td>\n",
       "      <td>理疗师</td>\n",
       "      <td>2018-09-21</td>\n",
       "    </tr>\n",
       "    <tr>\n",
       "      <th>2</th>\n",
       "      <td>华北区域</td>\n",
       "      <td>保定乐凯大街店</td>\n",
       "      <td>190412016</td>\n",
       "      <td>理疗师</td>\n",
       "      <td>2019-04-13</td>\n",
       "    </tr>\n",
       "    <tr>\n",
       "      <th>3</th>\n",
       "      <td>华北区域</td>\n",
       "      <td>保定乐凯大街店</td>\n",
       "      <td>190422003</td>\n",
       "      <td>理疗师</td>\n",
       "      <td>2019-04-22</td>\n",
       "    </tr>\n",
       "    <tr>\n",
       "      <th>4</th>\n",
       "      <td>华北区域</td>\n",
       "      <td>保定乐凯大街店</td>\n",
       "      <td>190422008</td>\n",
       "      <td>理疗师</td>\n",
       "      <td>2019-04-22</td>\n",
       "    </tr>\n",
       "  </tbody>\n",
       "</table>\n",
       "</div>"
      ],
      "text/plain": [
       "   二级部门       部门        员工号  岗位名称        入职日期\n",
       "0  华北区域  保定乐凯大街店  180916003  SPA师  2019-06-04\n",
       "1  华北区域  保定乐凯大街店  180927012   理疗师  2018-09-21\n",
       "2  华北区域  保定乐凯大街店  190412016   理疗师  2019-04-13\n",
       "3  华北区域  保定乐凯大街店  190422003   理疗师  2019-04-22\n",
       "4  华北区域  保定乐凯大街店  190422008   理疗师  2019-04-22"
      ]
     },
     "execution_count": 11,
     "metadata": {},
     "output_type": "execute_result"
    }
   ],
   "source": [
    "df22.head()"
   ]
  },
  {
   "cell_type": "code",
   "execution_count": 12,
   "metadata": {},
   "outputs": [],
   "source": [
    "# step 4a: df2保留选定门店\n",
    "df22[\"区域部门\"] = df22[\"二级部门\"] + df22[\"部门\"]\n",
    "df11[\"区域部门\"] = df11[\"所属区域\"] + \"区域\" + df11[\"门店名称\"]"
   ]
  },
  {
   "cell_type": "code",
   "execution_count": 13,
   "metadata": {},
   "outputs": [],
   "source": [
    "# step 4b:\n",
    "df222 = df22[df22[\"区域部门\"].isin(df11[\"区域部门\"])]"
   ]
  },
  {
   "cell_type": "code",
   "execution_count": 14,
   "metadata": {},
   "outputs": [
    {
     "data": {
      "text/plain": [
       "(40, 40)"
      ]
     },
     "execution_count": 14,
     "metadata": {},
     "output_type": "execute_result"
    }
   ],
   "source": [
    "len(df222[\"区域部门\"].unique()), len(df11[\"区域部门\"].unique())"
   ]
  },
  {
   "cell_type": "code",
   "execution_count": 15,
   "metadata": {},
   "outputs": [
    {
     "data": {
      "text/plain": [
       "1114"
      ]
     },
     "execution_count": 15,
     "metadata": {},
     "output_type": "execute_result"
    }
   ],
   "source": [
    "df222.shape[0]"
   ]
  },
  {
   "cell_type": "code",
   "execution_count": 16,
   "metadata": {},
   "outputs": [
    {
     "data": {
      "text/html": [
       "<div>\n",
       "<style scoped>\n",
       "    .dataframe tbody tr th:only-of-type {\n",
       "        vertical-align: middle;\n",
       "    }\n",
       "\n",
       "    .dataframe tbody tr th {\n",
       "        vertical-align: top;\n",
       "    }\n",
       "\n",
       "    .dataframe thead th {\n",
       "        text-align: right;\n",
       "    }\n",
       "</style>\n",
       "<table border=\"1\" class=\"dataframe\">\n",
       "  <thead>\n",
       "    <tr style=\"text-align: right;\">\n",
       "      <th></th>\n",
       "      <th>二级部门</th>\n",
       "      <th>部门</th>\n",
       "      <th>员工号</th>\n",
       "      <th>岗位名称</th>\n",
       "      <th>入职日期</th>\n",
       "    </tr>\n",
       "  </thead>\n",
       "  <tbody>\n",
       "    <tr>\n",
       "      <th>0</th>\n",
       "      <td>北京区域</td>\n",
       "      <td>北京东直门店</td>\n",
       "      <td>170319004</td>\n",
       "      <td>专家</td>\n",
       "      <td>2017-10-25</td>\n",
       "    </tr>\n",
       "    <tr>\n",
       "      <th>1</th>\n",
       "      <td>北京区域</td>\n",
       "      <td>北京东直门店</td>\n",
       "      <td>170319005</td>\n",
       "      <td>SPA师</td>\n",
       "      <td>2019-03-06</td>\n",
       "    </tr>\n",
       "    <tr>\n",
       "      <th>2</th>\n",
       "      <td>北京区域</td>\n",
       "      <td>北京东直门店</td>\n",
       "      <td>170319009</td>\n",
       "      <td>专家</td>\n",
       "      <td>2018-09-20</td>\n",
       "    </tr>\n",
       "    <tr>\n",
       "      <th>3</th>\n",
       "      <td>北京区域</td>\n",
       "      <td>北京东直门店</td>\n",
       "      <td>170319010</td>\n",
       "      <td>专家</td>\n",
       "      <td>2017-10-25</td>\n",
       "    </tr>\n",
       "    <tr>\n",
       "      <th>4</th>\n",
       "      <td>北京区域</td>\n",
       "      <td>北京东直门店</td>\n",
       "      <td>170319014</td>\n",
       "      <td>专家</td>\n",
       "      <td>2019-03-01</td>\n",
       "    </tr>\n",
       "  </tbody>\n",
       "</table>\n",
       "</div>"
      ],
      "text/plain": [
       "   二级部门      部门        员工号  岗位名称        入职日期\n",
       "0  北京区域  北京东直门店  170319004    专家  2017-10-25\n",
       "1  北京区域  北京东直门店  170319005  SPA师  2019-03-06\n",
       "2  北京区域  北京东直门店  170319009    专家  2018-09-20\n",
       "3  北京区域  北京东直门店  170319010    专家  2017-10-25\n",
       "4  北京区域  北京东直门店  170319014    专家  2019-03-01"
      ]
     },
     "execution_count": 16,
     "metadata": {},
     "output_type": "execute_result"
    }
   ],
   "source": [
    "del df222[\"区域部门\"]\n",
    "df222.reset_index(drop = True, inplace = True)\n",
    "df222.head()"
   ]
  },
  {
   "cell_type": "code",
   "execution_count": 17,
   "metadata": {},
   "outputs": [
    {
     "name": "stdout",
     "output_type": "stream",
     "text": [
      "2019-06-19\n"
     ]
    }
   ],
   "source": [
    "# 时间函数\n",
    "s = datetime.date(2018,1,14)\n",
    "t = datetime.date.today()\n",
    "print(t)"
   ]
  },
  {
   "cell_type": "code",
   "execution_count": 18,
   "metadata": {},
   "outputs": [
    {
     "data": {
      "text/plain": [
       "datetime.date(2018, 5, 31)"
      ]
     },
     "execution_count": 18,
     "metadata": {},
     "output_type": "execute_result"
    }
   ],
   "source": [
    "# 返回当前月的前n个月的最后一天，暂未考虑n<=0的情况\n",
    "def LastDay(today, n):\n",
    "    first_day = datetime.date(today.year, today.month, 1)\n",
    "    while n > 0:\n",
    "        # 前一个月最后一天\n",
    "        last_day = first_day - datetime.timedelta(days = 1) \n",
    "        # 前一个月第一天\n",
    "        first_day = datetime.date(last_day.year, last_day.month, 1)\n",
    "        n -= 1\n",
    "    return last_day\n",
    "\n",
    "LastDay(t, 13)"
   ]
  },
  {
   "cell_type": "code",
   "execution_count": 19,
   "metadata": {},
   "outputs": [
    {
     "data": {
      "text/plain": [
       "datetime.date(2018, 6, 1)"
      ]
     },
     "execution_count": 19,
     "metadata": {},
     "output_type": "execute_result"
    }
   ],
   "source": [
    "# 返回当前月的前n个月的第一天，暂未考虑n<=0的情况\n",
    "def FirstDay(today, n):\n",
    "    # 前n个月的最后一天\n",
    "    last_day = LastDay(today, n)\n",
    "    first_day = datetime.date(last_day.year, last_day.month, 1)\n",
    "    return first_day\n",
    "\n",
    "FirstDay(t, 12)"
   ]
  },
  {
   "cell_type": "code",
   "execution_count": 20,
   "metadata": {},
   "outputs": [],
   "source": [
    "# step 5a: 按“入职日期”划分群体的标准，date类型可以比较\n",
    "import datetime\n",
    "def WhichGroup(dateString):\n",
    "    current = datetime.datetime.strptime(dateString,'%Y-%m-%d').date() # str转date\n",
    "    today = datetime.date.today()\n",
    "    if current >= FirstDay(today, 3):\n",
    "        return 1 \n",
    "    elif current <= LastDay(today, 4) and current >= FirstDay(today, 6):\n",
    "        return 2\n",
    "    elif current <= LastDay(today, 7) and current >= FirstDay(today, 12):\n",
    "        return 3\n",
    "    elif current <= LastDay(today, 13):\n",
    "        return 4\n",
    "    return 0 # 入职时间为当月的，群体数为0，后续将0群体删除即可"
   ]
  },
  {
   "cell_type": "code",
   "execution_count": 21,
   "metadata": {
    "scrolled": true
   },
   "outputs": [
    {
     "name": "stderr",
     "output_type": "stream",
     "text": [
      "/anaconda3/lib/python3.6/site-packages/ipykernel_launcher.py:2: SettingWithCopyWarning: \n",
      "A value is trying to be set on a copy of a slice from a DataFrame.\n",
      "Try using .loc[row_indexer,col_indexer] = value instead\n",
      "\n",
      "See the caveats in the documentation: http://pandas.pydata.org/pandas-docs/stable/indexing.html#indexing-view-versus-copy\n",
      "  \n"
     ]
    }
   ],
   "source": [
    "# step 5b: 插入新变量“群体”\n",
    "df222[\"群体\"] = df222[\"入职日期\"].map(WhichGroup)"
   ]
  },
  {
   "cell_type": "code",
   "execution_count": 22,
   "metadata": {},
   "outputs": [],
   "source": [
    "# step 5c: 保留群体1、2、3、4\n",
    "df2222 = df222[df222[\"群体\"].isin([1, 2, 3, 4])]"
   ]
  },
  {
   "cell_type": "code",
   "execution_count": 23,
   "metadata": {},
   "outputs": [
    {
     "data": {
      "text/plain": [
       "1114"
      ]
     },
     "execution_count": 23,
     "metadata": {},
     "output_type": "execute_result"
    }
   ],
   "source": [
    "df2222.shape[0]"
   ]
  },
  {
   "cell_type": "code",
   "execution_count": 24,
   "metadata": {},
   "outputs": [
    {
     "data": {
      "text/html": [
       "<div>\n",
       "<style scoped>\n",
       "    .dataframe tbody tr th:only-of-type {\n",
       "        vertical-align: middle;\n",
       "    }\n",
       "\n",
       "    .dataframe tbody tr th {\n",
       "        vertical-align: top;\n",
       "    }\n",
       "\n",
       "    .dataframe thead th {\n",
       "        text-align: right;\n",
       "    }\n",
       "</style>\n",
       "<table border=\"1\" class=\"dataframe\">\n",
       "  <thead>\n",
       "    <tr style=\"text-align: right;\">\n",
       "      <th></th>\n",
       "      <th>二级部门</th>\n",
       "      <th>部门</th>\n",
       "      <th>员工号</th>\n",
       "      <th>岗位名称</th>\n",
       "      <th>入职日期</th>\n",
       "      <th>群体</th>\n",
       "    </tr>\n",
       "  </thead>\n",
       "  <tbody>\n",
       "    <tr>\n",
       "      <th>0</th>\n",
       "      <td>北京区域</td>\n",
       "      <td>北京东直门店</td>\n",
       "      <td>170319004</td>\n",
       "      <td>专家</td>\n",
       "      <td>2017-10-25</td>\n",
       "      <td>4</td>\n",
       "    </tr>\n",
       "    <tr>\n",
       "      <th>1</th>\n",
       "      <td>北京区域</td>\n",
       "      <td>北京东直门店</td>\n",
       "      <td>170319005</td>\n",
       "      <td>SPA师</td>\n",
       "      <td>2019-03-06</td>\n",
       "      <td>1</td>\n",
       "    </tr>\n",
       "    <tr>\n",
       "      <th>2</th>\n",
       "      <td>北京区域</td>\n",
       "      <td>北京东直门店</td>\n",
       "      <td>170319009</td>\n",
       "      <td>专家</td>\n",
       "      <td>2018-09-20</td>\n",
       "      <td>3</td>\n",
       "    </tr>\n",
       "    <tr>\n",
       "      <th>3</th>\n",
       "      <td>北京区域</td>\n",
       "      <td>北京东直门店</td>\n",
       "      <td>170319010</td>\n",
       "      <td>专家</td>\n",
       "      <td>2017-10-25</td>\n",
       "      <td>4</td>\n",
       "    </tr>\n",
       "    <tr>\n",
       "      <th>4</th>\n",
       "      <td>北京区域</td>\n",
       "      <td>北京东直门店</td>\n",
       "      <td>170319014</td>\n",
       "      <td>专家</td>\n",
       "      <td>2019-03-01</td>\n",
       "      <td>1</td>\n",
       "    </tr>\n",
       "  </tbody>\n",
       "</table>\n",
       "</div>"
      ],
      "text/plain": [
       "   二级部门      部门        员工号  岗位名称        入职日期  群体\n",
       "0  北京区域  北京东直门店  170319004    专家  2017-10-25   4\n",
       "1  北京区域  北京东直门店  170319005  SPA师  2019-03-06   1\n",
       "2  北京区域  北京东直门店  170319009    专家  2018-09-20   3\n",
       "3  北京区域  北京东直门店  170319010    专家  2017-10-25   4\n",
       "4  北京区域  北京东直门店  170319014    专家  2019-03-01   1"
      ]
     },
     "execution_count": 24,
     "metadata": {},
     "output_type": "execute_result"
    }
   ],
   "source": [
    "df2222.head()"
   ]
  },
  {
   "cell_type": "code",
   "execution_count": 25,
   "metadata": {},
   "outputs": [],
   "source": [
    "# step 6a: 创建文件夹\n",
    "def mkdir(path):\n",
    "    \n",
    "    # 去除首位空格\n",
    "    path=path.strip()\n",
    " \n",
    "    # 判断路径是否存在\n",
    "    # 存在     True\n",
    "    # 不存在   False\n",
    "    isExists=os.path.exists(path)\n",
    " \n",
    "    # 判断结果\n",
    "    if not isExists:\n",
    "        # 如果不存在则创建目录\n",
    "        # 创建目录操作函数\n",
    "        os.makedirs(path) \n",
    " \n",
    "        print(path + \"  \" + \"创建成功!\")\n",
    "        return\n",
    "    else:\n",
    "        # 如果目录存在则不创建，并提示目录已存在\n",
    "        print(path + \"  \" + \"目录已存在!\")\n",
    "        return"
   ]
  },
  {
   "cell_type": "code",
   "execution_count": 26,
   "metadata": {},
   "outputs": [],
   "source": [
    "# step 6b: 生成csv\n",
    "def write_csv(df):\n",
    "    region = df[\"二级部门\"].unique()\n",
    "    group = [1, 2, 3, 4]\n",
    "    groupName = [\"0-3组\", \"4-6组\", \"7-12组\", \"12plus\"]\n",
    "    currentPath = os.getcwd() + \"/csv-files-\" + str(datetime.date.today())\n",
    "    mkdir(currentPath)\n",
    "    for r in region:\n",
    "        dirPath = currentPath + \"/\" + r\n",
    "        mkdir(dirPath)\n",
    "        for g in group:\n",
    "            csvPath = dirPath + \"/\" + r + groupName[g-1] + \".csv\"\n",
    "            df[(df[\"二级部门\"] == r) & (df[\"群体\"] == g)][[\"员工号\"]].T.to_csv(csvPath, index = False, header = 0)\n",
    "    "
   ]
  },
  {
   "cell_type": "code",
   "execution_count": 27,
   "metadata": {},
   "outputs": [
    {
     "name": "stdout",
     "output_type": "stream",
     "text": [
      "/Users/gongchenyin/PycharmProjects/ra/csv-files-2019-06-19  创建成功!\n",
      "/Users/gongchenyin/PycharmProjects/ra/csv-files-2019-06-19/北京区域  创建成功!\n",
      "/Users/gongchenyin/PycharmProjects/ra/csv-files-2019-06-19/鲁北区域  创建成功!\n",
      "/Users/gongchenyin/PycharmProjects/ra/csv-files-2019-06-19/华中区域  创建成功!\n",
      "/Users/gongchenyin/PycharmProjects/ra/csv-files-2019-06-19/鲁南区域  创建成功!\n",
      "/Users/gongchenyin/PycharmProjects/ra/csv-files-2019-06-19/华东区域  创建成功!\n",
      "/Users/gongchenyin/PycharmProjects/ra/csv-files-2019-06-19/鲁中区域  创建成功!\n",
      "/Users/gongchenyin/PycharmProjects/ra/csv-files-2019-06-19/济南区域  创建成功!\n",
      "/Users/gongchenyin/PycharmProjects/ra/csv-files-2019-06-19/烟威区域  创建成功!\n",
      "/Users/gongchenyin/PycharmProjects/ra/csv-files-2019-06-19/中原区域  创建成功!\n",
      "/Users/gongchenyin/PycharmProjects/ra/csv-files-2019-06-19/南方区域  创建成功!\n",
      "/Users/gongchenyin/PycharmProjects/ra/csv-files-2019-06-19/上海区域  创建成功!\n",
      "/Users/gongchenyin/PycharmProjects/ra/csv-files-2019-06-19/华北区域  创建成功!\n"
     ]
    }
   ],
   "source": [
    "write_csv(df2222)"
   ]
  },
  {
   "cell_type": "code",
   "execution_count": 28,
   "metadata": {},
   "outputs": [],
   "source": [
    "# step 7: check"
   ]
  }
 ],
 "metadata": {
  "kernelspec": {
   "display_name": "Python 3",
   "language": "python",
   "name": "python3"
  },
  "language_info": {
   "codemirror_mode": {
    "name": "ipython",
    "version": 3
   },
   "file_extension": ".py",
   "mimetype": "text/x-python",
   "name": "python",
   "nbconvert_exporter": "python",
   "pygments_lexer": "ipython3",
   "version": "3.6.8"
  }
 },
 "nbformat": 4,
 "nbformat_minor": 2
}
