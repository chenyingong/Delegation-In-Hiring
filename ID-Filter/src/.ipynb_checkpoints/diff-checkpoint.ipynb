{
 "cells": [
  {
   "cell_type": "code",
   "execution_count": 1,
   "metadata": {},
   "outputs": [],
   "source": [
    "import pandas as pd\n",
    "import os"
   ]
  },
  {
   "cell_type": "code",
   "execution_count": 2,
   "metadata": {},
   "outputs": [],
   "source": [
    "path1 = \"/Users/gongchenyin/PycharmProjects/ra/ID-Filter/csv-files-20190619142221\"\n",
    "path2 = \"/Users/gongchenyin/PycharmProjects/ra/ID-Filter/src/csv-files-jupyter\"\n",
    "region = [\"北京区域\", \"华北区域\", \"华东区域\", \"华中区域\", \"济南区域\", \"鲁北区域\", \"鲁南区域\", \"鲁中区域\", \"南方区域\", \"上海区域\", \"烟威区域\", \"中原区域\"]\n",
    "groupName = [\"0-3组.csv\", \"4-6组.csv\", \"7-12组.csv\", \"12plus.csv\"]"
   ]
  },
  {
   "cell_type": "code",
   "execution_count": 3,
   "metadata": {},
   "outputs": [
    {
     "name": "stdout",
     "output_type": "stream",
     "text": [
      "region: 北京区域 is correct\n",
      "region: 华北区域 is correct\n",
      "region: 华东区域 is correct\n",
      "region: 华中区域 is correct\n",
      "region: 济南区域 is correct\n",
      "region: 鲁北区域 is correct\n",
      "region: 鲁南区域 is correct\n",
      "region: 鲁中区域 is correct\n",
      "region: 南方区域 is correct\n",
      "region: 上海区域 is correct\n",
      "region: 烟威区域 is correct\n",
      "region: 中原区域 is correct\n"
     ]
    }
   ],
   "source": [
    "for r in region:\n",
    "    n = 4 # count\n",
    "    path11 = path1 + \"/\" + r\n",
    "    path22 = path2 + \"/\" + r\n",
    "    for name in groupName:\n",
    "        path111 = path11 + \"/\" + r + name\n",
    "        path222 = path22 + \"/\" + r + name\n",
    "        if (os.path.getsize(path111) == 1 or os.path.getsize(path222) == 1):\n",
    "            continue\n",
    "        f1 = open(path111)\n",
    "        df1 = pd.read_csv(f1, header = None)\n",
    "        f1.close()\n",
    "        f2 = open(path222)\n",
    "        df2 = pd.read_csv(f2, header = None)\n",
    "        f2.close()\n",
    "        a1 = df1.values\n",
    "        a2 = df2.values\n",
    "        a1 = a1.reshape(a1.shape[1],)\n",
    "        a2 = a2.reshape(a2.shape[1],)\n",
    "        if (sorted(a1) != sorted(a2)):\n",
    "            n -= 1\n",
    "            print(\"region: \" + r + \"/\" + r + name + \" WRONG\")\n",
    "    if n == 4:\n",
    "        print(\"region: \" + r + \" is correct\")\n",
    "        "
   ]
  },
  {
   "cell_type": "code",
   "execution_count": null,
   "metadata": {},
   "outputs": [],
   "source": []
  },
  {
   "cell_type": "code",
   "execution_count": null,
   "metadata": {},
   "outputs": [],
   "source": []
  }
 ],
 "metadata": {
  "kernelspec": {
   "display_name": "Python 3",
   "language": "python",
   "name": "python3"
  },
  "language_info": {
   "codemirror_mode": {
    "name": "ipython",
    "version": 3
   },
   "file_extension": ".py",
   "mimetype": "text/x-python",
   "name": "python",
   "nbconvert_exporter": "python",
   "pygments_lexer": "ipython3",
   "version": "3.6.8"
  }
 },
 "nbformat": 4,
 "nbformat_minor": 2
}
