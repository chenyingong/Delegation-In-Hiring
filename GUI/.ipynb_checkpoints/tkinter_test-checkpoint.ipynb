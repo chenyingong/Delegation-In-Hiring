{
 "cells": [
  {
   "cell_type": "code",
   "execution_count": null,
   "metadata": {
    "pycharm": {
     "is_executing": false,
     "name": "#%%\n"
    }
   },
   "outputs": [],
   "source": [
    "import tkinter as tk\n",
    "from tkinter import filedialog\n",
    "import tkinter.messagebox\n",
    "import os\n",
    "\n",
    "window = tk.Tk()\n",
    "\n",
    "window.title(\"公司实验\")\n",
    "\n",
    "window.geometry(\"500x300\")\n",
    "\n",
    "window.maxsize(500, 300)\n",
    "window.minsize(500, 300)\n",
    "\n",
    "l = tk.Label(window, text=\"请选择一个功能\",  fg='white',\n",
    "             bg='#4169E1', font=('Arial', 25), width=35, height=2)\n",
    "\n",
    "l.pack()\n",
    "\n",
    "def select_path():\n",
    "    return tk.filedialog.askopenfilename()\n",
    "    \n",
    "def hit1():\n",
    "    tkinter.messagebox.showinfo(title=\"⏰\", message=\"(1/2)请选择一个门店分组表\")\n",
    "    file_path1 = select_path()\n",
    "    if file_path1 == '':      # 取消选择文件时，取消整个动作 \n",
    "        tkinter.messagebox.showwarning(title=\"⚠️\", message=\"已取消\")\n",
    "        return\n",
    "    \n",
    "    tkinter.messagebox.showinfo(title=\"⏰\", message=\"(2/2)请选择一个员工信息表\")\n",
    "    file_path2 = select_path()\n",
    "    if file_path2 == '':\n",
    "        tkinter.messagebox.showwarning(title=\"⚠️\", message=\"已取消\")\n",
    "        return\n",
    "    \n",
    "    current_path = os.getcwd()\n",
    "    n = os.system(\"python3 \" + current_path + os.sep + \"IDFilter_gui.py \"  +\n",
    "                  file_path1 + ' ' + file_path2)\n",
    "    if n == 0:\n",
    "        tkinter.messagebox.showinfo(title=\"✅\", message=\"筛选完成！名单已存至\" + current_path)\n",
    "    else:\n",
    "        tkinter.messagebox.showerror(title=\"❌\", message=\"筛选失败，请重试！\")\n",
    "\n",
    "def hit2():\n",
    "    tkinter.messagebox.showinfo(title=\"⏰\", message=\"(1/3)请选择一个汇总表\")\n",
    "    file_path1 = select_path()\n",
    "    if file_path1 == '':      # 取消选择文件时，取消整个动作 \n",
    "        tkinter.messagebox.showwarning(title=\"⚠️\", message=\"已取消\")\n",
    "        return\n",
    "    \n",
    "    tkinter.messagebox.showinfo(title=\"⏰\", message=\"(2/3)请选择一个员工信息表\")\n",
    "    file_path2 = select_path()\n",
    "    if file_path2 == '':\n",
    "        tkinter.messagebox.showwarning(title=\"⚠️\", message=\"已取消\")\n",
    "        return\n",
    "    \n",
    "    tkinter.messagebox.showinfo(title=\"⏰\", message=\"(3/3)请选择一个总数据表\")\n",
    "    file_path3 = select_path()\n",
    "    if file_path2 == '':\n",
    "        tkinter.messagebox.showwarning(title=\"⚠️\", message=\"已取消\")\n",
    "        return\n",
    "    \n",
    "    current_path = os.getcwd()\n",
    "    n = os.system(\"python3 \" + current_path + os.sep + \"PeerFilter_gui.py \"  +\n",
    "                  file_path1 + ' ' + file_path2 + ' ' + file_path3)\n",
    "    if n == 0:\n",
    "        tkinter.messagebox.showinfo(title=\"✅\", message=\"筛选完成！名单已存至\" + current_path)\n",
    "    else:\n",
    "        tkinter.messagebox.showerror(title=\"❌\", message=\"筛选失败，请重试！\")\n",
    "\n",
    "def hit3():\n",
    "     tkinter.messagebox.showwarning(title=\"⚠️\", message=\"暂未开启\")\n",
    "\n",
    "def on_closing():\n",
    "    if tkinter.messagebox.askokcancel(\"❓\", \"确定退出？\"):\n",
    "        window.destroy()\n",
    "\n",
    "tk.Label(window, text=\"1. 被推送名单筛选\", fg='#8B4513', font=('Arial', 16)).place(x=130, y=80)\n",
    "id_b = tk.Button(window, text=\"点击开始\", width=6, command=hit1)\n",
    "id_b.place(x=280, y=80)\n",
    "\n",
    "tk.Label(window, text=\"2. 推送名单筛选    \", fg='#8B4513', font=('Arial', 16)).place(x=130, y=120)\n",
    "peer_b = tk.Button(window, text=\"点击开始\", width=6, command=hit2)\n",
    "peer_b.place(x=280, y=120)\n",
    "\n",
    "tk.Label(window, text=\"3. 维护表更新        \", fg='#8B4513', font=('Arial', 16)).place(x=130, y=160)\n",
    "hire_b = tk.Button(window, text=\"点击开始\", width=6, command=hit3)\n",
    "hire_b.place(x=280, y=160)\n",
    "\n",
    "exit_b = tk.Button(window, text=\"点击退出\", width=6, command=on_closing)\n",
    "exit_b.place(x=280, y=200)\n",
    "\n",
    "window.mainloop()"
   ]
  },
  {
   "cell_type": "code",
   "execution_count": null,
   "metadata": {},
   "outputs": [],
   "source": []
  }
 ],
 "metadata": {
  "kernelspec": {
   "display_name": "PyCharm (ra)",
   "language": "python",
   "name": "pycharm-96faea6c"
  },
  "language_info": {
   "codemirror_mode": {
    "name": "ipython",
    "version": 3
   },
   "file_extension": ".py",
   "mimetype": "text/x-python",
   "name": "python",
   "nbconvert_exporter": "python",
   "pygments_lexer": "ipython3",
   "version": "3.7.3"
  },
  "pycharm": {
   "stem_cell": {
    "cell_type": "raw",
    "metadata": {
     "collapsed": false
    },
    "source": []
   }
  }
 },
 "nbformat": 4,
 "nbformat_minor": 1
}
