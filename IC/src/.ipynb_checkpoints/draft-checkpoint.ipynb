{
 "cells": [
  {
   "cell_type": "code",
   "execution_count": 1,
   "metadata": {},
   "outputs": [],
   "source": [
    "import pandas as pd\n",
    "import random\n",
    "import numpy as np\n",
    "import datetime"
   ]
  },
  {
   "cell_type": "markdown",
   "metadata": {},
   "source": [
    "## 一、随机用语"
   ]
  },
  {
   "cell_type": "code",
   "execution_count": 2,
   "metadata": {},
   "outputs": [],
   "source": [
    "first_sen_peer = [\n",
    "    \"为了增进良子人之间的相互了解，今天我们向您介绍{}（化名）的工作业绩。\", \n",
    "    \"在良子，有很多人像您一样在为公司和自己的未来努力。今天我们向您介绍{}（化名）的工作业绩。\",\n",
    "    \"您是否知道，有很多和您经历相近的良子人也在和您一样努力工作。今天我们向您介绍{}（化名）的工作业绩。\",\n",
    "    \"您在努力工作的同时，是否关注到身边的良子人也在努力进步？今天我们向您介绍{}（化名）的工作业绩。\"\n",
    "]"
   ]
  },
  {
   "cell_type": "code",
   "execution_count": 3,
   "metadata": {},
   "outputs": [],
   "source": [
    "middle_sen_peer = [\n",
    "    \"{}{}年{}月加入{}，目前是一名{}。上个月{}的点号数是{}，销售业绩是{}元。\",\n",
    "    \"{}{}年{}月加入{}，目前是一名{}。{}年{}月{}的点号数是{}，销售业绩是{}元。\"\n",
    "]"
   ]
  },
  {
   "cell_type": "code",
   "execution_count": 4,
   "metadata": {},
   "outputs": [],
   "source": [
    "first_sen_senior = [\n",
    "    \"为了增进良子人之间的相互了解，今天我们向您介绍{}（化名）在良子的成长历程。\",\n",
    "    \"很多技艺精湛、业绩突出的老员工也经历了一步一个脚印的学习过程。今天我们向您介绍{}（化名）在良子的成长历程。\",\n",
    "    \"华夏良子大家庭有很多优秀的老员工。大家看到的往往是老员工现在的优秀，看不到的是他们长时间默默努力进步的过程。今天我们向您介绍{}（化名）在良子的成长历程。\"\n",
    "]"
   ]
  },
  {
   "cell_type": "code",
   "execution_count": 5,
   "metadata": {},
   "outputs": [],
   "source": [
    "middle_sen_senior = \"{}{}年{}月加入{}，目前是一名{}。入职第一个月，{}的点号数是{}，销售业绩是{}。此后，{}在工作中取得了{}的成绩。\""
   ]
  },
  {
   "cell_type": "code",
   "execution_count": 6,
   "metadata": {},
   "outputs": [],
   "source": [
    "end_sen_senior = [\n",
    "    \"*入职后第{}个月，{}的点号是{}，销售业绩是{}。\",\n",
    "    \"*上个月，{}的点号达到了{}，销售业绩是{}。\",\n",
    "    \"*{}年{}月，{}的点号达到了{}，销售业绩是{}。\"\n",
    "]"
   ]
  },
  {
   "cell_type": "code",
   "execution_count": 7,
   "metadata": {},
   "outputs": [],
   "source": [
    "profession = [\"理疗师\", \"spa师\", \"专家\"]"
   ]
  },
  {
   "cell_type": "code",
   "execution_count": 8,
   "metadata": {},
   "outputs": [],
   "source": [
    "gender = [\"她\", \"他\"]"
   ]
  },
  {
   "cell_type": "code",
   "execution_count": 9,
   "metadata": {},
   "outputs": [],
   "source": [
    "days = [\"星期三\", \"星期六\"]"
   ]
  },
  {
   "cell_type": "code",
   "execution_count": 10,
   "metadata": {},
   "outputs": [],
   "source": [
    "# progress = [\"一定\", \"不错\"]"
   ]
  },
  {
   "cell_type": "code",
   "execution_count": 11,
   "metadata": {},
   "outputs": [],
   "source": [
    "names_male = [\n",
    "    \"小云\",\n",
    "    \"小杜\",\n",
    "    \"小文\",\n",
    "    \"小安\",\n",
    "    \"小凡\",\n",
    "    \"小平\",\n",
    "    \"小聪\",\n",
    "    \"小叶\",\n",
    "    \"小李\",\n",
    "    \"小淇\",\n",
    "    \"小建\",\n",
    "    \"小龙\",\n",
    "    \"小陆\",\n",
    "    \"小涛\",\n",
    "    \"小白\",\n",
    "    \"小阳\",\n",
    "    \"小刚\",\n",
    "    \"小军\",\n",
    "    \"小华\",\n",
    "    \"小鹏\"\n",
    "]"
   ]
  },
  {
   "cell_type": "code",
   "execution_count": 12,
   "metadata": {},
   "outputs": [],
   "source": [
    "names_female = [\n",
    "    \"小羽\",\n",
    "    \"小李\",\n",
    "    \"小梅\",\n",
    "    \"小南\",\n",
    "    \"小静\",\n",
    "    \"小冰\",\n",
    "    \"小琳\",\n",
    "    \"小杨\",\n",
    "    \"小美\",\n",
    "    \"小冉\",\n",
    "    \"小婷\",\n",
    "    \"小雪\",\n",
    "    \"小燕\",\n",
    "    \"小琴\",\n",
    "    \"小莹\",\n",
    "    \"小雅\",\n",
    "    \"小娟\",\n",
    "    \"小娜\",\n",
    "    \"小张\",\n",
    "    \"小妍\"\n",
    "]"
   ]
  },
  {
   "cell_type": "markdown",
   "metadata": {},
   "source": [
    "## 二、同龄人组：读取sheet，造句"
   ]
  },
  {
   "cell_type": "markdown",
   "metadata": {},
   "source": [
    "### 读取sheets"
   ]
  },
  {
   "cell_type": "code",
   "execution_count": 13,
   "metadata": {},
   "outputs": [],
   "source": [
    "# path_test = \"/Users/gongchenyin/Desktop/资料馆/科研/公司实验/我的编辑/最终提交/推送名单/2019-07-13/6月筛选人员-20190713143336/华中区域.xlsx\"\n",
    "path_test = \"/Users/gongchenyin/PycharmProjects/ra/data/201907/IC/ic_input1/华中+鲁中+青岛推送数据/鲁中区域推送数据.xlsx\""
   ]
  },
  {
   "cell_type": "code",
   "execution_count": 14,
   "metadata": {},
   "outputs": [],
   "source": [
    "# 指向io的速度会更快？"
   ]
  },
  {
   "cell_type": "code",
   "execution_count": 15,
   "metadata": {},
   "outputs": [],
   "source": [
    "io = pd.io.excel.ExcelFile(path_test)\n",
    "df1 = pd.read_excel(io, sheet_name = \"0-3个月\")\n",
    "io.close()"
   ]
  },
  {
   "cell_type": "code",
   "execution_count": 16,
   "metadata": {},
   "outputs": [],
   "source": [
    "valid_df = df1.copy()"
   ]
  },
  {
   "cell_type": "code",
   "execution_count": 17,
   "metadata": {},
   "outputs": [],
   "source": [
    "def random_int(low, high, k):\n",
    "    seen = set()\n",
    "    result = []\n",
    "    for i in range(k):\n",
    "        x = np.random.randint(low, high)\n",
    "        while x in seen:\n",
    "            x = np.random.randint(low, high)\n",
    "        seen.add(x)\n",
    "        result.append(x)\n",
    "    return result\n",
    "result = random_int(0, len(names_male), len(valid_df))"
   ]
  },
  {
   "cell_type": "code",
   "execution_count": 18,
   "metadata": {},
   "outputs": [],
   "source": [
    "sdate  = datetime.date(2019, 8, 17)\n",
    "delta3 = datetime.timedelta(days=3)\n",
    "delta4 = datetime.timedelta(days=4)\n",
    "delta7 = datetime.timedelta(days=7)\n",
    "this_month = sdate.month"
   ]
  },
  {
   "cell_type": "code",
   "execution_count": 19,
   "metadata": {},
   "outputs": [
    {
     "data": {
      "text/plain": [
       "5"
      ]
     },
     "execution_count": 19,
     "metadata": {},
     "output_type": "execute_result"
    }
   ],
   "source": [
    "# 如sdate是星期六，返回的是5。从0开始\n",
    "sdate.weekday()"
   ]
  },
  {
   "cell_type": "code",
   "execution_count": 20,
   "metadata": {},
   "outputs": [
    {
     "data": {
      "text/plain": [
       "'{}{}年{}月加入{}，目前是一名{}。{}年{}月{}的点号数是{}，销售业绩是{}元。'"
      ]
     },
     "execution_count": 20,
     "metadata": {},
     "output_type": "execute_result"
    }
   ],
   "source": [
    "middle_sen_peer[1]"
   ]
  },
  {
   "cell_type": "code",
   "execution_count": 21,
   "metadata": {},
   "outputs": [
    {
     "data": {
      "text/plain": [
       "1"
      ]
     },
     "execution_count": 21,
     "metadata": {},
     "output_type": "execute_result"
    }
   ],
   "source": [
    "np.random.randint(0,2)"
   ]
  },
  {
   "cell_type": "code",
   "execution_count": 22,
   "metadata": {},
   "outputs": [
    {
     "data": {
      "text/plain": [
       "'8月'"
      ]
     },
     "execution_count": 22,
     "metadata": {},
     "output_type": "execute_result"
    }
   ],
   "source": [
    "'{}月'.format(sdate.month)"
   ]
  },
  {
   "cell_type": "code",
   "execution_count": 23,
   "metadata": {},
   "outputs": [
    {
     "name": "stdout",
     "output_type": "stream",
     "text": [
      "星期六(8月17日)\n",
      "为了增进良子人之间的相互了解，今天我们向您介绍小冉（化名）的工作业绩。小冉2019年5月加入鲁中区域，目前是一名SPA师。上个月小冉的点号数是25，销售业绩是6980.0元。\n",
      "\n",
      "星期三(8月21日)\n",
      "在良子，有很多人像您一样在为公司和自己的未来努力。今天我们向您介绍小涛（化名）的工作业绩。小涛2019年6月加入鲁中区域，目前是一名理疗师。上个月小涛的点号数是8，销售业绩是0.0元。\n",
      "\n",
      "星期六(8月24日)\n",
      "您是否知道，有很多和您经历相近的良子人也在和您一样努力工作。今天我们向您介绍小李（化名）的工作业绩。小李2019年5月加入鲁中区域，目前是一名SPA师。上个月小李的点号数是16，销售业绩是11933.23元。\n",
      "\n",
      "星期三(8月28日)\n",
      "您在努力工作的同时，是否关注到身边的良子人也在努力进步？今天我们向您介绍小刚（化名）的工作业绩。小刚2019年6月加入鲁中区域，目前是一名理疗师。上个月小刚的点号数是11，销售业绩是750.0元。\n",
      "\n",
      "星期六(8月31日)\n",
      "为了增进良子人之间的相互了解，今天我们向您介绍小华（化名）的工作业绩。小华2019年5月加入鲁中区域，目前是一名理疗师。上个月小华的点号数是55，销售业绩是29562.02元。\n",
      "\n",
      "星期三(9月4日)\n",
      "在良子，有很多人像您一样在为公司和自己的未来努力。今天我们向您介绍小静（化名）的工作业绩。小静2019年5月加入鲁中区域，目前是一名理疗师。2019年7月小静的点号数是14，销售业绩是250.0元。\n",
      "\n",
      "星期六(9月7日)\n",
      "您是否知道，有很多和您经历相近的良子人也在和您一样努力工作。今天我们向您介绍小陆（化名）的工作业绩。小陆2019年6月加入鲁中区域，目前是一名理疗师。2019年7月小陆的点号数是5，销售业绩是5750.0元。\n",
      "\n",
      "星期三(9月11日)\n",
      "您在努力工作的同时，是否关注到身边的良子人也在努力进步？今天我们向您介绍小文（化名）的工作业绩。小文2019年5月加入鲁中区域，目前是一名理疗师。2019年7月小文的点号数是2，销售业绩是2322.0元。\n",
      "\n",
      "星期六(9月14日)\n",
      "为了增进良子人之间的相互了解，今天我们向您介绍小平（化名）的工作业绩。小平2019年5月加入鲁中区域，目前是一名理疗师。2019年7月小平的点号数是11，销售业绩是1650.0元。\n",
      "\n",
      "\n"
     ]
    }
   ],
   "source": [
    "sentence_peer = ''\n",
    "for i in range(len(valid_df)):\n",
    "    # 岗位\n",
    "    position = valid_df.iloc[i][\"岗位\"]\n",
    "    # 区域\n",
    "    region = valid_df.iloc[i][\"区域\"]\n",
    "    # 入职日期\n",
    "    employ_date = str(valid_df.iloc[i][\"入职日期\"])\n",
    "    # 点号、销售\n",
    "    num1 = valid_df.iloc[i][\"点号合计\"]\n",
    "    num2 = valid_df.iloc[i][\"销售业绩\"]\n",
    "    year = int(employ_date.split('-')[0])\n",
    "    month = int(employ_date.split('-')[1])\n",
    "    k = i%len(days)\n",
    "    gender_index = np.random.randint(0,2)\n",
    "    if gender_index == 0:\n",
    "        name1 = names_female[result[i]]\n",
    "    else:\n",
    "        name1 = names_male[result[i]]\n",
    "    if (sdate.weekday() == 2):\n",
    "        IC_date = sdate + k*delta3 + i//2*delta7\n",
    "        IC_week = days[k]\n",
    "    else:\n",
    "        IC_date = sdate + k*delta4 + i//2*delta7\n",
    "        IC_week = days[k-1]\n",
    "    IC_year = IC_date.year\n",
    "    IC_month = IC_date.month\n",
    "    IC_day = IC_date.day\n",
    "    sentence0 = IC_week + \"({}月{}日)\".format(IC_month, IC_day) + \"\\n\"\n",
    "    sentence1 = first_sen_peer[i%len(first_sen_peer)].format(name1)\n",
    "    if IC_month == this_month:\n",
    "        sentence2 = middle_sen_peer[0].format(name1, year, month, region, position, name1, num1, num2) + \"\\n\"\n",
    "    else:\n",
    "        if this_month == 1:\n",
    "            IC_year -= 1\n",
    "            IC_month = 12\n",
    "        else:\n",
    "            IC_month = this_month - 1\n",
    "        sentence2 = middle_sen_peer[1].format(name1, year, month, region, position, IC_year, IC_month, name1, num1, num2) + \"\\n\"\n",
    "    # this_month-1 需要修改\n",
    "    sentence_peer += sentence0 + sentence1 + sentence2 + \"\\n\"\n",
    "print(sentence_peer)"
   ]
  },
  {
   "cell_type": "markdown",
   "metadata": {},
   "source": [
    "## 三、老人组：读取sheets，造句"
   ]
  },
  {
   "cell_type": "code",
   "execution_count": 24,
   "metadata": {},
   "outputs": [],
   "source": [
    "path2_test = \"/Users/gongchenyin/PycharmProjects/ra/data/201907/IC/ic_input1/华中+鲁中+青岛推送数据/鲁中区域推送数据.xlsx\""
   ]
  },
  {
   "cell_type": "code",
   "execution_count": 25,
   "metadata": {},
   "outputs": [],
   "source": [
    "io = pd.io.excel.ExcelFile(path2_test)\n",
    "df6 = pd.read_excel(io, sheet_name = \"老人组long\")\n",
    "io.close()"
   ]
  },
  {
   "cell_type": "code",
   "execution_count": 26,
   "metadata": {},
   "outputs": [],
   "source": [
    "# 去重并保持顺序不变\n",
    "list6 = list(df6[\"工号\"])\n",
    "senior = list(set(list6))\n",
    "senior.sort(key = list6.index)"
   ]
  },
  {
   "cell_type": "code",
   "execution_count": 27,
   "metadata": {},
   "outputs": [
    {
     "data": {
      "text/plain": [
       "[180731052,\n",
       " 180227013,\n",
       " 180313057,\n",
       " 180311030,\n",
       " 180327027,\n",
       " 180504033,\n",
       " 171219005,\n",
       " 180228018,\n",
       " 180530005]"
      ]
     },
     "execution_count": 27,
     "metadata": {},
     "output_type": "execute_result"
    }
   ],
   "source": [
    "senior"
   ]
  },
  {
   "cell_type": "code",
   "execution_count": 28,
   "metadata": {},
   "outputs": [],
   "source": [
    "result2 = random_int(0, len(names_male), len(senior))"
   ]
  },
  {
   "cell_type": "code",
   "execution_count": 29,
   "metadata": {},
   "outputs": [
    {
     "data": {
      "text/plain": [
       "[6, 17, 7, 5, 8, 12, 1, 19, 10]"
      ]
     },
     "execution_count": 29,
     "metadata": {},
     "output_type": "execute_result"
    }
   ],
   "source": [
    "result2"
   ]
  },
  {
   "cell_type": "code",
   "execution_count": 30,
   "metadata": {},
   "outputs": [
    {
     "data": {
      "text/plain": [
       "工号          180731052\n",
       "姓名                程光明\n",
       "区域               鲁中区域\n",
       "部门             衡水永兴路店\n",
       "岗位               SPA师\n",
       "出勤                NaN\n",
       "点号合计               52\n",
       "销售业绩            20000\n",
       "工资年月       2019-07-01\n",
       "最早的入职日期    2018-07-20\n",
       "第n月工作              12\n",
       "随机数          0.978805\n",
       "评价                NaN\n",
       "Name: 3, dtype: object"
      ]
     },
     "execution_count": 30,
     "metadata": {},
     "output_type": "execute_result"
    }
   ],
   "source": [
    "df6[df6[\"工号\"] == 180731052].iloc[-1]"
   ]
  },
  {
   "cell_type": "code",
   "execution_count": 31,
   "metadata": {},
   "outputs": [
    {
     "name": "stdout",
     "output_type": "stream",
     "text": [
      "星期六(8月17日)\n",
      "为了增进良子人之间的相互了解，今天我们向您介绍小聪（化名）在良子的成长历程。小聪2018年7月加入鲁中区域，目前是一名SPA师。入职第一个月，他的点号数是8，销售业绩是3000.0。此后，他在工作中取得了一定的成绩。\n",
      "*入职后第3个月，他的点号是39，销售业绩是20086.66。\n",
      "*入职后第6个月，他的点号是45，销售业绩是1971.0。\n",
      "*上个月，他的点号达到了52，销售业绩是20000.0。\n",
      "\n",
      "星期三(8月21日)\n",
      "很多技艺精湛、业绩突出的老员工也经历了一步一个脚印的学习过程。今天我们向您介绍小军（化名）在良子的成长历程。小军2018年2月加入鲁中区域，目前是一名理疗师。入职第一个月，他的点号数是2，销售业绩是0.0。此后，他在工作中取得了一定的成绩。\n",
      "*入职后第3个月，他的点号是74，销售业绩是8518.0。\n",
      "*入职后第6个月，他的点号是61，销售业绩是47840.0。\n",
      "*入职后第12个月，他的点号是31，销售业绩是7457.0。\n",
      "*上个月，他的点号达到了73，销售业绩是13052.0。\n",
      "\n",
      "星期六(8月24日)\n",
      "华夏良子大家庭有很多优秀的老员工。大家看到的往往是老员工现在的优秀，看不到的是他们长时间默默努力进步的过程。今天我们向您介绍小叶（化名）在良子的成长历程。小叶2018年3月加入鲁中区域，目前是一名理疗师。入职第一个月，他的点号数是5，销售业绩是3600.0。此后，他在工作中取得了不错的成绩。\n",
      "*入职后第3个月，他的点号是42，销售业绩是12541.0。\n",
      "*入职后第6个月，他的点号是97，销售业绩是103226.6。\n",
      "*入职后第12个月，他的点号是34，销售业绩是39358.82。\n",
      "*上个月，他的点号达到了80，销售业绩是36982.4。\n",
      "\n",
      "星期三(8月28日)\n",
      "为了增进良子人之间的相互了解，今天我们向您介绍小冰（化名）在良子的成长历程。小冰2018年2月加入鲁中区域，目前是一名SPA师。入职第一个月，她的点号数是4，销售业绩是4018.0。此后，她在工作中取得了一定的成绩。\n",
      "*入职后第3个月，她的点号是16，销售业绩是1000.0。\n",
      "*入职后第6个月，她的点号是4，销售业绩是0.0。\n",
      "*入职后第12个月，她的点号是6，销售业绩是2000.0。\n",
      "*上个月，她的点号达到了79，销售业绩是68638.99。\n",
      "\n",
      "星期六(8月31日)\n",
      "很多技艺精湛、业绩突出的老员工也经历了一步一个脚印的学习过程。今天我们向您介绍小美（化名）在良子的成长历程。小美2018年3月加入鲁中区域，目前是一名理疗师。入职第一个月，她的点号数是18，销售业绩是0.0。此后，她在工作中取得了不错的成绩。\n",
      "*入职后第3个月，她的点号是6，销售业绩是766.0。\n",
      "*入职后第6个月，她的点号是7，销售业绩是25606.66。\n",
      "*入职后第12个月，她的点号是55，销售业绩是67358.99。\n",
      "*上个月，她的点号达到了87，销售业绩是155781.8。\n",
      "\n",
      "星期三(9月4日)\n",
      "华夏良子大家庭有很多优秀的老员工。大家看到的往往是老员工现在的优秀，看不到的是他们长时间默默努力进步的过程。今天我们向您介绍小燕（化名）在良子的成长历程。小燕2018年4月加入鲁中区域，目前是一名理疗师。入职第一个月，她的点号数是13，销售业绩是0.0。此后，她在工作中取得了不错的成绩。\n",
      "*入职后第3个月，她的点号是24，销售业绩是2000.0。\n",
      "*入职后第6个月，她的点号是47，销售业绩是17920.0。\n",
      "*入职后第12个月，她的点号是36，销售业绩是17770.0。\n",
      "*2019年7月，她的点号达到了69，销售业绩是46691.0。\n",
      "\n",
      "星期六(9月7日)\n",
      "为了增进良子人之间的相互了解，今天我们向您介绍小李（化名）在良子的成长历程。小李2017年12月加入鲁中区域，目前是一名SPA师。入职第一个月，她的点号数是17，销售业绩是4000.0。此后，她在工作中取得了不错的成绩。\n",
      "*入职后第3个月，她的点号是26，销售业绩是6000.0。\n",
      "*入职后第6个月，她的点号是33，销售业绩是18042.0。\n",
      "*入职后第12个月，她的点号是59，销售业绩是38713.04。\n",
      "*2019年7月，她的点号达到了64，销售业绩是245460.62。\n",
      "\n",
      "星期三(9月11日)\n",
      "很多技艺精湛、业绩突出的老员工也经历了一步一个脚印的学习过程。今天我们向您介绍小鹏（化名）在良子的成长历程。小鹏2018年1月加入鲁中区域，目前是一名专家。入职第一个月，他的点号数是0，销售业绩是0.0。此后，他在工作中取得了一定的成绩。\n",
      "*入职后第3个月，他的点号是32，销售业绩是11111.0。\n",
      "*入职后第6个月，他的点号是33，销售业绩是0.0。\n",
      "*入职后第12个月，他的点号是24，销售业绩是2999.97。\n",
      "*2019年7月，他的点号达到了26，销售业绩是21600.0。\n",
      "\n",
      "星期六(9月14日)\n",
      "华夏良子大家庭有很多优秀的老员工。大家看到的往往是老员工现在的优秀，看不到的是他们长时间默默努力进步的过程。今天我们向您介绍小建（化名）在良子的成长历程。小建2018年5月加入鲁中区域，目前是一名SPA师。入职第一个月，他的点号数是8，销售业绩是4521.0。此后，他在工作中取得了一定的成绩。\n",
      "*入职后第3个月，他的点号是18，销售业绩是1000.0。\n",
      "*入职后第6个月，他的点号是20，销售业绩是3666.66。\n",
      "*入职后第12个月，他的点号是60，销售业绩是7450.0。\n",
      "*2019年7月，他的点号达到了73，销售业绩是20020.0。\n",
      "\n",
      "\n"
     ]
    }
   ],
   "source": [
    "sentence_senior = ''\n",
    "i = 0\n",
    "for ID in senior:\n",
    "    latest_info = df6[df6[\"工号\"] == ID].iloc[-1]\n",
    "    # 上个月是第n月工作？\n",
    "    latest_n = latest_info[\"第n月工作\"]\n",
    "    # 岗位\n",
    "    position = latest_info[\"岗位\"]\n",
    "    # 区域\n",
    "    region = latest_info[\"区域\"]\n",
    "    # 入职日期\n",
    "    employ_date = str(latest_info[\"最早的入职日期\"])\n",
    "    # 上月点号、销售\n",
    "    num1 = latest_info[\"点号合计\"]\n",
    "    num2 = latest_info[\"销售业绩\"]\n",
    "    year = int(employ_date.split('-')[0])\n",
    "    month = int(employ_date.split('-')[1])\n",
    "    gender_index = np.random.randint(0,2)\n",
    "    gender1 = gender[gender_index]\n",
    "    if gender1 == \"她\":\n",
    "        name1 = names_female[result2[i]]\n",
    "    else:\n",
    "        name1 = names_male[result2[i]]\n",
    "    # progress1 = progress[i%len(progress)]\n",
    "    k = i%len(days)\n",
    "    if (sdate.weekday() == 2):\n",
    "        IC_date = sdate + k*delta3 + i//2*delta7\n",
    "        IC_week = days[k]\n",
    "    else:\n",
    "        IC_date = sdate + k*delta4 + i//2*delta7\n",
    "        IC_week = days[k-1]\n",
    "    IC_year = IC_date.year\n",
    "    IC_month = IC_date.month\n",
    "    IC_day = IC_date.day\n",
    "    sentence0 = IC_week + \"({}月{}日)\".format(IC_month, IC_day) + \"\\n\"\n",
    "    sentence1 = first_sen_senior[i%len(first_sen_senior)].format(name1)\n",
    "    this_df = df6[df6[\"工号\"] == ID]\n",
    "    progress1 = this_df.iloc[0][\"评价\"]\n",
    "    temp = this_df[this_df[\"第n月工作\"] == 1]\n",
    "    sentence2 = '\\n'\n",
    "    if len(temp) != 0:\n",
    "        num10 = temp.iloc[0][\"点号合计\"]\n",
    "        num20 = temp.iloc[0][\"销售业绩\"]\n",
    "        sentence2 = middle_sen_senior.format(name1, year, month, region, position, gender1, num10, num20, gender1, progress1) + \"\\n\"\n",
    "    sentence3 = ''\n",
    "    n = 3\n",
    "    for l in range(3):\n",
    "        temp  = this_df[this_df[\"第n月工作\"] == n]\n",
    "        if len(temp) == 0:\n",
    "            continue\n",
    "        num11 = temp.iloc[0][\"点号合计\"]\n",
    "        num22 = temp.iloc[0][\"销售业绩\"]\n",
    "        if n == latest_n:\n",
    "            break\n",
    "        sentence3 += end_sen_senior[0].format(n, gender1, num11, num22) + \"\\n\"\n",
    "        n *= 2\n",
    "    if IC_month == this_month:\n",
    "        sentence3 += end_sen_senior[1].format(gender1, num1, num2) + \"\\n\"\n",
    "    else:\n",
    "        sentence3 += end_sen_senior[2].format(IC_year, this_month-1, gender1, num1, num2) + \"\\n\"\n",
    "    sentence_senior += sentence0 + sentence1 + sentence2 + sentence3 + \"\\n\"\n",
    "    i += 1\n",
    "print(sentence_senior)"
   ]
  },
  {
   "cell_type": "raw",
   "metadata": {},
   "source": [
    "sentence_senior = ''\n",
    "for i in range(len(valid_df5)):\n",
    "    # 工号\n",
    "    ID = valid_df5.iloc[i][\"工号\"]\n",
    "    # 岗位\n",
    "    position = valid_df5.iloc[i][\"岗位\"]\n",
    "    # 区域\n",
    "    region = valid_df5.iloc[i][\"区域\"]\n",
    "    # 入职日期\n",
    "    employ_date = valid_df5.iloc[i][\"入职日期\"]\n",
    "    # 上月点号、销售\n",
    "    num1 = valid_df5.iloc[i][\"点号合计\"]\n",
    "    num2 = valid_df5.iloc[i][\"销售业绩\"]\n",
    "    year = employ_date.split('-')[0]\n",
    "    month = employ_date.split('-')[1]\n",
    "    gender_index = np.random.randint(0,2)\n",
    "    gender1 = gender[gender_index]\n",
    "    if gender1 == \"她\":\n",
    "        name1 = names_female[result2[i]]\n",
    "    else:\n",
    "        name1 = names_male[result2[i]]\n",
    "    # progress1 = progress[i%len(progress)]\n",
    "    k = i%len(days)\n",
    "    IC_week = days[k]\n",
    "    IC_week = days[k]\n",
    "    if (sdate.weekday() == 2):\n",
    "        IC_date = sdate + k*delta3 + i//2*delta7\n",
    "    else:\n",
    "        IC_date = sdate + k*delta4 + i//2*delta7\n",
    "    IC_year = IC_date.year\n",
    "    IC_month = IC_date.month\n",
    "    IC_day = IC_date.day\n",
    "    sentence0 = IC_week + \"({}月{}日)\".format(IC_month, IC_day) + \"\\n\"\n",
    "    sentence1 = first_sen_senior[i%len(first_sen_senior)].format(name1)\n",
    "    this_df = df6[df6[\"工号\"] == ID]\n",
    "    progress1 = progress[int(this_df.iloc[0][\"评价\"])]\n",
    "    temp = this_df[this_df[\"第n月工作\"] == 1]\n",
    "    sentence2 = '\\n'\n",
    "    if len(temp) != 0:\n",
    "        num10 = temp.iloc[0][\"点号合计\"]\n",
    "        num20 = temp.iloc[0][\"销售业绩\"]\n",
    "        sentence2 = middle_sen_senior.format(name1, year, month, region, position, gender1, num10, num20, gender1, progress1) + \"\\n\"\n",
    "    sentence3 = ''\n",
    "    n = 3\n",
    "    for l in range(3):\n",
    "        temp  = this_df[this_df[\"第n月工作\"] == n]\n",
    "        if len(temp) == 0:\n",
    "            continue\n",
    "        num11 = temp.iloc[0][\"点号合计\"]\n",
    "        num22 = temp.iloc[0][\"销售业绩\"]\n",
    "        sentence3 += end_sen_senior[0].format(n, gender1, num11, num22) + \"\\n\"\n",
    "        n *= 2\n",
    "    if IC_month == this_month:\n",
    "        sentence3 += end_sen_senior[1].format(gender1, num1, num2) + \"\\n\"\n",
    "    else:\n",
    "        sentence3 += end_sen_senior[2].format(IC_year, this_month-1, gender1, num1, num2) + \"\\n\"\n",
    "    sentence_senior += sentence0 + sentence1 + sentence2 + sentence3 + \"\\n\"\n",
    "print(sentence_senior)"
   ]
  },
  {
   "cell_type": "markdown",
   "metadata": {},
   "source": []
  },
  {
   "cell_type": "markdown",
   "metadata": {},
   "source": [
    "## 四、导出至txt"
   ]
  },
  {
   "cell_type": "raw",
   "metadata": {},
   "source": [
    "doc = Document()\n",
    "doc.add_heading(\"test document title\", 0)\n",
    "p = doc.add_paragraph(sentence_peer)\n",
    "doc.save('test.docx')"
   ]
  },
  {
   "cell_type": "code",
   "execution_count": 32,
   "metadata": {},
   "outputs": [],
   "source": [
    "with open('data_peer.txt','w') as f:\n",
    "    f.write(sentence_peer)"
   ]
  },
  {
   "cell_type": "code",
   "execution_count": 33,
   "metadata": {},
   "outputs": [],
   "source": [
    "with open('data_senior.txt','w') as f:\n",
    "    f.write(sentence_senior)"
   ]
  },
  {
   "cell_type": "code",
   "execution_count": 34,
   "metadata": {},
   "outputs": [],
   "source": [
    "ppp = \"/Users/gongchenyin/PycharmProjects/ra/data/201907/IC/ic_output1/鲁中区域.xlsx\""
   ]
  },
  {
   "cell_type": "code",
   "execution_count": 36,
   "metadata": {},
   "outputs": [],
   "source": [
    "def from_existing_excel(file_path: str, *sheet) -> list:\n",
    "    \"\"\"\n",
    "    Read data from existing excel sheets, and transform it to DataFrame object\n",
    "    :param file_path: path of the input excel file\n",
    "    :param sheet: name of the sheet to read\n",
    "    :return: list of DataFrame object\n",
    "    \"\"\"\n",
    "    df = []\n",
    "    io = pd.io.excel.ExcelFile(file_path)\n",
    "    for s in sheet:\n",
    "        df.append(pd.read_excel(io, sheet_name=s))\n",
    "    io.close()\n",
    "    return df"
   ]
  },
  {
   "cell_type": "code",
   "execution_count": 37,
   "metadata": {},
   "outputs": [],
   "source": [
    "df = from_existing_excel(ppp,  \"0-3个月\", \"4-6个月\", \"7-12个月\", \"1年以上\", \"老人组long\")"
   ]
  },
  {
   "cell_type": "code",
   "execution_count": 40,
   "metadata": {},
   "outputs": [],
   "source": [
    "def senior_sentence(df_senior: pd.DataFrame, sdate: datetime.date) -> str:\n",
    "    \"\"\"\n",
    "    Convert peer group data to IC sentence.\n",
    "    :param df_senior: DataFrame object of peer group data\n",
    "    :param sdate: start date of IC\n",
    "    :return: IC sentence\n",
    "    \"\"\"\n",
    "    valid_df = df_senior.copy()\n",
    "    senior_list = list(valid_df[\"工号\"])\n",
    "    senior = list(set(senior_list))\n",
    "    senior.sort(key=senior_list.index)\n",
    "    this_month = sdate.month\n",
    "    result = random_int(0, len(names_male), len(valid_df))\n",
    "    sentence_senior = ''\n",
    "    i = 0\n",
    "    for ID in senior:\n",
    "        latest_info = valid_df[valid_df[\"工号\"] == ID].iloc[-1]\n",
    "        # 上个月是第n月工作？\n",
    "        latest_n = latest_info[\"第n月工作\"]\n",
    "        # 岗位\n",
    "        position = latest_info[\"岗位\"]\n",
    "        # 区域\n",
    "        region = latest_info[\"区域\"]\n",
    "        # 入职日期\n",
    "        employ_date = str(latest_info[\"最早的入职日期\"])\n",
    "        # 上月点号、销售\n",
    "        num1 = latest_info[\"点号合计\"]\n",
    "        num2 = latest_info[\"销售业绩\"]\n",
    "        year = int(employ_date.split('-')[0])\n",
    "        month = int(employ_date.split('-')[1])\n",
    "        gender_index = np.random.randint(0, 2)\n",
    "        gender1 = gender[gender_index]\n",
    "        if gender1 == \"她\":\n",
    "            name1 = names_female[result[i]]\n",
    "        else:\n",
    "            name1 = names_male[result[i]]\n",
    "        # progress1 = progress[i%len(progress)]\n",
    "        k = i % len(days)\n",
    "        if sdate.weekday() == 2:\n",
    "            IC_date = sdate + k * delta3 + i // 2 * delta7\n",
    "            IC_week = days[k]\n",
    "        else:\n",
    "            IC_date = sdate + k * delta4 + i // 2 * delta7\n",
    "            IC_week = days[k - 1]\n",
    "        IC_year = IC_date.year\n",
    "        IC_month = IC_date.month\n",
    "        IC_day = IC_date.day\n",
    "        sentence0 = IC_week + \"({}月{}日)\".format(IC_month, IC_day) + \"\\n\"\n",
    "        sentence1 = first_sen_senior[i % len(first_sen_senior)].format(name1)\n",
    "        this_df = valid_df[valid_df[\"工号\"] == ID]\n",
    "        progress1 = this_df.iloc[0][\"评价\"]\n",
    "        temp = this_df[this_df[\"第n月工作\"] == 1]\n",
    "        sentence2 = '\\n'\n",
    "        if len(temp) != 0:\n",
    "            num10 = temp.iloc[0][\"点号合计\"]\n",
    "            num20 = temp.iloc[0][\"销售业绩\"]\n",
    "            sentence2 = middle_sen_senior.format(name1, year, month, region, position, gender1, num10, num20, gender1,\n",
    "                                                 progress1) + \"\\n\"\n",
    "        sentence3 = ''\n",
    "        n = 3\n",
    "        for l in range(3):\n",
    "            temp = this_df[this_df[\"第n月工作\"] == n]\n",
    "            if len(temp) == 0:\n",
    "                continue\n",
    "            num11 = temp.iloc[0][\"点号合计\"]\n",
    "            num22 = temp.iloc[0][\"销售业绩\"]\n",
    "            if n == latest_n:\n",
    "                break\n",
    "            sentence3 += end_sen_senior[0].format(n, gender1, num11, num22) + \"\\n\"\n",
    "            n *= 2\n",
    "        if IC_month == this_month:\n",
    "            sentence3 += end_sen_senior[1].format(gender1, num1, num2) + \"\\n\"\n",
    "        else:\n",
    "            sentence3 += end_sen_senior[2].format(IC_year, this_month - 1, gender1, num1, num2) + \"\\n\"\n",
    "        sentence_senior += sentence0 + sentence1 + sentence2 + sentence3 + \"\\n\"\n",
    "        i += 1\n",
    "    return sentence_senior"
   ]
  },
  {
   "cell_type": "code",
   "execution_count": 41,
   "metadata": {},
   "outputs": [
    {
     "ename": "KeyboardInterrupt",
     "evalue": "",
     "output_type": "error",
     "traceback": [
      "\u001b[0;31m---------------------------------------------------------------------------\u001b[0m",
      "\u001b[0;31mKeyboardInterrupt\u001b[0m                         Traceback (most recent call last)",
      "\u001b[0;32m<ipython-input-41-087e5fd953e2>\u001b[0m in \u001b[0;36m<module>\u001b[0;34m\u001b[0m\n\u001b[0;32m----> 1\u001b[0;31m \u001b[0mssss\u001b[0m \u001b[0;34m=\u001b[0m \u001b[0msenior_sentence\u001b[0m\u001b[0;34m(\u001b[0m\u001b[0mdf\u001b[0m\u001b[0;34m[\u001b[0m\u001b[0;36m4\u001b[0m\u001b[0;34m]\u001b[0m\u001b[0;34m,\u001b[0m \u001b[0msdate\u001b[0m\u001b[0;34m)\u001b[0m\u001b[0;34m\u001b[0m\u001b[0;34m\u001b[0m\u001b[0m\n\u001b[0m\u001b[1;32m      2\u001b[0m \u001b[0;32mwith\u001b[0m \u001b[0mopen\u001b[0m\u001b[0;34m(\u001b[0m\u001b[0;34m'data_test.txt'\u001b[0m\u001b[0;34m,\u001b[0m\u001b[0;34m'w'\u001b[0m\u001b[0;34m)\u001b[0m \u001b[0;32mas\u001b[0m \u001b[0mf\u001b[0m\u001b[0;34m:\u001b[0m\u001b[0;34m\u001b[0m\u001b[0;34m\u001b[0m\u001b[0m\n\u001b[1;32m      3\u001b[0m     \u001b[0mf\u001b[0m\u001b[0;34m.\u001b[0m\u001b[0mwrite\u001b[0m\u001b[0;34m(\u001b[0m\u001b[0mssss\u001b[0m\u001b[0;34m)\u001b[0m\u001b[0;34m\u001b[0m\u001b[0;34m\u001b[0m\u001b[0m\n",
      "\u001b[0;32m<ipython-input-40-38e188dc073d>\u001b[0m in \u001b[0;36msenior_sentence\u001b[0;34m(df_senior, sdate)\u001b[0m\n\u001b[1;32m     11\u001b[0m     \u001b[0msenior\u001b[0m\u001b[0;34m.\u001b[0m\u001b[0msort\u001b[0m\u001b[0;34m(\u001b[0m\u001b[0mkey\u001b[0m\u001b[0;34m=\u001b[0m\u001b[0msenior_list\u001b[0m\u001b[0;34m.\u001b[0m\u001b[0mindex\u001b[0m\u001b[0;34m)\u001b[0m\u001b[0;34m\u001b[0m\u001b[0;34m\u001b[0m\u001b[0m\n\u001b[1;32m     12\u001b[0m     \u001b[0mthis_month\u001b[0m \u001b[0;34m=\u001b[0m \u001b[0msdate\u001b[0m\u001b[0;34m.\u001b[0m\u001b[0mmonth\u001b[0m\u001b[0;34m\u001b[0m\u001b[0;34m\u001b[0m\u001b[0m\n\u001b[0;32m---> 13\u001b[0;31m     \u001b[0mresult\u001b[0m \u001b[0;34m=\u001b[0m \u001b[0mrandom_int\u001b[0m\u001b[0;34m(\u001b[0m\u001b[0;36m0\u001b[0m\u001b[0;34m,\u001b[0m \u001b[0mlen\u001b[0m\u001b[0;34m(\u001b[0m\u001b[0mnames_male\u001b[0m\u001b[0;34m)\u001b[0m\u001b[0;34m,\u001b[0m \u001b[0mlen\u001b[0m\u001b[0;34m(\u001b[0m\u001b[0mvalid_df\u001b[0m\u001b[0;34m)\u001b[0m\u001b[0;34m)\u001b[0m\u001b[0;34m\u001b[0m\u001b[0;34m\u001b[0m\u001b[0m\n\u001b[0m\u001b[1;32m     14\u001b[0m     \u001b[0msentence_senior\u001b[0m \u001b[0;34m=\u001b[0m \u001b[0;34m''\u001b[0m\u001b[0;34m\u001b[0m\u001b[0;34m\u001b[0m\u001b[0m\n\u001b[1;32m     15\u001b[0m     \u001b[0mprint\u001b[0m\u001b[0;34m(\u001b[0m\u001b[0msenior\u001b[0m\u001b[0;34m)\u001b[0m\u001b[0;34m\u001b[0m\u001b[0;34m\u001b[0m\u001b[0m\n",
      "\u001b[0;32m<ipython-input-17-38e7e8a42b19>\u001b[0m in \u001b[0;36mrandom_int\u001b[0;34m(low, high, k)\u001b[0m\n\u001b[1;32m      5\u001b[0m         \u001b[0mx\u001b[0m \u001b[0;34m=\u001b[0m \u001b[0mnp\u001b[0m\u001b[0;34m.\u001b[0m\u001b[0mrandom\u001b[0m\u001b[0;34m.\u001b[0m\u001b[0mrandint\u001b[0m\u001b[0;34m(\u001b[0m\u001b[0mlow\u001b[0m\u001b[0;34m,\u001b[0m \u001b[0mhigh\u001b[0m\u001b[0;34m)\u001b[0m\u001b[0;34m\u001b[0m\u001b[0;34m\u001b[0m\u001b[0m\n\u001b[1;32m      6\u001b[0m         \u001b[0;32mwhile\u001b[0m \u001b[0mx\u001b[0m \u001b[0;32min\u001b[0m \u001b[0mseen\u001b[0m\u001b[0;34m:\u001b[0m\u001b[0;34m\u001b[0m\u001b[0;34m\u001b[0m\u001b[0m\n\u001b[0;32m----> 7\u001b[0;31m             \u001b[0mx\u001b[0m \u001b[0;34m=\u001b[0m \u001b[0mnp\u001b[0m\u001b[0;34m.\u001b[0m\u001b[0mrandom\u001b[0m\u001b[0;34m.\u001b[0m\u001b[0mrandint\u001b[0m\u001b[0;34m(\u001b[0m\u001b[0mlow\u001b[0m\u001b[0;34m,\u001b[0m \u001b[0mhigh\u001b[0m\u001b[0;34m)\u001b[0m\u001b[0;34m\u001b[0m\u001b[0;34m\u001b[0m\u001b[0m\n\u001b[0m\u001b[1;32m      8\u001b[0m         \u001b[0mseen\u001b[0m\u001b[0;34m.\u001b[0m\u001b[0madd\u001b[0m\u001b[0;34m(\u001b[0m\u001b[0mx\u001b[0m\u001b[0;34m)\u001b[0m\u001b[0;34m\u001b[0m\u001b[0;34m\u001b[0m\u001b[0m\n\u001b[1;32m      9\u001b[0m         \u001b[0mresult\u001b[0m\u001b[0;34m.\u001b[0m\u001b[0mappend\u001b[0m\u001b[0;34m(\u001b[0m\u001b[0mx\u001b[0m\u001b[0;34m)\u001b[0m\u001b[0;34m\u001b[0m\u001b[0;34m\u001b[0m\u001b[0m\n",
      "\u001b[0;31mKeyboardInterrupt\u001b[0m: "
     ]
    }
   ],
   "source": [
    "ssss = senior_sentence(df[4], sdate)\n",
    "with open('data_test.txt','w') as f:\n",
    "    f.write(ssss)"
   ]
  },
  {
   "cell_type": "code",
   "execution_count": null,
   "metadata": {},
   "outputs": [],
   "source": []
  }
 ],
 "metadata": {
  "kernelspec": {
   "display_name": "Python 3",
   "language": "python",
   "name": "python3"
  },
  "language_info": {
   "codemirror_mode": {
    "name": "ipython",
    "version": 3
   },
   "file_extension": ".py",
   "mimetype": "text/x-python",
   "name": "python",
   "nbconvert_exporter": "python",
   "pygments_lexer": "ipython3",
   "version": "3.7.3"
  }
 },
 "nbformat": 4,
 "nbformat_minor": 2
}
