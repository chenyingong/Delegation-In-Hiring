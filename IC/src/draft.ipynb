{
 "cells": [
  {
   "cell_type": "code",
   "execution_count": 1,
   "metadata": {},
   "outputs": [],
   "source": [
    "import pandas as pd\n",
    "import random\n",
    "import numpy as np\n",
    "import datetime\n",
    "from docx import Document"
   ]
  },
  {
   "cell_type": "markdown",
   "metadata": {},
   "source": [
    "## 一、随机用语"
   ]
  },
  {
   "cell_type": "code",
   "execution_count": 2,
   "metadata": {},
   "outputs": [],
   "source": [
    "first_sen_peer = [\n",
    "    \"为了增进良子人之间的相互了解，今天我们向您介绍{}（化名）的工作业绩。\", \n",
    "    \"在良子，有很多人像您一样在为公司和自己的未来努力。今天我们向您介绍{}（化名）的工作业绩。\",\n",
    "    \"您是否知道，有很多和您经历相近的良子人也在和您一样努力工作。今天我们向您介绍{}（化名）的工作业绩。\",\n",
    "    \"您在努力工作的同时，是否关注到身边的良子人也在努力进步？今天我们向您介绍{}（化名）的工作业绩。\"\n",
    "]"
   ]
  },
  {
   "cell_type": "code",
   "execution_count": 3,
   "metadata": {},
   "outputs": [],
   "source": [
    "middle_sen_peer = [\n",
    "    \"{}{}年{}月加入{}，目前是一名{}。上个月{}的点号数是{}，销售业绩是{}元。\",\n",
    "    \"{}{}年{}月加入{}，目前是一名{}。{}年{}月{}的点号数是{}，销售业绩是{}元。\"\n",
    "]"
   ]
  },
  {
   "cell_type": "code",
   "execution_count": 4,
   "metadata": {},
   "outputs": [],
   "source": [
    "first_sen_senior = [\n",
    "    \"为了增进良子人之间的相互了解，今天我们向您介绍{}（化名）在良子的成长历程。\",\n",
    "    \"很多技艺精湛、业绩突出的老员工也经历了一步一个脚印的学习过程。今天我们向您介绍{}（化名）在良子的成长历程。\",\n",
    "    \"华夏良子大家庭有很多优秀的老员工。大家看到的往往是老员工现在的优秀，看不到的是他们长时间默默努力进步的过程。今天我们向您介绍{}（化名）在良子的成长历程。\"\n",
    "]"
   ]
  },
  {
   "cell_type": "code",
   "execution_count": 5,
   "metadata": {},
   "outputs": [],
   "source": [
    "middle_sen_senior = \"{}{}年{}月加入{}，目前是一名{}。入职第一个月，{}的点号数是{}，销售业绩是{}。此后，{}的工作成绩有了{}。\""
   ]
  },
  {
   "cell_type": "code",
   "execution_count": 6,
   "metadata": {},
   "outputs": [],
   "source": [
    "end_sen_senior = [\n",
    "    \"*入职后第{}个月，{}的点号是{}，销售业绩是{}。\",\n",
    "    \"*上个月，{}的点号达到了{}，销售业绩是{}。\",\n",
    "    \"*{}年{}月，{}的点号达到了{}，销售业绩是{}。\"\n",
    "]"
   ]
  },
  {
   "cell_type": "code",
   "execution_count": 7,
   "metadata": {},
   "outputs": [],
   "source": [
    "profession = [\"理疗师\", \"spa师\", \"专家\"]"
   ]
  },
  {
   "cell_type": "code",
   "execution_count": 8,
   "metadata": {},
   "outputs": [],
   "source": [
    "gender = [\"她\", \"他\"]"
   ]
  },
  {
   "cell_type": "code",
   "execution_count": 9,
   "metadata": {},
   "outputs": [],
   "source": [
    "days = [\"星期三\", \"星期六\"]"
   ]
  },
  {
   "cell_type": "code",
   "execution_count": 10,
   "metadata": {},
   "outputs": [],
   "source": [
    "progress = [\"很大进步\", \"稳步提升\"]"
   ]
  },
  {
   "cell_type": "code",
   "execution_count": 11,
   "metadata": {},
   "outputs": [],
   "source": [
    "names = [\n",
    "    \"小梅\",\n",
    "    \"小云\",\n",
    "    \"小南\",\n",
    "    \"小杜\",\n",
    "    \"小静\",\n",
    "    \"小冰\",\n",
    "    \"小文\",\n",
    "    \"小安\",\n",
    "    \"小凡\",\n",
    "    \"小平\",\n",
    "    \"小聪\",\n",
    "    \"小琳\"\n",
    "]"
   ]
  },
  {
   "cell_type": "markdown",
   "metadata": {},
   "source": [
    "## 二、同龄人组：读取sheet，造句"
   ]
  },
  {
   "cell_type": "markdown",
   "metadata": {},
   "source": [
    "### 读取sheets"
   ]
  },
  {
   "cell_type": "code",
   "execution_count": 12,
   "metadata": {},
   "outputs": [],
   "source": [
    "path_test = \"/Users/gongchenyin/Desktop/资料馆/科研/公司实验/我的编辑/最终提交/推送名单/2019-07-13/6月筛选人员-20190713143336/华中区域.xlsx\""
   ]
  },
  {
   "cell_type": "code",
   "execution_count": 13,
   "metadata": {},
   "outputs": [],
   "source": [
    "# 指向io的速度会更快？"
   ]
  },
  {
   "cell_type": "code",
   "execution_count": 14,
   "metadata": {},
   "outputs": [],
   "source": [
    "io = pd.io.excel.ExcelFile(path_test)\n",
    "df1 = pd.read_excel(io, sheet_name = \"0-3个月\")\n",
    "io.close()"
   ]
  },
  {
   "cell_type": "code",
   "execution_count": 15,
   "metadata": {},
   "outputs": [],
   "source": [
    "valid_df = df1[:8]"
   ]
  },
  {
   "cell_type": "code",
   "execution_count": 16,
   "metadata": {},
   "outputs": [],
   "source": [
    "def random_int(low, high, k):\n",
    "    seen = set()\n",
    "    result = []\n",
    "    for i in range(k):\n",
    "        x = np.random.randint(low, high)\n",
    "        while x in seen:\n",
    "            x = np.random.randint(low, high)\n",
    "        seen.add(x)\n",
    "        result.append(x)\n",
    "    return result\n",
    "result = random_int(0, len(names), len(valid_df))"
   ]
  },
  {
   "cell_type": "code",
   "execution_count": 17,
   "metadata": {},
   "outputs": [],
   "source": [
    "sdate  = datetime.date(2019, 8, 21)\n",
    "delta3 = datetime.timedelta(days=3)\n",
    "delta7 = datetime.timedelta(days=7)\n",
    "this_month = sdate.month"
   ]
  },
  {
   "cell_type": "code",
   "execution_count": 18,
   "metadata": {},
   "outputs": [
    {
     "data": {
      "text/plain": [
       "'{}{}年{}月加入{}，目前是一名{}。{}年{}月{}的点号数是{}，销售业绩是{}元。'"
      ]
     },
     "execution_count": 18,
     "metadata": {},
     "output_type": "execute_result"
    }
   ],
   "source": [
    "middle_sen_peer[1]"
   ]
  },
  {
   "cell_type": "code",
   "execution_count": 27,
   "metadata": {},
   "outputs": [
    {
     "name": "stdout",
     "output_type": "stream",
     "text": [
      "星期三(8月21日)\n",
      "为了增进良子人之间的相互了解，今天我们向您介绍小文（化名）的工作业绩。小文2019年04月加入华中区域，目前是一名理疗师。上个月小文的点号数是1，销售业绩是0.0元。\n",
      "\n",
      "星期六(8月24日)\n",
      "在良子，有很多人像您一样在为公司和自己的未来努力。今天我们向您介绍小杜（化名）的工作业绩。小杜2019年06月加入华中区域，目前是一名SPA师。上个月小杜的点号数是0，销售业绩是0.0元。\n",
      "\n",
      "星期三(8月28日)\n",
      "您是否知道，有很多和您经历相近的良子人也在和您一样努力工作。今天我们向您介绍小凡（化名）的工作业绩。小凡2019年05月加入华中区域，目前是一名理疗师。上个月小凡的点号数是1，销售业绩是300.0元。\n",
      "\n",
      "星期六(8月31日)\n",
      "您在努力工作的同时，是否关注到身边的良子人也在努力进步？今天我们向您介绍小梅（化名）的工作业绩。小梅2019年06月加入华中区域，目前是一名专家。上个月小梅的点号数是8，销售业绩是500.0元。\n",
      "\n",
      "星期三(9月4日)\n",
      "为了增进良子人之间的相互了解，今天我们向您介绍小云（化名）的工作业绩。小云2019年06月加入华中区域，目前是一名理疗师。2019年7月小云的点号数是4，销售业绩是0.0元。\n",
      "\n",
      "星期六(9月7日)\n",
      "在良子，有很多人像您一样在为公司和自己的未来努力。今天我们向您介绍小平（化名）的工作业绩。小平2019年06月加入华中区域，目前是一名SPA师。2019年7月小平的点号数是4，销售业绩是0.0元。\n",
      "\n",
      "星期三(9月11日)\n",
      "您是否知道，有很多和您经历相近的良子人也在和您一样努力工作。今天我们向您介绍小南（化名）的工作业绩。小南2019年05月加入华中区域，目前是一名理疗师。2019年7月小南的点号数是7，销售业绩是500.0元。\n",
      "\n",
      "星期六(9月14日)\n",
      "您在努力工作的同时，是否关注到身边的良子人也在努力进步？今天我们向您介绍小冰（化名）的工作业绩。小冰2019年06月加入华中区域，目前是一名专家。2019年7月小冰的点号数是0，销售业绩是0.0元。\n",
      "\n",
      "\n"
     ]
    }
   ],
   "source": [
    "sentence_peer = ''\n",
    "for i in range(len(valid_df)):\n",
    "    # 岗位\n",
    "    position = valid_df.iloc[i][\"岗位\"]\n",
    "    # 区域\n",
    "    region = valid_df.iloc[i][\"区域\"]\n",
    "    # 入职日期\n",
    "    employ_date = valid_df.iloc[i][\"入职日期\"]\n",
    "    # 点号、销售\n",
    "    num1 = valid_df.iloc[i][\"点号合计\"]\n",
    "    num2 = valid_df.iloc[i][\"销售业绩\"]\n",
    "    year = employ_date.split('-')[0]\n",
    "    month = employ_date.split('-')[1]\n",
    "    name1 = names[result[i]]\n",
    "    k = i%len(days)\n",
    "    IC_week = days[k]\n",
    "    IC_date = sdate + k*delta3 + i//2*delta7\n",
    "    IC_year = IC_date.year\n",
    "    IC_month = IC_date.month\n",
    "    IC_day = IC_date.day\n",
    "    sentence0 = IC_week + \"({}月{}日)\".format(IC_month, IC_day) + \"\\n\"\n",
    "    sentence1 = first_sen_peer[i%len(first_sen_peer)].format(name1)\n",
    "    if IC_month == this_month:\n",
    "        sentence2 = middle_sen_peer[0].format(name1, year, month, region, position, name1, num1, num2) + \"\\n\"\n",
    "    else:\n",
    "        sentence2 = middle_sen_peer[1].format(name1, year, month, region, position, IC_year, this_month-1 ,name1, num1, num2) + \"\\n\"\n",
    "    # this_month-1 需要修改\n",
    "    sentence_peer += sentence0 + sentence1 + sentence2 + \"\\n\"\n",
    "print(sentence_peer)"
   ]
  },
  {
   "cell_type": "markdown",
   "metadata": {},
   "source": [
    "## 三、老人组：读取sheets，造句"
   ]
  },
  {
   "cell_type": "code",
   "execution_count": 20,
   "metadata": {},
   "outputs": [],
   "source": [
    "path2_test = \"/Users/gongchenyin/Desktop/资料馆/科研/公司实验/我的编辑/最终提交/推送名单/2019-07-13/6月筛选人员-20190713143336/青岛区域.xlsx\""
   ]
  },
  {
   "cell_type": "code",
   "execution_count": 21,
   "metadata": {},
   "outputs": [],
   "source": [
    "io = pd.io.excel.ExcelFile(path2_test)\n",
    "df5 = pd.read_excel(io, sheet_name = \"老人组\")\n",
    "df6 = pd.read_excel(io, sheet_name = \"老人组long\")\n",
    "io.close()"
   ]
  },
  {
   "cell_type": "code",
   "execution_count": 22,
   "metadata": {},
   "outputs": [],
   "source": [
    "valid_df5 = df5[:8]"
   ]
  },
  {
   "cell_type": "code",
   "execution_count": 23,
   "metadata": {},
   "outputs": [],
   "source": [
    "result2 = random_int(0, len(names), len(valid_df5))"
   ]
  },
  {
   "cell_type": "code",
   "execution_count": 28,
   "metadata": {},
   "outputs": [
    {
     "name": "stdout",
     "output_type": "stream",
     "text": [
      "星期三(8月21日)\n",
      "为了增进良子人之间的相互了解，今天我们向您介绍小平（化名）在良子的成长历程。\n",
      "*入职后第3个月，她的点号是4，销售业绩是1500.0。\n",
      "*上个月，她的点号达到了17，销售业绩是26505.98。\n",
      "\n",
      "星期六(8月24日)\n",
      "很多技艺精湛、业绩突出的老员工也经历了一步一个脚印的学习过程。今天我们向您介绍小文（化名）在良子的成长历程。小文2018年01月加入青岛区域，目前是一名SPA师。入职第一个月，他的点号数是8，销售业绩是0.0。此后，他的工作成绩有了稳步提升。\n",
      "*入职后第3个月，他的点号是50，销售业绩是11000.0。\n",
      "*入职后第6个月，他的点号是41，销售业绩是8042.0。\n",
      "*入职后第12个月，他的点号是61，销售业绩是49193.0。\n",
      "*上个月，他的点号达到了111，销售业绩是120353.79。\n",
      "\n",
      "星期三(8月28日)\n",
      "华夏良子大家庭有很多优秀的老员工。大家看到的往往是老员工现在的优秀，看不到的是他们长时间默默努力进步的过程。今天我们向您介绍小静（化名）在良子的成长历程。小静2018年04月加入青岛区域，目前是一名SPA师。入职第一个月，她的点号数是1，销售业绩是0.0。此后，她的工作成绩有了很大进步。\n",
      "*上个月，她的点号达到了35，销售业绩是21646.0。\n",
      "\n",
      "星期六(8月31日)\n",
      "为了增进良子人之间的相互了解，今天我们向您介绍小聪（化名）在良子的成长历程。小聪2018年03月加入青岛区域，目前是一名专家。入职第一个月，他的点号数是18，销售业绩是17300.0。此后，他的工作成绩有了稳步提升。\n",
      "*入职后第3个月，他的点号是35，销售业绩是18477.0。\n",
      "*入职后第6个月，他的点号是29，销售业绩是5000.05。\n",
      "*入职后第12个月，他的点号是46，销售业绩是146136.61。\n",
      "*上个月，他的点号达到了94，销售业绩是234065.33。\n",
      "\n",
      "星期三(9月4日)\n",
      "很多技艺精湛、业绩突出的老员工也经历了一步一个脚印的学习过程。今天我们向您介绍小冰（化名）在良子的成长历程。小冰2018年06月加入青岛区域，目前是一名专家。入职第一个月，她的点号数是2，销售业绩是16779.0。此后，她的工作成绩有了很大进步。\n",
      "*入职后第3个月，她的点号是13，销售业绩是189800.0。\n",
      "*入职后第6个月，她的点号是27，销售业绩是13680.0。\n",
      "*入职后第12个月，她的点号是55，销售业绩是120602.33。\n",
      "*2019年7月，她的点号达到了55，销售业绩是120602.33。\n",
      "\n",
      "星期六(9月7日)\n",
      "华夏良子大家庭有很多优秀的老员工。大家看到的往往是老员工现在的优秀，看不到的是他们长时间默默努力进步的过程。今天我们向您介绍小安（化名）在良子的成长历程。\n",
      "*入职后第3个月，他的点号是5，销售业绩是312.0。\n",
      "*入职后第6个月，他的点号是27，销售业绩是23583.0。\n",
      "*入职后第12个月，他的点号是48，销售业绩是134719.25。\n",
      "*2019年7月，他的点号达到了31，销售业绩是44199.66。\n",
      "\n",
      "星期三(9月11日)\n",
      "为了增进良子人之间的相互了解，今天我们向您介绍小琳（化名）在良子的成长历程。小琳2018年03月加入青岛区域，目前是一名SPA师。入职第一个月，她的点号数是0，销售业绩是0.0。此后，她的工作成绩有了很大进步。\n",
      "*入职后第3个月，她的点号是34，销售业绩是11802.0。\n",
      "*入职后第6个月，她的点号是81，销售业绩是21480.0。\n",
      "*入职后第12个月，她的点号是107，销售业绩是74286.65。\n",
      "*2019年7月，她的点号达到了112，销售业绩是89889.0。\n",
      "\n",
      "星期六(9月14日)\n",
      "很多技艺精湛、业绩突出的老员工也经历了一步一个脚印的学习过程。今天我们向您介绍小凡（化名）在良子的成长历程。小凡2018年05月加入青岛区域，目前是一名专家。入职第一个月，他的点号数是4，销售业绩是0.0。此后，他的工作成绩有了稳步提升。\n",
      "*入职后第3个月，他的点号是11，销售业绩是0.0。\n",
      "*入职后第6个月，他的点号是20，销售业绩是2666.66。\n",
      "*入职后第12个月，他的点号是38，销售业绩是500.0。\n",
      "*2019年7月，他的点号达到了26，销售业绩是19273.33。\n",
      "\n",
      "\n"
     ]
    }
   ],
   "source": [
    "sentence_senior = ''\n",
    "for i in range(len(valid_df5)):\n",
    "    # 工号\n",
    "    ID = valid_df5.iloc[i][\"工号\"]\n",
    "    # 岗位\n",
    "    position = valid_df5.iloc[i][\"岗位\"]\n",
    "    # 区域\n",
    "    region = valid_df5.iloc[i][\"区域\"]\n",
    "    # 入职日期\n",
    "    employ_date = valid_df5.iloc[i][\"入职日期\"]\n",
    "    # 上月点号、销售\n",
    "    num1 = valid_df5.iloc[i][\"点号合计\"]\n",
    "    num2 = valid_df5.iloc[i][\"销售业绩\"]\n",
    "    year = employ_date.split('-')[0]\n",
    "    month = employ_date.split('-')[1]\n",
    "    name1 = names[result2[i]]\n",
    "    gender1 = gender[i%len(gender)]\n",
    "    progress1 = progress[i%len(progress)]\n",
    "    k = i%len(days)\n",
    "    IC_week = days[k]\n",
    "    IC_date = sdate + k*delta3 + i//2*delta7\n",
    "    IC_year = IC_date.year\n",
    "    IC_month = IC_date.month\n",
    "    IC_day = IC_date.day\n",
    "    sentence0 = IC_week + \"({}月{}日)\".format(IC_month, IC_day) + \"\\n\"\n",
    "    sentence1 = first_sen_senior[i%len(first_sen_senior)].format(name1)\n",
    "    this_df = df6[df6[\"工号\"] == ID]\n",
    "    temp = this_df[this_df[\"第n月工作\"] == 0]\n",
    "    sentence2 = '\\n'\n",
    "    if len(temp) != 0:\n",
    "        num10 = temp.iloc[0][\"点号合计\"]\n",
    "        num20 = temp.iloc[0][\"销售业绩\"]\n",
    "        sentence2 = middle_sen_senior.format(name1, year, month, region, position, gender1, num10, num20, gender1, progress1) + \"\\n\"\n",
    "    sentence3 = ''\n",
    "    n = 3\n",
    "    for l in range(3):\n",
    "        temp  = this_df[this_df[\"第n月工作\"] == n]\n",
    "        if len(temp) == 0:\n",
    "            continue\n",
    "        num11 = temp.iloc[0][\"点号合计\"]\n",
    "        num22 = temp.iloc[0][\"销售业绩\"]\n",
    "        sentence3 += end_sen_senior[0].format(n, gender1, num11, num22) + \"\\n\"\n",
    "        n *= 2\n",
    "    if IC_month == this_month:\n",
    "        sentence3 += end_sen_senior[1].format(gender1, num1, num2) + \"\\n\"\n",
    "    else:\n",
    "        sentence3 += end_sen_senior[2].format(IC_year, this_month-1, gender1, num1, num2) + \"\\n\"\n",
    "    sentence_senior += sentence0 + sentence1 + sentence2 + sentence3 + \"\\n\"\n",
    "print(sentence_senior)"
   ]
  },
  {
   "cell_type": "markdown",
   "metadata": {},
   "source": [
    "## 四、导出至word"
   ]
  },
  {
   "cell_type": "raw",
   "metadata": {},
   "source": [
    "doc = Document()\n",
    "doc.add_heading(\"test document title\", 0)\n",
    "p = doc.add_paragraph(sentence_peer)\n",
    "doc.save('test.docx')"
   ]
  },
  {
   "cell_type": "code",
   "execution_count": 32,
   "metadata": {},
   "outputs": [],
   "source": [
    "with open('data_peer.txt','w') as f:\n",
    "    f.write(sentence_peer)"
   ]
  },
  {
   "cell_type": "code",
   "execution_count": 33,
   "metadata": {},
   "outputs": [],
   "source": [
    "with open('data_senior.txt','w') as f:\n",
    "    f.write(sentence_senior)"
   ]
  },
  {
   "cell_type": "code",
   "execution_count": null,
   "metadata": {},
   "outputs": [],
   "source": []
  }
 ],
 "metadata": {
  "kernelspec": {
   "display_name": "Python 3",
   "language": "python",
   "name": "python3"
  },
  "language_info": {
   "codemirror_mode": {
    "name": "ipython",
    "version": 3
   },
   "file_extension": ".py",
   "mimetype": "text/x-python",
   "name": "python",
   "nbconvert_exporter": "python",
   "pygments_lexer": "ipython3",
   "version": "3.7.3"
  }
 },
 "nbformat": 4,
 "nbformat_minor": 2
}
