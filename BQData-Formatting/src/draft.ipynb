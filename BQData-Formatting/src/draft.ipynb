{
 "cells": [
  {
   "cell_type": "code",
   "execution_count": 1,
   "metadata": {},
   "outputs": [],
   "source": [
    "import pandas as pd\n",
    "import re\n",
    "import os\n",
    "import sys\n",
    "import time\n",
    "import numpy as np"
   ]
  },
  {
   "cell_type": "code",
   "execution_count": 2,
   "metadata": {},
   "outputs": [],
   "source": [
    "path = '/Users/gongchenyin/Desktop/资料馆/科研/公司实验/src/数据资料/参考和模板/BQD/baseline question data test.xlsx'"
   ]
  },
  {
   "cell_type": "code",
   "execution_count": 3,
   "metadata": {},
   "outputs": [],
   "source": [
    "bqd = pd.read_excel(path)"
   ]
  },
  {
   "cell_type": "code",
   "execution_count": 4,
   "metadata": {},
   "outputs": [],
   "source": [
    "bqd[[\"填写答案1\"]].to_csv('/Users/gongchenyin/PycharmProjects/ra/BQData-Formatting/src/temp')"
   ]
  },
  {
   "cell_type": "markdown",
   "metadata": {},
   "source": [
    "## 一、中文数字转换成阿拉伯数字"
   ]
  },
  {
   "cell_type": "code",
   "execution_count": 5,
   "metadata": {},
   "outputs": [],
   "source": [
    "cn_num = {\n",
    "    '〇' : 0, '一' : 1, '二' : 2, '三' : 3, '四' : 4, '五' : 5, '六' : 6, '七' : 7, '八' : 8, '九' : 9, '零' : 0, \n",
    "    '壹' : 1, '贰' : 2, '叁' : 3, '肆' : 4, '伍' : 5, '陆' : 6, '柒' : 7, '捌' : 8, '玖' : 9, '貮' : 2, '两' : 2,\n",
    "}"
   ]
  },
  {
   "cell_type": "code",
   "execution_count": 6,
   "metadata": {},
   "outputs": [],
   "source": [
    "cn_unit = {\n",
    "    '十' : 10,\n",
    "    '拾' : 10,\n",
    "    '百' : 100,\n",
    "    '佰' : 100,\n",
    "    '千' : 1000,\n",
    "    '仟' : 1000,\n",
    "    '万' : 10000,\n",
    "    '萬' : 10000,\n",
    "    '亿' : 100000000,\n",
    "    '億' : 100000000,\n",
    "    '兆' : 1000000000000,\n",
    "}"
   ]
  },
  {
   "cell_type": "raw",
   "metadata": {},
   "source": [
    "def clear_dirty_num(cn:str):\n",
    "    if cn == '':\n",
    "        return np.nan\n",
    "    \n",
    "    if cn in [\"十\", \"拾\", \"十万\", \"十萬\", \"拾萬\", \"拾万\", \"十亿\", \"拾亿\", \"十億\", \"拾億\", \"拾兆\", \"十兆\"]:\n",
    "        return cn\n",
    "    \n",
    "    is_num = False\n",
    "    is_le = True\n",
    "    last_le = ''\n",
    "    for cndig in cn:\n",
    "        if is_le and cndig in cn_unit and cndig not in [\"十\", \"拾\"]:\n",
    "            return np.nan\n",
    "        elif cndig in cn_unit:\n",
    "            is_le = True\n",
    "            is_num = False\n",
    "        elif is_num and cndig in cn_num and cndig not in [\"零\", \"〇\"]:\n",
    "            return np.nan\n",
    "        elif cndig not in [\"零\", \"〇\"]:\n",
    "            is_num = True\n",
    "            is_le = False\n",
    "    \n",
    "    if cn[-1] in cn_num and len(cn) > 1:\n",
    "        for i in cn[::-1][1:]:\n",
    "            if i == \"零\" or i == \"〇\":\n",
    "                break\n",
    "            elif i in cn_unit and i not in [\"十\", \"拾\"]:\n",
    "                return np.nan\n",
    "            else:\n",
    "                break\n",
    "    return cn"
   ]
  },
  {
   "cell_type": "code",
   "execution_count": 7,
   "metadata": {},
   "outputs": [],
   "source": [
    "def chinese_to_arabic(cn:str) -> int:\n",
    "    if cn == '':\n",
    "        return np.nan\n",
    "    \n",
    "    if cn[0] in cn_unit and cn[0] not in [\"十\", \"拾\"]:\n",
    "        return np.nan\n",
    "    \n",
    "    \n",
    "    if cn[-1] in cn_num and len(cn) > 1:\n",
    "        for i in cn[::-1][1:]:\n",
    "            if i == \"零\" or i == \"〇\":\n",
    "                break\n",
    "            elif i in cn_unit and i not in [\"十\", \"拾\"]:\n",
    "                return np.nan\n",
    "            else:\n",
    "                break\n",
    "    \n",
    "    unit = 0\n",
    "    ldig = []\n",
    "    last_is_num = False\n",
    "    last_is_unit = False\n",
    "    last_letter = ''\n",
    "    for cndig in reversed(cn):\n",
    "        if cndig in cn_unit:\n",
    "            if last_is_unit and (last_letter not in [\"万\", \"萬\", \"亿\", \"億\", \"兆\"]):\n",
    "                return np.nan\n",
    "            last_is_unit = True\n",
    "            last_is_num = False\n",
    "            unit = cn_unit.get(cndig)\n",
    "            if unit == 10000 or unit == 100000000:\n",
    "                last_letter = cndig\n",
    "                ldig.append(unit)\n",
    "                unit = 1\n",
    "        else:\n",
    "            if last_is_num and cndig not in [\"零\", \"〇\"]:\n",
    "                return np.nan\n",
    "            last_is_num = True\n",
    "            last_is_unit = False\n",
    "            dig = cn_num.get(cndig)\n",
    "            if unit:\n",
    "                dig *= unit\n",
    "                unit = 0\n",
    "            ldig.append(dig)\n",
    "    if unit == 10:\n",
    "        ldig.append(10)\n",
    "    val, tmp = 0, 0\n",
    "    for x in reversed(ldig):\n",
    "        if x == 10000 or x == 100000000:\n",
    "            val += tmp * x\n",
    "            tmp = 0\n",
    "        else:\n",
    "            tmp += x\n",
    "    val += tmp\n",
    "    return val"
   ]
  },
  {
   "cell_type": "raw",
   "metadata": {},
   "source": [
    "def chinese_to_arabic2(cn:str) -> int:\n",
    "    # cn = clear_dirty_num(cn)\n",
    "    # if cn is np.nan:\n",
    "        # return cn\n",
    "    \n",
    "    unit = 0\n",
    "    ldig = []\n",
    "    for cndig in reversed(cn):\n",
    "        if cndig in cn_unit:\n",
    "            unit = cn_unit.get(cndig)\n",
    "            if unit == 10000 or unit == 100000000:\n",
    "                ldig.append(unit)\n",
    "                unit = 1\n",
    "        else:\n",
    "            dig = cn_num.get(cndig)\n",
    "            if unit:\n",
    "                dig *= unit\n",
    "                unit = 0\n",
    "            ldig.append(dig)\n",
    "    if unit == 10:\n",
    "        ldig.append(10)\n",
    "    val, tmp = 0, 0\n",
    "    for x in reversed(ldig):\n",
    "        if x == 10000 or x == 100000000:\n",
    "            val += tmp * x\n",
    "            tmp = 0\n",
    "        else:\n",
    "            tmp += x\n",
    "    val += tmp\n",
    "    return val"
   ]
  },
  {
   "cell_type": "code",
   "execution_count": 8,
   "metadata": {},
   "outputs": [
    {
     "name": "stdout",
     "output_type": "stream",
     "text": [
      "零 0\n",
      "零一 1\n",
      "二十万 200000\n",
      "两千 2000\n",
      "两千一 nan\n",
      "两千十二 nan\n",
      "十八 18\n",
      "一万五 nan\n",
      "一万五百 10500\n",
      "一万千 nan\n",
      "三百三十 330\n",
      "三百零三 303\n",
      "三千零一十一 3011\n",
      "十百 nan\n",
      "十 10\n",
      "万 nan\n",
      "十万十百八 nan\n",
      " nan\n",
      "三五万 nan\n"
     ]
    }
   ],
   "source": [
    "def test1():\n",
    "    test_dig = [\"零\",\n",
    "               \"零一\",\n",
    "               \"二十万\",\n",
    "               \"两千\",\n",
    "               \"两千一\",    \n",
    "               \"两千十二\",  \n",
    "               \"十八\",   \n",
    "               \"一万五\",   \n",
    "               \"一万五百\",\n",
    "               \"一万千\",\n",
    "               \"三百三十\",\n",
    "               \"三百零三\",\n",
    "               \"三千零一十一\",\n",
    "               \"十百\",\n",
    "               \"十\",\n",
    "               \"万\",\n",
    "               \"十万\"\n",
    "               \"十百八\",\n",
    "               '',\n",
    "               \"三五万\"]\n",
    "    for cn in test_dig:\n",
    "        x = chinese_to_arabic(cn)\n",
    "        print(cn, x)\n",
    "test1()"
   ]
  },
  {
   "cell_type": "markdown",
   "metadata": {},
   "source": [
    "## 二、阿拉伯数字转换成中文数字"
   ]
  },
  {
   "cell_type": "code",
   "execution_count": 9,
   "metadata": {},
   "outputs": [],
   "source": [
    "mapping = ['零', '一', '二', '三', '四', '五', '六', '七', '八', '九', '十', \n",
    "           '十一', '十二', '十三', '十四', '十五', '十六', '十七', '十八', '十九']\n",
    "p0 = ['', '十', '百', '千']\n",
    "s4 = 10 ** 4"
   ]
  },
  {
   "cell_type": "code",
   "execution_count": 10,
   "metadata": {},
   "outputs": [],
   "source": [
    "def arabic_to_chinese(num:int) -> str:\n",
    "    if (num < 0 or num >= s4):\n",
    "        return ''\n",
    "    if num < 20:\n",
    "        return mapping[num]\n",
    "    else:\n",
    "        lst = []\n",
    "        while num >= 10:\n",
    "            lst.append(num % 10)\n",
    "            num = num // 10\n",
    "        lst.append(num)\n",
    "        c = len(lst)  # 位数\n",
    "        result = ''\n",
    "        for idx, val in enumerate(lst):\n",
    "            val = int(val)\n",
    "            if val != 0:\n",
    "                result += p0[idx] + mapping[val]\n",
    "                if (idx < c-1) and (lst[idx+1] == 0):\n",
    "                    result += '零'\n",
    "        return result[::-1]"
   ]
  },
  {
   "cell_type": "code",
   "execution_count": 11,
   "metadata": {},
   "outputs": [],
   "source": [
    "def test2():\n",
    "    test_dig = [0,\n",
    "               20,\n",
    "               1234,\n",
    "               3011,\n",
    "               301,\n",
    "               310,\n",
    "               1001,\n",
    "               10000,\n",
    "               -1]\n",
    "    for num in test_dig:\n",
    "        x = arabic_to_chinese(num)\n",
    "        y = chinese_to_arabic(x)\n",
    "        print(num, x, y)"
   ]
  },
  {
   "cell_type": "code",
   "execution_count": 12,
   "metadata": {},
   "outputs": [
    {
     "name": "stdout",
     "output_type": "stream",
     "text": [
      "0 零 0\n",
      "20 二十 20\n",
      "1234 一千二百三十四 1234\n",
      "3011 三千零一十一 3011\n",
      "301 三百零一 301\n",
      "310 三百一十 310\n",
      "1001 一千零一 1001\n",
      "10000  nan\n",
      "-1  nan\n"
     ]
    }
   ],
   "source": [
    "test2()"
   ]
  },
  {
   "cell_type": "markdown",
   "metadata": {},
   "source": [
    "## 三、阿拉伯+中文混合数字转换成阿拉伯数字\n",
    "### 例如：100万、20万、5万、2千、3百"
   ]
  },
  {
   "cell_type": "code",
   "execution_count": 13,
   "metadata": {},
   "outputs": [],
   "source": [
    "import re"
   ]
  },
  {
   "cell_type": "code",
   "execution_count": 14,
   "metadata": {},
   "outputs": [
    {
     "data": {
      "text/plain": [
       "True"
      ]
     },
     "execution_count": 14,
     "metadata": {},
     "output_type": "execute_result"
    }
   ],
   "source": [
    "# isdigit: 如果字符串只包含数字则返回 True 否则返回 False\n",
    "'6'.isdigit()"
   ]
  },
  {
   "cell_type": "code",
   "execution_count": 15,
   "metadata": {},
   "outputs": [
    {
     "name": "stdout",
     "output_type": "stream",
     "text": [
      "['六万']\n",
      "['', '60000', '']\n",
      "['', '6', '万']\n",
      "['', '6', '万', '3', '千']\n",
      "['', '6', '万多']\n",
      "['', '60', '多万']\n",
      "['', '6', '万以上']\n",
      "['大概', '6', '万']\n",
      "['', '60', '几万']\n",
      "['', '5', '万到', '16', '万']\n",
      "['', '1', '号', '30', '万']\n"
     ]
    }
   ],
   "source": [
    "print(re.split(r'(\\d+)', \"六万\"))\n",
    "print(re.split(r'(\\d+)', \"60000\"))\n",
    "print(re.split(r'(\\d+)', \"6万\"))\n",
    "print(re.split(r'(\\d+)', \"6万3千\"))\n",
    "print(re.split(r'(\\d+)', \"6万多\"))\n",
    "print(re.split(r'(\\d+)', \"60多万\"))\n",
    "print(re.split(r'(\\d+)', \"6万以上\"))\n",
    "print(re.split(r'(\\d+)', \"大概6万\"))\n",
    "print(re.split(r'(\\d+)', \"60几万\"))\n",
    "print(re.split(r'(\\d+)', \"5万到16万\"))\n",
    "print(re.split(r'(\\d+)', \"1号30万\"))"
   ]
  },
  {
   "cell_type": "markdown",
   "metadata": {},
   "source": [
    "### 先考虑如下：\n",
    "#### 60万、60000、六十万、6万3千、6千、6百、3千3"
   ]
  },
  {
   "cell_type": "code",
   "execution_count": 88,
   "metadata": {},
   "outputs": [],
   "source": [
    "def hybrid_to_arabic(hy:str) -> int:\n",
    "    if hy == '':\n",
    "        return np.nan\n",
    "    elif hy.isdigit():\n",
    "        if int(hy) >= 100000000000000000000:\n",
    "            return np.nan\n",
    "        return int(hy)\n",
    "    else:\n",
    "        lst = re.split(r'(\\d+)', hy)\n",
    "        for i, s in enumerate(lst):\n",
    "            if s.isdigit() and 0 <= int(s) < 10**4:\n",
    "                lst[i] = arabic_to_chinese(int(s))\n",
    "        return chinese_to_arabic(''.join(lst))"
   ]
  },
  {
   "cell_type": "code",
   "execution_count": 17,
   "metadata": {},
   "outputs": [],
   "source": [
    "def test3():\n",
    "    test_dig = ['600000',\n",
    "                '100000000000000000000',\n",
    "               '60万',\n",
    "               '六十万',\n",
    "               '陆拾万',\n",
    "               '6万3千',\n",
    "               '6千',\n",
    "               '6百',\n",
    "               '1245亿50万',\n",
    "               '3千3',        # 3千3需要改\n",
    "               '',\n",
    "               '10万',\n",
    "               '七八万', # 有问题\n",
    "               '十八',    # ?\n",
    "               '八八', # ？\n",
    "               '十万万',\n",
    "               '九2万', # ？\n",
    "               '1万'\n",
    "               ]       \n",
    "    for num in test_dig:\n",
    "        x = hybrid_to_arabic(num)\n",
    "        print(num, x)"
   ]
  },
  {
   "cell_type": "code",
   "execution_count": 18,
   "metadata": {},
   "outputs": [
    {
     "name": "stdout",
     "output_type": "stream",
     "text": [
      "600000 600000\n",
      "100000000000000000000 nan\n",
      "60万 600000\n",
      "六十万 600000\n",
      "陆拾万 600000\n",
      "6万3千 63000\n",
      "6千 6000\n",
      "6百 600\n",
      "1245亿50万 124500500000\n",
      "3千3 nan\n",
      " nan\n",
      "10万 100000\n",
      "七八万 nan\n",
      "十八 18\n",
      "八八 nan\n",
      "十万万 100000\n",
      "九2万 nan\n",
      "1万 10000\n"
     ]
    }
   ],
   "source": [
    "test3()"
   ]
  },
  {
   "cell_type": "markdown",
   "metadata": {},
   "source": [
    "## 四、去除特殊和修饰字符\n",
    "### 标点符号、空格、“大概、将近、以内、以上、以下、左右、多、几”等等"
   ]
  },
  {
   "cell_type": "raw",
   "metadata": {},
   "source": [
    "# 匹配非特殊字符、非字母、非_, 仅保留数字、汉字\n",
    "def keep_num_char(string:str) -> str:\n",
    "    return re.sub(r'[a-zA-Z_\\W+]', '', string)"
   ]
  },
  {
   "cell_type": "raw",
   "metadata": {},
   "source": [
    "bqd[[\"填写答案1\"]].applymap(keep_num_char).to_csv('/Users/gongchenyin/PycharmProjects/ra/BQData-Formatting/src/temp1')"
   ]
  },
  {
   "cell_type": "markdown",
   "metadata": {},
   "source": [
    "### 去除大概、将近、以内、以上、以下、左右、多、几等等修饰语\n",
    "万：有效，但缺少数字，无效 ✅\n",
    "\n",
    "6: 小数字，但缺少万，改为6万\n",
    "\n",
    "将近6万：无效+有效 ✅\n",
    "\n",
    "几十万：无效+有效，但无效\n",
    "\n",
    "一万5: 需要转换成一万五千，而不是一万零五\n",
    "\n",
    "6万多：有效+无效 ✅\n",
    "\n",
    "六万多 ✅\n",
    "\n",
    "6万左右 ✅\n",
    "\n",
    "10多万：有效+无效+有效 ✅\n",
    "\n",
    "10几万 ✅\n",
    "\n",
    "大概10万左右：无效+有效+无效 ✅\n",
    "\n",
    "3万到5万：有效 + 无效 + 有效，取最后一个有效 ✅\n",
    "\n",
    "三到五万 ✅\n",
    "\n",
    "四五万\n",
    "\n",
    "4到5万 ✅\n",
    "\n",
    "6 7万 ✅\n",
    "\n",
    "7，8万 ✅"
   ]
  },
  {
   "cell_type": "code",
   "execution_count": 19,
   "metadata": {},
   "outputs": [],
   "source": [
    "valid_num = [\n",
    "    '〇', '一', '二', '三', '四', '五', '六', '七', '八', '九', '零', \n",
    "    '壹', '贰', '叁', '肆', '伍', '陆', '柒', '捌', '玖', '貮', '两',\n",
    "    '十', '拾'\n",
    "]\n",
    "\n",
    "valid_unit = [\n",
    "    '百', '佰', '千', '仟', '万', '萬', '亿', '億', '兆'\n",
    "]"
   ]
  },
  {
   "cell_type": "code",
   "execution_count": 20,
   "metadata": {},
   "outputs": [
    {
     "data": {
      "text/plain": [
       "'[^〇一二三四五六七八九零壹贰叁肆伍陆柒捌玖貮两十拾百佰千仟万萬亿億兆\\\\d]+'"
      ]
     },
     "execution_count": 20,
     "metadata": {},
     "output_type": "execute_result"
    }
   ],
   "source": [
    "re1 = '[^' + ''.join(valid_num) + ''.join(valid_unit) + '\\d]+'\n",
    "re1"
   ]
  },
  {
   "cell_type": "code",
   "execution_count": 21,
   "metadata": {},
   "outputs": [],
   "source": [
    "reObj1 = re.compile(re1)"
   ]
  },
  {
   "cell_type": "code",
   "execution_count": 22,
   "metadata": {},
   "outputs": [],
   "source": [
    "valid_char = [\n",
    "    '来', '多', '几', '左', '吧', '以', '之', '内'\n",
    "]"
   ]
  },
  {
   "cell_type": "code",
   "execution_count": 23,
   "metadata": {},
   "outputs": [
    {
     "data": {
      "text/plain": [
       "'[0-9〇一二三四五六七八九零壹贰叁肆伍陆柒捌玖貮两十拾]+[^0-9〇一二三四五六七八九零壹贰叁肆伍陆柒捌玖貮两十拾百佰千仟万萬亿億兆来多几左吧以之内元 ]+'"
      ]
     },
     "execution_count": 23,
     "metadata": {},
     "output_type": "execute_result"
    }
   ],
   "source": [
    "re2a = '[0-9' + ''.join(valid_num) + ']+'\n",
    "re2b = '[^0-9' + ''.join(valid_num) + ''.join(valid_unit) + ''.join(valid_char) + '元 ]+'\n",
    "re2 = re2a + re2b\n",
    "re2"
   ]
  },
  {
   "cell_type": "code",
   "execution_count": 24,
   "metadata": {},
   "outputs": [],
   "source": [
    "reObj2 = re.compile(re2)"
   ]
  },
  {
   "cell_type": "code",
   "execution_count": 25,
   "metadata": {},
   "outputs": [
    {
     "name": "stdout",
     "output_type": "stream",
     "text": [
      "不符合\n"
     ]
    }
   ],
   "source": [
    "if reObj2.search(\"134元\"):\n",
    "    print('符合')\n",
    "else:\n",
    "    print('不符合')"
   ]
  },
  {
   "cell_type": "code",
   "execution_count": 129,
   "metadata": {},
   "outputs": [
    {
     "data": {
      "text/plain": [
       "'[0-9〇一二三四五六七八九零壹贰叁肆伍陆柒捌玖貮两十拾百佰千仟万萬亿億兆]+[^0-9〇一二三四五六七八九零壹贰叁肆伍陆柒捌玖貮两十拾百佰千仟万萬亿億兆]+[0-9〇一二三四五六七八九零壹贰叁肆伍陆柒捌玖貮两十拾]+[百佰千仟万萬亿億兆]*'"
      ]
     },
     "execution_count": 129,
     "metadata": {},
     "output_type": "execute_result"
    }
   ],
   "source": [
    "re3a = '[0-9' + ''.join(valid_num) + ''.join(valid_unit) + ']+'\n",
    "re3b = '[^0-9' + ''.join(valid_num) + ''.join(valid_unit) + ']+'\n",
    "# re3b = '[^0-9' + ''.join(valid_num) + ''.join(valid_unit) + '来几元]+'\n",
    "re3c = '[0-9' + ''.join(valid_num) + ']+'\n",
    "re3d = '[' + ''.join(valid_unit) + ']*'\n",
    "re3 = re3a + re3b + re3c + re3d\n",
    "re3"
   ]
  },
  {
   "cell_type": "code",
   "execution_count": 130,
   "metadata": {},
   "outputs": [],
   "source": [
    "reObj3 = re.compile(re3)"
   ]
  },
  {
   "cell_type": "code",
   "execution_count": 133,
   "metadata": {},
   "outputs": [
    {
     "name": "stdout",
     "output_type": "stream",
     "text": [
      "不符合\n"
     ]
    }
   ],
   "source": [
    "if reObj3.search(\"10 万吧\"):\n",
    "    print('符合')\n",
    "else:\n",
    "    print('不符合')"
   ]
  },
  {
   "cell_type": "code",
   "execution_count": 29,
   "metadata": {},
   "outputs": [],
   "source": [
    "# 将字符串按数字、”万“、其他字符拆分为list\n",
    "def robust_clean(num) -> str:\n",
    "    # 先将num转化为str类型\n",
    "    num = str(num)\n",
    "    # 忽略多次出现数字字符的情形（空格也算分割点），如“1号113万”、“118. 25万”、”200 0万“、“2o万”\n",
    "    if reObj3.search(num):\n",
    "        return ''\n",
    "    # 忽略数字之后跟随非有效词缀的词/字，如“100号”，“一般”\n",
    "    if reObj2.search(num):\n",
    "        return ''\n",
    "    result = reObj1.sub('', num)\n",
    "    return result"
   ]
  },
  {
   "cell_type": "code",
   "execution_count": 30,
   "metadata": {},
   "outputs": [
    {
     "name": "stdout",
     "output_type": "stream",
     "text": [
      "一万5:  一万5\n",
      "100:  100\n",
      "20 20:  \n",
      "2o万:  \n",
      "2万 3:  \n",
      "30 万:  30万\n",
      "分担一些:  \n",
      "0鸭蛋:  \n",
      "五位数:  \n",
      "222. 10号:  \n",
      "一万，:  一万\n",
      "几十万:  十万\n",
      "10万多，将近11万:  \n",
      "10万，将近11万:  \n",
      "三四万:  三四万\n"
     ]
    }
   ],
   "source": [
    "def test4():\n",
    "    test_dig = ['一万5',\n",
    "                '100',\n",
    "                '20 20',\n",
    "                '2o万',\n",
    "                '2万 3',\n",
    "                '30 万',\n",
    "                '分担一些',\n",
    "                '0鸭蛋',\n",
    "                '五位数',\n",
    "                '222. 10号',\n",
    "                '一万，',\n",
    "                '几十万',\n",
    "                \"10万多，将近11万\",\n",
    "                \"10万，将近11万\",\n",
    "                \"三四万\"\n",
    "               ]       \n",
    "    for num in test_dig:\n",
    "        x = robust_clean(num)\n",
    "        print(num + ':  ' +  x)\n",
    "test4()"
   ]
  },
  {
   "cell_type": "code",
   "execution_count": 31,
   "metadata": {},
   "outputs": [],
   "source": [
    "bqd[[\"填写答案1\"]].applymap(robust_clean).to_csv('/Users/gongchenyin/PycharmProjects/ra/BQData-Formatting/src/temp2')"
   ]
  },
  {
   "cell_type": "markdown",
   "metadata": {},
   "source": [
    "## 五、统一数字表达为阿拉伯数字"
   ]
  },
  {
   "cell_type": "code",
   "execution_count": 32,
   "metadata": {},
   "outputs": [],
   "source": [
    "bqd[[\"填写答案1\"]].applymap(robust_clean).applymap(hybrid_to_arabic).to_csv('/Users/gongchenyin/PycharmProjects/ra/BQData-Formatting/src/temp3')"
   ]
  },
  {
   "cell_type": "code",
   "execution_count": 33,
   "metadata": {},
   "outputs": [
    {
     "data": {
      "text/plain": [
       "''"
      ]
     },
     "execution_count": 33,
     "metadata": {},
     "output_type": "execute_result"
    }
   ],
   "source": [
    "robust_clean(\"2o万\")"
   ]
  },
  {
   "cell_type": "code",
   "execution_count": 34,
   "metadata": {},
   "outputs": [],
   "source": [
    "df3 = bqd[[\"填写答案1\"]].applymap(robust_clean).applymap(hybrid_to_arabic)"
   ]
  },
  {
   "cell_type": "code",
   "execution_count": 35,
   "metadata": {},
   "outputs": [
    {
     "data": {
      "text/plain": [
       "0.2225"
      ]
     },
     "execution_count": 35,
     "metadata": {},
     "output_type": "execute_result"
    }
   ],
   "source": [
    "len(df3[np.isnan(df3[\"填写答案1\"])])/len(df3)"
   ]
  },
  {
   "cell_type": "markdown",
   "metadata": {},
   "source": [
    "## 测试"
   ]
  },
  {
   "cell_type": "code",
   "execution_count": 134,
   "metadata": {},
   "outputs": [
    {
     "name": "stdout",
     "output_type": "stream",
     "text": [
      "三万\n",
      "最开始： 3 万\n",
      "清洗后： 3万\n",
      "转换后： 30000\n"
     ]
    }
   ],
   "source": [
    "s1 = '3 万'\n",
    "s2 = robust_clean(s1)\n",
    "s3 = hybrid_to_arabic(s2)\n",
    "print('最开始：', s1)\n",
    "print('清洗后：', s2)\n",
    "print('转换后：', s3)"
   ]
  },
  {
   "cell_type": "markdown",
   "metadata": {},
   "source": [
    "## 六、文件读取"
   ]
  },
  {
   "cell_type": "code",
   "execution_count": 38,
   "metadata": {},
   "outputs": [],
   "source": [
    "file_path = '/Users/gongchenyin/PycharmProjects/ra/data/201907/BQD_v1_test/172.xlsx'"
   ]
  },
  {
   "cell_type": "code",
   "execution_count": 39,
   "metadata": {},
   "outputs": [],
   "source": [
    "read_df = pd.read_excel(file_path, sheet_name=0, header=None, skiprows=1)"
   ]
  },
  {
   "cell_type": "code",
   "execution_count": 40,
   "metadata": {},
   "outputs": [],
   "source": [
    "# 删除后面多余的空值列\n",
    "read_df.dropna(axis=1, how='all', inplace=True)"
   ]
  },
  {
   "cell_type": "code",
   "execution_count": 41,
   "metadata": {},
   "outputs": [
    {
     "data": {
      "text/html": [
       "<div>\n",
       "<style scoped>\n",
       "    .dataframe tbody tr th:only-of-type {\n",
       "        vertical-align: middle;\n",
       "    }\n",
       "\n",
       "    .dataframe tbody tr th {\n",
       "        vertical-align: top;\n",
       "    }\n",
       "\n",
       "    .dataframe thead th {\n",
       "        text-align: right;\n",
       "    }\n",
       "</style>\n",
       "<table border=\"1\" class=\"dataframe\">\n",
       "  <thead>\n",
       "    <tr style=\"text-align: right;\">\n",
       "      <th></th>\n",
       "      <th>0</th>\n",
       "      <th>1</th>\n",
       "      <th>2</th>\n",
       "      <th>3</th>\n",
       "      <th>4</th>\n",
       "      <th>5</th>\n",
       "      <th>6</th>\n",
       "      <th>7</th>\n",
       "    </tr>\n",
       "  </thead>\n",
       "  <tbody>\n",
       "    <tr>\n",
       "      <th>0</th>\n",
       "      <td>部门</td>\n",
       "      <td>姓名</td>\n",
       "      <td>编号</td>\n",
       "      <td>填写时间</td>\n",
       "      <td>问题1</td>\n",
       "      <td>NaN</td>\n",
       "      <td>问题2</td>\n",
       "      <td>NaN</td>\n",
       "    </tr>\n",
       "    <tr>\n",
       "      <th>1</th>\n",
       "      <td>NaN</td>\n",
       "      <td>NaN</td>\n",
       "      <td>NaN</td>\n",
       "      <td>NaN</td>\n",
       "      <td>问题</td>\n",
       "      <td>填写答案数字</td>\n",
       "      <td>问题</td>\n",
       "      <td>填写答案</td>\n",
       "    </tr>\n",
       "  </tbody>\n",
       "</table>\n",
       "</div>"
      ],
      "text/plain": [
       "     0    1    2     3    4       5    6     7\n",
       "0   部门   姓名   编号  填写时间  问题1     NaN  问题2   NaN\n",
       "1  NaN  NaN  NaN   NaN   问题  填写答案数字   问题  填写答案"
      ]
     },
     "execution_count": 41,
     "metadata": {},
     "output_type": "execute_result"
    }
   ],
   "source": [
    "read_df.head(2)"
   ]
  },
  {
   "cell_type": "code",
   "execution_count": 42,
   "metadata": {},
   "outputs": [],
   "source": [
    "# 将0、1两行的nan值填充为’‘，第1行的“问题”字符改为’‘，再将两列相加\n",
    "read_df.fillna('', inplace=True)"
   ]
  },
  {
   "cell_type": "code",
   "execution_count": 43,
   "metadata": {},
   "outputs": [
    {
     "data": {
      "text/html": [
       "<div>\n",
       "<style scoped>\n",
       "    .dataframe tbody tr th:only-of-type {\n",
       "        vertical-align: middle;\n",
       "    }\n",
       "\n",
       "    .dataframe tbody tr th {\n",
       "        vertical-align: top;\n",
       "    }\n",
       "\n",
       "    .dataframe thead th {\n",
       "        text-align: right;\n",
       "    }\n",
       "</style>\n",
       "<table border=\"1\" class=\"dataframe\">\n",
       "  <thead>\n",
       "    <tr style=\"text-align: right;\">\n",
       "      <th></th>\n",
       "      <th>0</th>\n",
       "      <th>1</th>\n",
       "      <th>2</th>\n",
       "      <th>3</th>\n",
       "      <th>4</th>\n",
       "      <th>5</th>\n",
       "      <th>6</th>\n",
       "      <th>7</th>\n",
       "    </tr>\n",
       "  </thead>\n",
       "  <tbody>\n",
       "    <tr>\n",
       "      <th>0</th>\n",
       "      <td>部门</td>\n",
       "      <td>姓名</td>\n",
       "      <td>编号</td>\n",
       "      <td>填写时间</td>\n",
       "      <td>问题1</td>\n",
       "      <td></td>\n",
       "      <td>问题2</td>\n",
       "      <td></td>\n",
       "    </tr>\n",
       "    <tr>\n",
       "      <th>1</th>\n",
       "      <td></td>\n",
       "      <td></td>\n",
       "      <td></td>\n",
       "      <td></td>\n",
       "      <td>问题</td>\n",
       "      <td>填写答案数字</td>\n",
       "      <td>问题</td>\n",
       "      <td>填写答案</td>\n",
       "    </tr>\n",
       "  </tbody>\n",
       "</table>\n",
       "</div>"
      ],
      "text/plain": [
       "    0   1   2     3    4       5    6     7\n",
       "0  部门  姓名  编号  填写时间  问题1          问题2      \n",
       "1                     问题  填写答案数字   问题  填写答案"
      ]
     },
     "execution_count": 43,
     "metadata": {},
     "output_type": "execute_result"
    }
   ],
   "source": [
    "read_df.head(2)"
   ]
  },
  {
   "cell_type": "code",
   "execution_count": 44,
   "metadata": {},
   "outputs": [],
   "source": [
    "row0 = read_df.iloc[0]\n",
    "row1 = read_df.iloc[1]"
   ]
  },
  {
   "cell_type": "code",
   "execution_count": 45,
   "metadata": {},
   "outputs": [],
   "source": [
    "row1.iloc[row1.values == '问题'] = ''"
   ]
  },
  {
   "cell_type": "code",
   "execution_count": 46,
   "metadata": {},
   "outputs": [],
   "source": [
    "header = row0 + row1"
   ]
  },
  {
   "cell_type": "code",
   "execution_count": 47,
   "metadata": {},
   "outputs": [],
   "source": [
    "# 将合并后的行作为变量名行插入\n",
    "read_df.drop([0,1], inplace=True)"
   ]
  },
  {
   "cell_type": "code",
   "execution_count": 48,
   "metadata": {},
   "outputs": [],
   "source": [
    "read_df.reset_index(drop=True, inplace=True)"
   ]
  },
  {
   "cell_type": "code",
   "execution_count": 49,
   "metadata": {},
   "outputs": [],
   "source": [
    "read_df.columns = header"
   ]
  },
  {
   "cell_type": "code",
   "execution_count": 50,
   "metadata": {},
   "outputs": [
    {
     "data": {
      "text/plain": [
       "True"
      ]
     },
     "execution_count": 50,
     "metadata": {},
     "output_type": "execute_result"
    }
   ],
   "source": [
    "\"填写答案数字\" in header.values"
   ]
  },
  {
   "cell_type": "code",
   "execution_count": 51,
   "metadata": {},
   "outputs": [
    {
     "data": {
      "text/html": [
       "<div>\n",
       "<style scoped>\n",
       "    .dataframe tbody tr th:only-of-type {\n",
       "        vertical-align: middle;\n",
       "    }\n",
       "\n",
       "    .dataframe tbody tr th {\n",
       "        vertical-align: top;\n",
       "    }\n",
       "\n",
       "    .dataframe thead th {\n",
       "        text-align: right;\n",
       "    }\n",
       "</style>\n",
       "<table border=\"1\" class=\"dataframe\">\n",
       "  <thead>\n",
       "    <tr style=\"text-align: right;\">\n",
       "      <th></th>\n",
       "      <th>部门</th>\n",
       "      <th>姓名</th>\n",
       "      <th>编号</th>\n",
       "      <th>填写时间</th>\n",
       "      <th>问题1</th>\n",
       "      <th>填写答案数字</th>\n",
       "      <th>问题2</th>\n",
       "      <th>填写答案</th>\n",
       "    </tr>\n",
       "  </thead>\n",
       "  <tbody>\n",
       "    <tr>\n",
       "      <th>0</th>\n",
       "      <td>北京鸟巢店</td>\n",
       "      <td>张学成</td>\n",
       "      <td>121110002</td>\n",
       "      <td>2019-05-22 00:00:00</td>\n",
       "      <td>您认为您所在门店上个月业绩最高的员工业绩(销售额)是多少</td>\n",
       "      <td>不知道</td>\n",
       "      <td>您对您的答案有多确定\\r\\n选项：A. 很确定,B. 比较确定,C. 一般,D. 不太确定,...</td>\n",
       "      <td>C. 一般</td>\n",
       "    </tr>\n",
       "    <tr>\n",
       "      <th>1</th>\n",
       "      <td>北京通州旗舰店</td>\n",
       "      <td>袁士兰</td>\n",
       "      <td>160505005</td>\n",
       "      <td>2019-05-22 00:00:00</td>\n",
       "      <td>您认为您所在门店上个月业绩最高的员工业绩(销售额)是多少</td>\n",
       "      <td>20万</td>\n",
       "      <td>您对您的答案有多确定\\r\\n选项：A. 很确定,B. 比较确定,C. 一般,D. 不太确定,...</td>\n",
       "      <td>D. 不太确定</td>\n",
       "    </tr>\n",
       "    <tr>\n",
       "      <th>2</th>\n",
       "      <td>北京万寿路店</td>\n",
       "      <td>杨建英</td>\n",
       "      <td>170228057</td>\n",
       "      <td>2019-05-22 00:00:00</td>\n",
       "      <td>您认为您所在门店上个月业绩最高的员工业绩(销售额)是多少</td>\n",
       "      <td>30</td>\n",
       "      <td>您对您的答案有多确定\\r\\n选项：A. 很确定,B. 比较确定,C. 一般,D. 不太确定,...</td>\n",
       "      <td>B. 比较确定</td>\n",
       "    </tr>\n",
       "    <tr>\n",
       "      <th>3</th>\n",
       "      <td>北京万寿路店</td>\n",
       "      <td>闫江梅</td>\n",
       "      <td>170301006</td>\n",
       "      <td>2019-05-22 00:00:00</td>\n",
       "      <td>您认为您所在门店上个月业绩最高的员工业绩(销售额)是多少</td>\n",
       "      <td>80万</td>\n",
       "      <td>您对您的答案有多确定\\r\\n选项：A. 很确定,B. 比较确定,C. 一般,D. 不太确定,...</td>\n",
       "      <td>A. 很确定</td>\n",
       "    </tr>\n",
       "    <tr>\n",
       "      <th>4</th>\n",
       "      <td>北京华彩店</td>\n",
       "      <td>杜瑞英</td>\n",
       "      <td>17030719</td>\n",
       "      <td>2019-05-22 00:00:00</td>\n",
       "      <td>您认为您所在门店上个月业绩最高的员工业绩(销售额)是多少</td>\n",
       "      <td>十万</td>\n",
       "      <td>您对您的答案有多确定\\r\\n选项：A. 很确定,B. 比较确定,C. 一般,D. 不太确定,...</td>\n",
       "      <td>C. 一般</td>\n",
       "    </tr>\n",
       "  </tbody>\n",
       "</table>\n",
       "</div>"
      ],
      "text/plain": [
       "        部门   姓名         编号                 填写时间                           问题1  \\\n",
       "0    北京鸟巢店  张学成  121110002  2019-05-22 00:00:00  您认为您所在门店上个月业绩最高的员工业绩(销售额)是多少   \n",
       "1  北京通州旗舰店  袁士兰  160505005  2019-05-22 00:00:00  您认为您所在门店上个月业绩最高的员工业绩(销售额)是多少   \n",
       "2   北京万寿路店  杨建英  170228057  2019-05-22 00:00:00  您认为您所在门店上个月业绩最高的员工业绩(销售额)是多少   \n",
       "3   北京万寿路店  闫江梅  170301006  2019-05-22 00:00:00  您认为您所在门店上个月业绩最高的员工业绩(销售额)是多少   \n",
       "4    北京华彩店  杜瑞英   17030719  2019-05-22 00:00:00  您认为您所在门店上个月业绩最高的员工业绩(销售额)是多少   \n",
       "\n",
       "  填写答案数字                                                问题2     填写答案  \n",
       "0    不知道  您对您的答案有多确定\\r\\n选项：A. 很确定,B. 比较确定,C. 一般,D. 不太确定,...    C. 一般  \n",
       "1    20万  您对您的答案有多确定\\r\\n选项：A. 很确定,B. 比较确定,C. 一般,D. 不太确定,...  D. 不太确定  \n",
       "2     30  您对您的答案有多确定\\r\\n选项：A. 很确定,B. 比较确定,C. 一般,D. 不太确定,...  B. 比较确定  \n",
       "3    80万  您对您的答案有多确定\\r\\n选项：A. 很确定,B. 比较确定,C. 一般,D. 不太确定,...   A. 很确定  \n",
       "4     十万  您对您的答案有多确定\\r\\n选项：A. 很确定,B. 比较确定,C. 一般,D. 不太确定,...    C. 一般  "
      ]
     },
     "execution_count": 51,
     "metadata": {},
     "output_type": "execute_result"
    }
   ],
   "source": [
    "read_df.head()"
   ]
  },
  {
   "cell_type": "code",
   "execution_count": 52,
   "metadata": {},
   "outputs": [],
   "source": [
    "# 获取“填写答案数字”的列索引值\n",
    "index_of_answer = 0\n",
    "for i in range(len(read_df.columns)):\n",
    "    if read_df.columns[i] == \"填写答案数字\":\n",
    "        index_of_answer = i"
   ]
  },
  {
   "cell_type": "code",
   "execution_count": 53,
   "metadata": {},
   "outputs": [],
   "source": [
    "read_df.insert(index_of_answer, \"填写答案数字（改）\", read_df[[\"填写答案数字\"]].applymap(robust_clean).applymap(hybrid_to_arabic))"
   ]
  },
  {
   "cell_type": "code",
   "execution_count": 54,
   "metadata": {},
   "outputs": [],
   "source": [
    "read_df.sort_values(by=\"填写答案数字（改）\", inplace=True)\n",
    "read_df.reset_index(drop=True, inplace=True)"
   ]
  },
  {
   "cell_type": "code",
   "execution_count": 55,
   "metadata": {},
   "outputs": [],
   "source": [
    "# 判断答案中是否包含“不清楚”、“不知道”等语句\n",
    "def unknown(answer: str) -> bool:\n",
    "    words = [\"不清楚\", \"不太清楚\", \"不知道\", \"不确定\", \"不太确定\", \"未知\"]\n",
    "    find = False\n",
    "    for word in words:\n",
    "        if answer.find(word) != -1:\n",
    "            find = True\n",
    "    return find"
   ]
  },
  {
   "cell_type": "code",
   "execution_count": 56,
   "metadata": {},
   "outputs": [],
   "source": [
    "read_df.insert(index_of_answer, \"填写答案数字（改+）\", read_df[[\"填写答案数字（改）\"]])\n",
    "read_df['排序标识符'] = 2"
   ]
  },
  {
   "cell_type": "code",
   "execution_count": 57,
   "metadata": {},
   "outputs": [],
   "source": [
    "# 插入另一列，将小于100的数字改为100,000；同时添加排序标识符，用于排序\n",
    "for i in range(len(read_df)):\n",
    "    answer = read_df.loc[i, \"填写答案数字（改）\"]\n",
    "    initial_answer = read_df.loc[i, \"填写答案数字\"]\n",
    "    if not np.isnan(answer):\n",
    "        read_df.loc[i, \"排序标识符\"] = 0\n",
    "    elif unknown(initial_answer):\n",
    "        read_df.loc[i, \"填写答案数字（改）\"] = \"不确定\"\n",
    "        read_df.loc[i, \"填写答案数字（改+）\"] = \"不确定\"\n",
    "        read_df.loc[i, \"排序标识符\"] = 1\n",
    "    if read_df.loc[i, \"排序标识符\"] == 0 and answer < 100:\n",
    "        read_df.loc[i, \"填写答案数字（改+）\"] = answer * 10000   "
   ]
  },
  {
   "cell_type": "code",
   "execution_count": 58,
   "metadata": {},
   "outputs": [],
   "source": [
    "read_df.sort_values(by=\"排序标识符\", kind='mergesort', inplace=True)\n",
    "read_df.reset_index(drop=True, inplace=True)"
   ]
  },
  {
   "cell_type": "code",
   "execution_count": 59,
   "metadata": {},
   "outputs": [],
   "source": [
    "read_df.to_excel(\"/Users/gongchenyin/PycharmProjects/ra/data/201907/BQD_v1_result/test.xlsx\")"
   ]
  },
  {
   "cell_type": "code",
   "execution_count": 60,
   "metadata": {},
   "outputs": [
    {
     "data": {
      "text/plain": [
       "0.88"
      ]
     },
     "execution_count": 60,
     "metadata": {},
     "output_type": "execute_result"
    }
   ],
   "source": [
    "# 修改率\n",
    "len(read_df[read_df[\"排序标识符\"] != 2])/len(read_df)"
   ]
  },
  {
   "cell_type": "markdown",
   "metadata": {},
   "source": [
    "## 七、循环遍历所有excel，读取、处理并写入新文件夹"
   ]
  },
  {
   "cell_type": "code",
   "execution_count": 61,
   "metadata": {},
   "outputs": [
    {
     "data": {
      "text/plain": [
       "['/Users/gongchenyin/PycharmProjects/ra/data/201907/BQD_v1_test/213.xlsx',\n",
       " '/Users/gongchenyin/PycharmProjects/ra/data/201907/BQD_v1_test/136.xlsx',\n",
       " '/Users/gongchenyin/PycharmProjects/ra/data/201907/BQD_v1_test/177.xlsx',\n",
       " '/Users/gongchenyin/PycharmProjects/ra/data/201907/BQD_v1_test/209.xlsx',\n",
       " '/Users/gongchenyin/PycharmProjects/ra/data/201907/BQD_v1_test/208.xlsx',\n",
       " '/Users/gongchenyin/PycharmProjects/ra/data/201907/BQD_v1_test/176.xlsx',\n",
       " '/Users/gongchenyin/PycharmProjects/ra/data/201907/BQD_v1_test/212.xlsx',\n",
       " '/Users/gongchenyin/PycharmProjects/ra/data/201907/BQD_v1_test/242.xlsx',\n",
       " '/Users/gongchenyin/PycharmProjects/ra/data/201907/BQD_v1_test/214.xlsx',\n",
       " '/Users/gongchenyin/PycharmProjects/ra/data/201907/BQD_v1_test/173.xlsx',\n",
       " '/Users/gongchenyin/PycharmProjects/ra/data/201907/BQD_v1_test/241.xlsx',\n",
       " '/Users/gongchenyin/PycharmProjects/ra/data/201907/BQD_v1_test/133.xlsx',\n",
       " '/Users/gongchenyin/PycharmProjects/ra/data/201907/BQD_v1_test/172.xlsx',\n",
       " '/Users/gongchenyin/PycharmProjects/ra/data/201907/BQD_v1_test/207.xlsx',\n",
       " '/Users/gongchenyin/PycharmProjects/ra/data/201907/BQD_v1_test/196.xlsx',\n",
       " '/Users/gongchenyin/PycharmProjects/ra/data/201907/BQD_v1_test/179.xlsx',\n",
       " '/Users/gongchenyin/PycharmProjects/ra/data/201907/BQD_v1_test/211.xlsx',\n",
       " '/Users/gongchenyin/PycharmProjects/ra/data/201907/BQD_v1_test/175.xlsx',\n",
       " '/Users/gongchenyin/PycharmProjects/ra/data/201907/BQD_v1_test/134.xlsx',\n",
       " '/Users/gongchenyin/PycharmProjects/ra/data/201907/BQD_v1_test/135.xlsx',\n",
       " '/Users/gongchenyin/PycharmProjects/ra/data/201907/BQD_v1_test/174.xlsx',\n",
       " '/Users/gongchenyin/PycharmProjects/ra/data/201907/BQD_v1_test/210.xlsx',\n",
       " '/Users/gongchenyin/PycharmProjects/ra/data/201907/BQD_v1_test/197.xlsx',\n",
       " '/Users/gongchenyin/PycharmProjects/ra/data/201907/BQD_v1_test/178.xlsx']"
      ]
     },
     "execution_count": 61,
     "metadata": {},
     "output_type": "execute_result"
    }
   ],
   "source": [
    "import os\n",
    "filelist=[]\n",
    "read_path = \"/Users/gongchenyin/PycharmProjects/ra/data/201907/BQD_v1_test\"\n",
    "for root, dirs, files in os.walk(read_path):\n",
    "    for name in files:\n",
    "        file_name =os.path.join(root, name)\n",
    "        if file_name.split('.')[-1]=='xlsx':\n",
    "            filelist.append(file_name)\n",
    "\n",
    "filelist"
   ]
  },
  {
   "cell_type": "markdown",
   "metadata": {},
   "source": [
    "## 八、百分数类问题数据转换"
   ]
  },
  {
   "cell_type": "code",
   "execution_count": 62,
   "metadata": {},
   "outputs": [],
   "source": [
    "valid_num_percent = [\n",
    "        '〇', '一', '二', '三', '四', '五', '六', '七', '八', '九', '零',\n",
    "        '壹', '贰', '叁', '肆', '伍', '陆', '柒', '捌', '玖', '貮', '两',\n",
    "        '十', '拾'\n",
    "    ]"
   ]
  },
  {
   "cell_type": "code",
   "execution_count": 63,
   "metadata": {},
   "outputs": [],
   "source": [
    "valid_char_percent = [\n",
    "        '来', '多', '几', '左', '吧', '以', '之', '内', '%'\n",
    "    ]"
   ]
  },
  {
   "cell_type": "code",
   "execution_count": 64,
   "metadata": {},
   "outputs": [],
   "source": [
    "re4 = '[^' + ''.join(valid_num_percent) + '\\\\d]+'\n",
    "reObj4 = re.compile(re4)"
   ]
  },
  {
   "cell_type": "code",
   "execution_count": 65,
   "metadata": {},
   "outputs": [],
   "source": [
    "re5a = '[0-9' + ''.join(valid_num_percent)  + ']+'\n",
    "re5b = '[^0-9' + ''.join(valid_num_percent) + ''.join(valid_char_percent) + ' ]+'\n",
    "re5 = re5a + re5b\n",
    "reObj5 = re.compile(re5)"
   ]
  },
  {
   "cell_type": "code",
   "execution_count": 66,
   "metadata": {},
   "outputs": [
    {
     "name": "stdout",
     "output_type": "stream",
     "text": [
      "不符合\n"
     ]
    }
   ],
   "source": [
    "if reObj5.search(\"60 %\"):\n",
    "    print('符合')\n",
    "else:\n",
    "    print('不符合')"
   ]
  },
  {
   "cell_type": "code",
   "execution_count": 67,
   "metadata": {},
   "outputs": [],
   "source": [
    "re6a = '[百分之0-9' + ''.join(valid_num_percent) + '%]+'\n",
    "re6b = '[^百分之0-9' + ''.join(valid_num_percent) + ']+'\n",
    "re6c = '[百分之0-9' + ''.join(valid_num_percent) + ']+'\n",
    "re6 = re6a + re6b + re6c\n",
    "reObj6 = re.compile(re6)"
   ]
  },
  {
   "cell_type": "code",
   "execution_count": 68,
   "metadata": {},
   "outputs": [
    {
     "name": "stdout",
     "output_type": "stream",
     "text": [
      "符合\n"
     ]
    }
   ],
   "source": [
    "if reObj6.search(\"10% 10%\"):\n",
    "    print('符合')\n",
    "else:\n",
    "    print('不符合')"
   ]
  },
  {
   "cell_type": "code",
   "execution_count": 69,
   "metadata": {},
   "outputs": [],
   "source": [
    "def robust_clean_percent(num) -> str:\n",
    "    # 先将num转化为str类型\n",
    "    num = str(num)\n",
    "    words = [\"百分之百\", \"百分百\", \"百分之一百\", \"一百\", \"所有\", \"全部\"]\n",
    "    for word in words:\n",
    "        if num.find(word) != -1:\n",
    "            return '100'\n",
    "    # 忽略多次出现数字字符的情形（空格也算分割点），如“1% 80%”、“118. 25%”、”200 0%“、“2o%”\n",
    "    if reObj6.search(num):\n",
    "        return ''\n",
    "    # 忽略数字之后跟随非有效词缀的词/字，如“100号”，“一般”\n",
    "    if reObj5.search(num):\n",
    "        return ''\n",
    "    result = reObj4.sub('', num)\n",
    "    # 如果转换后的值大于100，返回空值\n",
    "    if result.isdigit():\n",
    "        if int(result) > 100:\n",
    "            return ''\n",
    "    return result"
   ]
  },
  {
   "cell_type": "code",
   "execution_count": 70,
   "metadata": {},
   "outputs": [
    {
     "name": "stdout",
     "output_type": "stream",
     "text": [
      "最开始： 10多\n",
      "清洗后： 10\n",
      "转换后： 10\n"
     ]
    }
   ],
   "source": [
    "s11 = '10多'\n",
    "s22 = robust_clean_percent(s11)\n",
    "s33 = hybrid_to_arabic(s22)\n",
    "print('最开始：', s11)\n",
    "print('清洗后：', s22)\n",
    "print('转换后：', s33)"
   ]
  },
  {
   "cell_type": "markdown",
   "metadata": {},
   "source": [
    "## 九、选择题答案量化"
   ]
  },
  {
   "cell_type": "code",
   "execution_count": 71,
   "metadata": {},
   "outputs": [
    {
     "data": {
      "text/html": [
       "<div>\n",
       "<style scoped>\n",
       "    .dataframe tbody tr th:only-of-type {\n",
       "        vertical-align: middle;\n",
       "    }\n",
       "\n",
       "    .dataframe tbody tr th {\n",
       "        vertical-align: top;\n",
       "    }\n",
       "\n",
       "    .dataframe thead th {\n",
       "        text-align: right;\n",
       "    }\n",
       "</style>\n",
       "<table border=\"1\" class=\"dataframe\">\n",
       "  <thead>\n",
       "    <tr style=\"text-align: right;\">\n",
       "      <th></th>\n",
       "      <th>部门</th>\n",
       "      <th>姓名</th>\n",
       "      <th>编号</th>\n",
       "      <th>填写时间</th>\n",
       "      <th>问题1</th>\n",
       "      <th>填写答案数字（改+）</th>\n",
       "      <th>填写答案数字（改）</th>\n",
       "      <th>填写答案数字</th>\n",
       "      <th>问题2</th>\n",
       "      <th>填写答案</th>\n",
       "      <th>排序标识符</th>\n",
       "    </tr>\n",
       "  </thead>\n",
       "  <tbody>\n",
       "    <tr>\n",
       "      <th>0</th>\n",
       "      <td>北京新双井店</td>\n",
       "      <td>杨秀斌</td>\n",
       "      <td>981101001</td>\n",
       "      <td>2019-05-22 00:00:00</td>\n",
       "      <td>您认为您所在门店上个月业绩最高的员工业绩(销售额)是多少</td>\n",
       "      <td>0</td>\n",
       "      <td>0</td>\n",
       "      <td>0</td>\n",
       "      <td>您对您的答案有多确定\\r\\n选项：A. 很确定,B. 比较确定,C. 一般,D. 不太确定,...</td>\n",
       "      <td>B. 比较确定</td>\n",
       "      <td>0</td>\n",
       "    </tr>\n",
       "    <tr>\n",
       "      <th>1</th>\n",
       "      <td>即墨文化路店</td>\n",
       "      <td>梁军拴</td>\n",
       "      <td>170730018</td>\n",
       "      <td>2019-05-22 00:00:00</td>\n",
       "      <td>您认为您所在门店上个月业绩最高的员工业绩(销售额)是多少</td>\n",
       "      <td>0</td>\n",
       "      <td>0</td>\n",
       "      <td>0</td>\n",
       "      <td>您对您的答案有多确定\\r\\n选项：A. 很确定,B. 比较确定,C. 一般,D. 不太确定,...</td>\n",
       "      <td>E. 很不确定</td>\n",
       "      <td>0</td>\n",
       "    </tr>\n",
       "  </tbody>\n",
       "</table>\n",
       "</div>"
      ],
      "text/plain": [
       "       部门   姓名         编号                 填写时间                           问题1  \\\n",
       "0  北京新双井店  杨秀斌  981101001  2019-05-22 00:00:00  您认为您所在门店上个月业绩最高的员工业绩(销售额)是多少   \n",
       "1  即墨文化路店  梁军拴  170730018  2019-05-22 00:00:00  您认为您所在门店上个月业绩最高的员工业绩(销售额)是多少   \n",
       "\n",
       "  填写答案数字（改+） 填写答案数字（改） 填写答案数字  \\\n",
       "0          0         0      0   \n",
       "1          0         0      0   \n",
       "\n",
       "                                                 问题2     填写答案  排序标识符  \n",
       "0  您对您的答案有多确定\\r\\n选项：A. 很确定,B. 比较确定,C. 一般,D. 不太确定,...  B. 比较确定      0  \n",
       "1  您对您的答案有多确定\\r\\n选项：A. 很确定,B. 比较确定,C. 一般,D. 不太确定,...  E. 很不确定      0  "
      ]
     },
     "execution_count": 71,
     "metadata": {},
     "output_type": "execute_result"
    }
   ],
   "source": [
    "read_df.head(2)"
   ]
  },
  {
   "cell_type": "code",
   "execution_count": 72,
   "metadata": {},
   "outputs": [
    {
     "data": {
      "text/plain": [
       "-1"
      ]
     },
     "execution_count": 72,
     "metadata": {},
     "output_type": "execute_result"
    }
   ],
   "source": [
    "read_df[\"填写答案\"].iloc[0].find(\"A\")"
   ]
  },
  {
   "cell_type": "code",
   "execution_count": 73,
   "metadata": {},
   "outputs": [],
   "source": [
    "def quantify(answer: str) -> int:\n",
    "    if answer.find(\"A\") != -1:\n",
    "        return 5\n",
    "    elif answer.find(\"B\") != -1:\n",
    "        return 4\n",
    "    elif answer.find(\"C\") != -1:\n",
    "        return 3\n",
    "    elif answer.find(\"D\") != -1:\n",
    "        return 2\n",
    "    elif answer.find(\"E\") != -1:\n",
    "        return 1\n",
    "    elif answer.find(\"F\") != -1:\n",
    "        return 0\n",
    "    else:\n",
    "        return np.nan"
   ]
  },
  {
   "cell_type": "code",
   "execution_count": 74,
   "metadata": {},
   "outputs": [],
   "source": [
    "for i in range(len(read_df.columns)):\n",
    "    if read_df.columns[i] == \"填写答案\":\n",
    "        index_of_answer = i\n",
    "read_df.insert(index_of_answer, \"填写答案（改）\", read_df[[\"填写答案\"]].applymap(quantify))"
   ]
  },
  {
   "cell_type": "code",
   "execution_count": 75,
   "metadata": {},
   "outputs": [
    {
     "data": {
      "text/html": [
       "<div>\n",
       "<style scoped>\n",
       "    .dataframe tbody tr th:only-of-type {\n",
       "        vertical-align: middle;\n",
       "    }\n",
       "\n",
       "    .dataframe tbody tr th {\n",
       "        vertical-align: top;\n",
       "    }\n",
       "\n",
       "    .dataframe thead th {\n",
       "        text-align: right;\n",
       "    }\n",
       "</style>\n",
       "<table border=\"1\" class=\"dataframe\">\n",
       "  <thead>\n",
       "    <tr style=\"text-align: right;\">\n",
       "      <th></th>\n",
       "      <th>部门</th>\n",
       "      <th>姓名</th>\n",
       "      <th>编号</th>\n",
       "      <th>填写时间</th>\n",
       "      <th>问题1</th>\n",
       "      <th>填写答案数字（改+）</th>\n",
       "      <th>填写答案数字（改）</th>\n",
       "      <th>填写答案数字</th>\n",
       "      <th>问题2</th>\n",
       "      <th>填写答案（改）</th>\n",
       "      <th>填写答案</th>\n",
       "      <th>排序标识符</th>\n",
       "    </tr>\n",
       "  </thead>\n",
       "  <tbody>\n",
       "    <tr>\n",
       "      <th>0</th>\n",
       "      <td>北京新双井店</td>\n",
       "      <td>杨秀斌</td>\n",
       "      <td>981101001</td>\n",
       "      <td>2019-05-22 00:00:00</td>\n",
       "      <td>您认为您所在门店上个月业绩最高的员工业绩(销售额)是多少</td>\n",
       "      <td>0</td>\n",
       "      <td>0</td>\n",
       "      <td>0</td>\n",
       "      <td>您对您的答案有多确定\\r\\n选项：A. 很确定,B. 比较确定,C. 一般,D. 不太确定,...</td>\n",
       "      <td>4</td>\n",
       "      <td>B. 比较确定</td>\n",
       "      <td>0</td>\n",
       "    </tr>\n",
       "    <tr>\n",
       "      <th>1</th>\n",
       "      <td>即墨文化路店</td>\n",
       "      <td>梁军拴</td>\n",
       "      <td>170730018</td>\n",
       "      <td>2019-05-22 00:00:00</td>\n",
       "      <td>您认为您所在门店上个月业绩最高的员工业绩(销售额)是多少</td>\n",
       "      <td>0</td>\n",
       "      <td>0</td>\n",
       "      <td>0</td>\n",
       "      <td>您对您的答案有多确定\\r\\n选项：A. 很确定,B. 比较确定,C. 一般,D. 不太确定,...</td>\n",
       "      <td>1</td>\n",
       "      <td>E. 很不确定</td>\n",
       "      <td>0</td>\n",
       "    </tr>\n",
       "    <tr>\n",
       "      <th>2</th>\n",
       "      <td>北京新双井店</td>\n",
       "      <td>刘少雄</td>\n",
       "      <td>190508045</td>\n",
       "      <td>2019-05-22 00:00:00</td>\n",
       "      <td>您认为您所在门店上个月业绩最高的员工业绩(销售额)是多少</td>\n",
       "      <td>0</td>\n",
       "      <td>0</td>\n",
       "      <td>0</td>\n",
       "      <td>您对您的答案有多确定\\r\\n选项：A. 很确定,B. 比较确定,C. 一般,D. 不太确定,...</td>\n",
       "      <td>3</td>\n",
       "      <td>C. 一般</td>\n",
       "      <td>0</td>\n",
       "    </tr>\n",
       "    <tr>\n",
       "      <th>3</th>\n",
       "      <td>胶南灵山路店</td>\n",
       "      <td>王丹丹</td>\n",
       "      <td>170730052</td>\n",
       "      <td>2019-05-22 00:00:00</td>\n",
       "      <td>您认为您所在门店上个月业绩最高的员工业绩(销售额)是多少</td>\n",
       "      <td>0</td>\n",
       "      <td>0</td>\n",
       "      <td>0</td>\n",
       "      <td>您对您的答案有多确定\\r\\n选项：A. 很确定,B. 比较确定,C. 一般,D. 不太确定,...</td>\n",
       "      <td>5</td>\n",
       "      <td>A. 很确定</td>\n",
       "      <td>0</td>\n",
       "    </tr>\n",
       "    <tr>\n",
       "      <th>4</th>\n",
       "      <td>黄岛桂冠店</td>\n",
       "      <td>宋茂利</td>\n",
       "      <td>180923012</td>\n",
       "      <td>2019-05-22 00:00:00</td>\n",
       "      <td>您认为您所在门店上个月业绩最高的员工业绩(销售额)是多少</td>\n",
       "      <td>10000</td>\n",
       "      <td>1</td>\n",
       "      <td>1</td>\n",
       "      <td>您对您的答案有多确定\\r\\n选项：A. 很确定,B. 比较确定,C. 一般,D. 不太确定,...</td>\n",
       "      <td>5</td>\n",
       "      <td>A. 很确定</td>\n",
       "      <td>0</td>\n",
       "    </tr>\n",
       "  </tbody>\n",
       "</table>\n",
       "</div>"
      ],
      "text/plain": [
       "       部门   姓名         编号                 填写时间                           问题1  \\\n",
       "0  北京新双井店  杨秀斌  981101001  2019-05-22 00:00:00  您认为您所在门店上个月业绩最高的员工业绩(销售额)是多少   \n",
       "1  即墨文化路店  梁军拴  170730018  2019-05-22 00:00:00  您认为您所在门店上个月业绩最高的员工业绩(销售额)是多少   \n",
       "2  北京新双井店  刘少雄  190508045  2019-05-22 00:00:00  您认为您所在门店上个月业绩最高的员工业绩(销售额)是多少   \n",
       "3  胶南灵山路店  王丹丹  170730052  2019-05-22 00:00:00  您认为您所在门店上个月业绩最高的员工业绩(销售额)是多少   \n",
       "4   黄岛桂冠店  宋茂利  180923012  2019-05-22 00:00:00  您认为您所在门店上个月业绩最高的员工业绩(销售额)是多少   \n",
       "\n",
       "  填写答案数字（改+） 填写答案数字（改） 填写答案数字  \\\n",
       "0          0         0      0   \n",
       "1          0         0      0   \n",
       "2          0         0      0   \n",
       "3          0         0      0   \n",
       "4      10000         1      1   \n",
       "\n",
       "                                                 问题2  填写答案（改）     填写答案  排序标识符  \n",
       "0  您对您的答案有多确定\\r\\n选项：A. 很确定,B. 比较确定,C. 一般,D. 不太确定,...        4  B. 比较确定      0  \n",
       "1  您对您的答案有多确定\\r\\n选项：A. 很确定,B. 比较确定,C. 一般,D. 不太确定,...        1  E. 很不确定      0  \n",
       "2  您对您的答案有多确定\\r\\n选项：A. 很确定,B. 比较确定,C. 一般,D. 不太确定,...        3    C. 一般      0  \n",
       "3  您对您的答案有多确定\\r\\n选项：A. 很确定,B. 比较确定,C. 一般,D. 不太确定,...        5   A. 很确定      0  \n",
       "4  您对您的答案有多确定\\r\\n选项：A. 很确定,B. 比较确定,C. 一般,D. 不太确定,...        5   A. 很确定      0  "
      ]
     },
     "execution_count": 75,
     "metadata": {},
     "output_type": "execute_result"
    }
   ],
   "source": [
    "read_df.head()"
   ]
  },
  {
   "cell_type": "code",
   "execution_count": null,
   "metadata": {},
   "outputs": [],
   "source": []
  }
 ],
 "metadata": {
  "kernelspec": {
   "display_name": "Python 3",
   "language": "python",
   "name": "python3"
  },
  "language_info": {
   "codemirror_mode": {
    "name": "ipython",
    "version": 3
   },
   "file_extension": ".py",
   "mimetype": "text/x-python",
   "name": "python",
   "nbconvert_exporter": "python",
   "pygments_lexer": "ipython3",
   "version": "3.7.3"
  }
 },
 "nbformat": 4,
 "nbformat_minor": 2
}
